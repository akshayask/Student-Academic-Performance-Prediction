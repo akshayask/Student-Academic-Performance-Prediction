{
  "nbformat": 4,
  "nbformat_minor": 0,
  "metadata": {
    "colab": {
      "name": "decisiontree_project.ipynb",
      "provenance": [],
      "collapsed_sections": [],
      "include_colab_link": true
    },
    "kernelspec": {
      "name": "python3",
      "display_name": "Python 3"
    },
    "language_info": {
      "name": "python"
    }
  },
  "cells": [
    {
      "cell_type": "markdown",
      "metadata": {
        "id": "view-in-github",
        "colab_type": "text"
      },
      "source": [
        "<a href=\"https://colab.research.google.com/github/akshayask/Student-Academic-Performance-Prediction/blob/main/decisiontree_project.ipynb\" target=\"_parent\"><img src=\"https://colab.research.google.com/assets/colab-badge.svg\" alt=\"Open In Colab\"/></a>"
      ]
    },
    {
      "cell_type": "markdown",
      "metadata": {
        "id": "qnhL2rbeAxD9"
      },
      "source": [
        "# Import libraries"
      ]
    },
    {
      "cell_type": "code",
      "metadata": {
        "id": "XtchyV0GA0Vz"
      },
      "source": [
        "import numpy as np # linear algebra\n",
        "import pandas as pd # data processing, CSV file I/O (e.g. pd.read_csv)\n",
        "import matplotlib.pyplot as plt # data visualization\n",
        "import seaborn as sns # statistical data visualization\n",
        "%matplotlib inline"
      ],
      "execution_count": null,
      "outputs": []
    },
    {
      "cell_type": "code",
      "metadata": {
        "id": "eqF0bCihBCS6"
      },
      "source": [
        "import warnings\n",
        "\n",
        "warnings.filterwarnings('ignore')"
      ],
      "execution_count": null,
      "outputs": []
    },
    {
      "cell_type": "markdown",
      "metadata": {
        "id": "x_HYg0mWBFVg"
      },
      "source": [
        "# Import dataset"
      ]
    },
    {
      "cell_type": "code",
      "metadata": {
        "colab": {
          "resources": {
            "http://localhost:8080/nbextensions/google.colab/files.js": {
              "data": "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",
              "ok": true,
              "headers": [
                [
                  "content-type",
                  "application/javascript"
                ]
              ],
              "status": 200,
              "status_text": ""
            }
          },
          "base_uri": "https://localhost:8080/",
          "height": 72
        },
        "id": "5nbO02tBBG4O",
        "outputId": "5f4910ff-db01-4926-fdec-cbee17c6491a"
      },
      "source": [
        "from google.colab import files\n",
        "uploaded = files.upload()"
      ],
      "execution_count": null,
      "outputs": [
        {
          "output_type": "display_data",
          "data": {
            "text/html": [
              "\n",
              "     <input type=\"file\" id=\"files-73716f34-22c8-431d-b132-39640c29cd1a\" name=\"files[]\" multiple disabled\n",
              "        style=\"border:none\" />\n",
              "     <output id=\"result-73716f34-22c8-431d-b132-39640c29cd1a\">\n",
              "      Upload widget is only available when the cell has been executed in the\n",
              "      current browser session. Please rerun this cell to enable.\n",
              "      </output>\n",
              "      <script src=\"/nbextensions/google.colab/files.js\"></script> "
            ],
            "text/plain": [
              "<IPython.core.display.HTML object>"
            ]
          },
          "metadata": {
            "tags": []
          }
        },
        {
          "output_type": "stream",
          "text": [
            "Saving training.csv to training.csv\n"
          ],
          "name": "stdout"
        }
      ]
    },
    {
      "cell_type": "code",
      "metadata": {
        "id": "pECZcaafBcUG"
      },
      "source": [
        " df= pd.read_csv(\"training.csv\")"
      ],
      "execution_count": null,
      "outputs": []
    },
    {
      "cell_type": "markdown",
      "metadata": {
        "id": "vp_svDyABx_K"
      },
      "source": [
        "# Exploratory data analysis "
      ]
    },
    {
      "cell_type": "code",
      "metadata": {
        "colab": {
          "base_uri": "https://localhost:8080/"
        },
        "id": "QxnYUzvJBzh_",
        "outputId": "7c968dda-58dc-4b88-c709-5e7ea231863f"
      },
      "source": [
        "df.shape"
      ],
      "execution_count": null,
      "outputs": [
        {
          "output_type": "execute_result",
          "data": {
            "text/plain": [
              "(1044, 51)"
            ]
          },
          "metadata": {
            "tags": []
          },
          "execution_count": 6
        }
      ]
    },
    {
      "cell_type": "code",
      "metadata": {
        "colab": {
          "base_uri": "https://localhost:8080/",
          "height": 326
        },
        "id": "0yVkSmlQB5gx",
        "outputId": "5afd3411-55fc-4b13-9664-fdf2b05085a6"
      },
      "source": [
        "df.head()"
      ],
      "execution_count": null,
      "outputs": [
        {
          "output_type": "execute_result",
          "data": {
            "text/html": [
              "<div>\n",
              "<style scoped>\n",
              "    .dataframe tbody tr th:only-of-type {\n",
              "        vertical-align: middle;\n",
              "    }\n",
              "\n",
              "    .dataframe tbody tr th {\n",
              "        vertical-align: top;\n",
              "    }\n",
              "\n",
              "    .dataframe thead th {\n",
              "        text-align: right;\n",
              "    }\n",
              "</style>\n",
              "<table border=\"1\" class=\"dataframe\">\n",
              "  <thead>\n",
              "    <tr style=\"text-align: right;\">\n",
              "      <th></th>\n",
              "      <th>Unnamed: 0</th>\n",
              "      <th>school</th>\n",
              "      <th>sex</th>\n",
              "      <th>age</th>\n",
              "      <th>address</th>\n",
              "      <th>famsize</th>\n",
              "      <th>Pstatus</th>\n",
              "      <th>Medu</th>\n",
              "      <th>Fedu</th>\n",
              "      <th>Mjob</th>\n",
              "      <th>Fjob</th>\n",
              "      <th>reason</th>\n",
              "      <th>guardian</th>\n",
              "      <th>traveltime</th>\n",
              "      <th>studytime</th>\n",
              "      <th>failures</th>\n",
              "      <th>schoolsup</th>\n",
              "      <th>famsup</th>\n",
              "      <th>paid</th>\n",
              "      <th>activities</th>\n",
              "      <th>nursery</th>\n",
              "      <th>higher</th>\n",
              "      <th>internet</th>\n",
              "      <th>romantic</th>\n",
              "      <th>famrel</th>\n",
              "      <th>freetime</th>\n",
              "      <th>goout</th>\n",
              "      <th>Dalc</th>\n",
              "      <th>Walc</th>\n",
              "      <th>health</th>\n",
              "      <th>absences</th>\n",
              "      <th>G1</th>\n",
              "      <th>G2</th>\n",
              "      <th>G3</th>\n",
              "      <th>subject</th>\n",
              "      <th>FinalGrade</th>\n",
              "      <th>Regularity</th>\n",
              "      <th>GradeG1</th>\n",
              "      <th>GradeG2</th>\n",
              "      <th>FinalGrade_cat</th>\n",
              "      <th>Regularity_cat</th>\n",
              "      <th>school_cat</th>\n",
              "      <th>GradeG1_cat</th>\n",
              "      <th>GradeG2_cat</th>\n",
              "      <th>reason_cat</th>\n",
              "      <th>Mjob_cat</th>\n",
              "      <th>Fjob_cat</th>\n",
              "      <th>guardian_cat</th>\n",
              "      <th>famsize_cat</th>\n",
              "      <th>address_cat</th>\n",
              "      <th>sex_cat</th>\n",
              "    </tr>\n",
              "  </thead>\n",
              "  <tbody>\n",
              "    <tr>\n",
              "      <th>0</th>\n",
              "      <td>0</td>\n",
              "      <td>GP</td>\n",
              "      <td>F</td>\n",
              "      <td>18</td>\n",
              "      <td>U</td>\n",
              "      <td>0</td>\n",
              "      <td>A</td>\n",
              "      <td>4</td>\n",
              "      <td>4</td>\n",
              "      <td>at_home</td>\n",
              "      <td>teacher</td>\n",
              "      <td>course</td>\n",
              "      <td>mother</td>\n",
              "      <td>2</td>\n",
              "      <td>2</td>\n",
              "      <td>0</td>\n",
              "      <td>yes</td>\n",
              "      <td>no</td>\n",
              "      <td>no</td>\n",
              "      <td>no</td>\n",
              "      <td>yes</td>\n",
              "      <td>yes</td>\n",
              "      <td>no</td>\n",
              "      <td>no</td>\n",
              "      <td>4</td>\n",
              "      <td>3</td>\n",
              "      <td>4</td>\n",
              "      <td>1</td>\n",
              "      <td>1</td>\n",
              "      <td>3</td>\n",
              "      <td>6</td>\n",
              "      <td>5</td>\n",
              "      <td>6</td>\n",
              "      <td>6</td>\n",
              "      <td>maths</td>\n",
              "      <td>Poor</td>\n",
              "      <td>Always regular</td>\n",
              "      <td>Failure</td>\n",
              "      <td>Poor</td>\n",
              "      <td>3</td>\n",
              "      <td>0</td>\n",
              "      <td>0</td>\n",
              "      <td>1</td>\n",
              "      <td>3</td>\n",
              "      <td>0</td>\n",
              "      <td>0</td>\n",
              "      <td>4</td>\n",
              "      <td>1</td>\n",
              "      <td>0</td>\n",
              "      <td>1</td>\n",
              "      <td>0</td>\n",
              "    </tr>\n",
              "    <tr>\n",
              "      <th>1</th>\n",
              "      <td>1</td>\n",
              "      <td>GP</td>\n",
              "      <td>F</td>\n",
              "      <td>17</td>\n",
              "      <td>U</td>\n",
              "      <td>0</td>\n",
              "      <td>T</td>\n",
              "      <td>1</td>\n",
              "      <td>1</td>\n",
              "      <td>at_home</td>\n",
              "      <td>other</td>\n",
              "      <td>course</td>\n",
              "      <td>father</td>\n",
              "      <td>1</td>\n",
              "      <td>2</td>\n",
              "      <td>0</td>\n",
              "      <td>no</td>\n",
              "      <td>yes</td>\n",
              "      <td>no</td>\n",
              "      <td>no</td>\n",
              "      <td>no</td>\n",
              "      <td>yes</td>\n",
              "      <td>yes</td>\n",
              "      <td>no</td>\n",
              "      <td>5</td>\n",
              "      <td>3</td>\n",
              "      <td>3</td>\n",
              "      <td>1</td>\n",
              "      <td>1</td>\n",
              "      <td>3</td>\n",
              "      <td>4</td>\n",
              "      <td>5</td>\n",
              "      <td>5</td>\n",
              "      <td>6</td>\n",
              "      <td>maths</td>\n",
              "      <td>Poor</td>\n",
              "      <td>Always regular</td>\n",
              "      <td>Failure</td>\n",
              "      <td>Failure</td>\n",
              "      <td>3</td>\n",
              "      <td>0</td>\n",
              "      <td>0</td>\n",
              "      <td>1</td>\n",
              "      <td>1</td>\n",
              "      <td>0</td>\n",
              "      <td>0</td>\n",
              "      <td>2</td>\n",
              "      <td>0</td>\n",
              "      <td>0</td>\n",
              "      <td>1</td>\n",
              "      <td>0</td>\n",
              "    </tr>\n",
              "    <tr>\n",
              "      <th>2</th>\n",
              "      <td>2</td>\n",
              "      <td>GP</td>\n",
              "      <td>F</td>\n",
              "      <td>15</td>\n",
              "      <td>U</td>\n",
              "      <td>1</td>\n",
              "      <td>T</td>\n",
              "      <td>1</td>\n",
              "      <td>1</td>\n",
              "      <td>at_home</td>\n",
              "      <td>other</td>\n",
              "      <td>other</td>\n",
              "      <td>mother</td>\n",
              "      <td>1</td>\n",
              "      <td>2</td>\n",
              "      <td>3</td>\n",
              "      <td>yes</td>\n",
              "      <td>no</td>\n",
              "      <td>yes</td>\n",
              "      <td>no</td>\n",
              "      <td>yes</td>\n",
              "      <td>yes</td>\n",
              "      <td>yes</td>\n",
              "      <td>no</td>\n",
              "      <td>4</td>\n",
              "      <td>3</td>\n",
              "      <td>2</td>\n",
              "      <td>2</td>\n",
              "      <td>3</td>\n",
              "      <td>3</td>\n",
              "      <td>10</td>\n",
              "      <td>7</td>\n",
              "      <td>8</td>\n",
              "      <td>10</td>\n",
              "      <td>maths</td>\n",
              "      <td>Poor</td>\n",
              "      <td>Mostly regular</td>\n",
              "      <td>Poor</td>\n",
              "      <td>Poor</td>\n",
              "      <td>3</td>\n",
              "      <td>2</td>\n",
              "      <td>0</td>\n",
              "      <td>3</td>\n",
              "      <td>3</td>\n",
              "      <td>2</td>\n",
              "      <td>0</td>\n",
              "      <td>2</td>\n",
              "      <td>1</td>\n",
              "      <td>1</td>\n",
              "      <td>1</td>\n",
              "      <td>0</td>\n",
              "    </tr>\n",
              "    <tr>\n",
              "      <th>3</th>\n",
              "      <td>3</td>\n",
              "      <td>GP</td>\n",
              "      <td>F</td>\n",
              "      <td>15</td>\n",
              "      <td>U</td>\n",
              "      <td>0</td>\n",
              "      <td>T</td>\n",
              "      <td>4</td>\n",
              "      <td>2</td>\n",
              "      <td>health</td>\n",
              "      <td>services</td>\n",
              "      <td>home</td>\n",
              "      <td>mother</td>\n",
              "      <td>1</td>\n",
              "      <td>3</td>\n",
              "      <td>0</td>\n",
              "      <td>no</td>\n",
              "      <td>yes</td>\n",
              "      <td>yes</td>\n",
              "      <td>yes</td>\n",
              "      <td>yes</td>\n",
              "      <td>yes</td>\n",
              "      <td>yes</td>\n",
              "      <td>yes</td>\n",
              "      <td>3</td>\n",
              "      <td>2</td>\n",
              "      <td>2</td>\n",
              "      <td>1</td>\n",
              "      <td>1</td>\n",
              "      <td>5</td>\n",
              "      <td>2</td>\n",
              "      <td>15</td>\n",
              "      <td>14</td>\n",
              "      <td>15</td>\n",
              "      <td>maths</td>\n",
              "      <td>Good</td>\n",
              "      <td>Always regular</td>\n",
              "      <td>Good</td>\n",
              "      <td>Satisfactory</td>\n",
              "      <td>2</td>\n",
              "      <td>0</td>\n",
              "      <td>0</td>\n",
              "      <td>2</td>\n",
              "      <td>4</td>\n",
              "      <td>1</td>\n",
              "      <td>1</td>\n",
              "      <td>3</td>\n",
              "      <td>1</td>\n",
              "      <td>0</td>\n",
              "      <td>1</td>\n",
              "      <td>0</td>\n",
              "    </tr>\n",
              "    <tr>\n",
              "      <th>4</th>\n",
              "      <td>4</td>\n",
              "      <td>GP</td>\n",
              "      <td>F</td>\n",
              "      <td>16</td>\n",
              "      <td>U</td>\n",
              "      <td>0</td>\n",
              "      <td>T</td>\n",
              "      <td>3</td>\n",
              "      <td>3</td>\n",
              "      <td>other</td>\n",
              "      <td>other</td>\n",
              "      <td>home</td>\n",
              "      <td>father</td>\n",
              "      <td>1</td>\n",
              "      <td>2</td>\n",
              "      <td>0</td>\n",
              "      <td>no</td>\n",
              "      <td>yes</td>\n",
              "      <td>yes</td>\n",
              "      <td>no</td>\n",
              "      <td>yes</td>\n",
              "      <td>yes</td>\n",
              "      <td>no</td>\n",
              "      <td>no</td>\n",
              "      <td>4</td>\n",
              "      <td>3</td>\n",
              "      <td>2</td>\n",
              "      <td>1</td>\n",
              "      <td>2</td>\n",
              "      <td>5</td>\n",
              "      <td>4</td>\n",
              "      <td>6</td>\n",
              "      <td>10</td>\n",
              "      <td>10</td>\n",
              "      <td>maths</td>\n",
              "      <td>Poor</td>\n",
              "      <td>Always regular</td>\n",
              "      <td>Poor</td>\n",
              "      <td>Poor</td>\n",
              "      <td>3</td>\n",
              "      <td>0</td>\n",
              "      <td>0</td>\n",
              "      <td>3</td>\n",
              "      <td>3</td>\n",
              "      <td>1</td>\n",
              "      <td>2</td>\n",
              "      <td>2</td>\n",
              "      <td>0</td>\n",
              "      <td>0</td>\n",
              "      <td>1</td>\n",
              "      <td>0</td>\n",
              "    </tr>\n",
              "  </tbody>\n",
              "</table>\n",
              "</div>"
            ],
            "text/plain": [
              "   Unnamed: 0 school sex  age  ... guardian_cat  famsize_cat address_cat  sex_cat\n",
              "0           0     GP   F   18  ...            1            0           1        0\n",
              "1           1     GP   F   17  ...            0            0           1        0\n",
              "2           2     GP   F   15  ...            1            1           1        0\n",
              "3           3     GP   F   15  ...            1            0           1        0\n",
              "4           4     GP   F   16  ...            0            0           1        0\n",
              "\n",
              "[5 rows x 51 columns]"
            ]
          },
          "metadata": {
            "tags": []
          },
          "execution_count": 7
        }
      ]
    },
    {
      "cell_type": "code",
      "metadata": {
        "id": "rE5_5eJRDHYb"
      },
      "source": [
        "df = df.loc[:, ~df.columns.str.contains('^Unnamed')]"
      ],
      "execution_count": null,
      "outputs": []
    },
    {
      "cell_type": "code",
      "metadata": {
        "colab": {
          "base_uri": "https://localhost:8080/",
          "height": 309
        },
        "id": "ncIHVz5yDJlE",
        "outputId": "e3cb9471-aa4a-4b20-b8ee-d464c4888a63"
      },
      "source": [
        "df.head()"
      ],
      "execution_count": null,
      "outputs": [
        {
          "output_type": "execute_result",
          "data": {
            "text/html": [
              "<div>\n",
              "<style scoped>\n",
              "    .dataframe tbody tr th:only-of-type {\n",
              "        vertical-align: middle;\n",
              "    }\n",
              "\n",
              "    .dataframe tbody tr th {\n",
              "        vertical-align: top;\n",
              "    }\n",
              "\n",
              "    .dataframe thead th {\n",
              "        text-align: right;\n",
              "    }\n",
              "</style>\n",
              "<table border=\"1\" class=\"dataframe\">\n",
              "  <thead>\n",
              "    <tr style=\"text-align: right;\">\n",
              "      <th></th>\n",
              "      <th>school</th>\n",
              "      <th>sex</th>\n",
              "      <th>age</th>\n",
              "      <th>address</th>\n",
              "      <th>famsize</th>\n",
              "      <th>Pstatus</th>\n",
              "      <th>Medu</th>\n",
              "      <th>Fedu</th>\n",
              "      <th>Mjob</th>\n",
              "      <th>Fjob</th>\n",
              "      <th>reason</th>\n",
              "      <th>guardian</th>\n",
              "      <th>traveltime</th>\n",
              "      <th>studytime</th>\n",
              "      <th>failures</th>\n",
              "      <th>schoolsup</th>\n",
              "      <th>famsup</th>\n",
              "      <th>paid</th>\n",
              "      <th>activities</th>\n",
              "      <th>nursery</th>\n",
              "      <th>higher</th>\n",
              "      <th>internet</th>\n",
              "      <th>romantic</th>\n",
              "      <th>famrel</th>\n",
              "      <th>freetime</th>\n",
              "      <th>goout</th>\n",
              "      <th>Dalc</th>\n",
              "      <th>Walc</th>\n",
              "      <th>health</th>\n",
              "      <th>absences</th>\n",
              "      <th>G1</th>\n",
              "      <th>G2</th>\n",
              "      <th>G3</th>\n",
              "      <th>subject</th>\n",
              "      <th>FinalGrade</th>\n",
              "      <th>Regularity</th>\n",
              "      <th>GradeG1</th>\n",
              "      <th>GradeG2</th>\n",
              "      <th>FinalGrade_cat</th>\n",
              "      <th>Regularity_cat</th>\n",
              "      <th>school_cat</th>\n",
              "      <th>GradeG1_cat</th>\n",
              "      <th>GradeG2_cat</th>\n",
              "      <th>reason_cat</th>\n",
              "      <th>Mjob_cat</th>\n",
              "      <th>Fjob_cat</th>\n",
              "      <th>guardian_cat</th>\n",
              "      <th>famsize_cat</th>\n",
              "      <th>address_cat</th>\n",
              "      <th>sex_cat</th>\n",
              "    </tr>\n",
              "  </thead>\n",
              "  <tbody>\n",
              "    <tr>\n",
              "      <th>0</th>\n",
              "      <td>GP</td>\n",
              "      <td>F</td>\n",
              "      <td>18</td>\n",
              "      <td>U</td>\n",
              "      <td>0</td>\n",
              "      <td>A</td>\n",
              "      <td>4</td>\n",
              "      <td>4</td>\n",
              "      <td>at_home</td>\n",
              "      <td>teacher</td>\n",
              "      <td>course</td>\n",
              "      <td>mother</td>\n",
              "      <td>2</td>\n",
              "      <td>2</td>\n",
              "      <td>0</td>\n",
              "      <td>yes</td>\n",
              "      <td>no</td>\n",
              "      <td>no</td>\n",
              "      <td>no</td>\n",
              "      <td>yes</td>\n",
              "      <td>yes</td>\n",
              "      <td>no</td>\n",
              "      <td>no</td>\n",
              "      <td>4</td>\n",
              "      <td>3</td>\n",
              "      <td>4</td>\n",
              "      <td>1</td>\n",
              "      <td>1</td>\n",
              "      <td>3</td>\n",
              "      <td>6</td>\n",
              "      <td>5</td>\n",
              "      <td>6</td>\n",
              "      <td>6</td>\n",
              "      <td>maths</td>\n",
              "      <td>Poor</td>\n",
              "      <td>Always regular</td>\n",
              "      <td>Failure</td>\n",
              "      <td>Poor</td>\n",
              "      <td>3</td>\n",
              "      <td>0</td>\n",
              "      <td>0</td>\n",
              "      <td>1</td>\n",
              "      <td>3</td>\n",
              "      <td>0</td>\n",
              "      <td>0</td>\n",
              "      <td>4</td>\n",
              "      <td>1</td>\n",
              "      <td>0</td>\n",
              "      <td>1</td>\n",
              "      <td>0</td>\n",
              "    </tr>\n",
              "    <tr>\n",
              "      <th>1</th>\n",
              "      <td>GP</td>\n",
              "      <td>F</td>\n",
              "      <td>17</td>\n",
              "      <td>U</td>\n",
              "      <td>0</td>\n",
              "      <td>T</td>\n",
              "      <td>1</td>\n",
              "      <td>1</td>\n",
              "      <td>at_home</td>\n",
              "      <td>other</td>\n",
              "      <td>course</td>\n",
              "      <td>father</td>\n",
              "      <td>1</td>\n",
              "      <td>2</td>\n",
              "      <td>0</td>\n",
              "      <td>no</td>\n",
              "      <td>yes</td>\n",
              "      <td>no</td>\n",
              "      <td>no</td>\n",
              "      <td>no</td>\n",
              "      <td>yes</td>\n",
              "      <td>yes</td>\n",
              "      <td>no</td>\n",
              "      <td>5</td>\n",
              "      <td>3</td>\n",
              "      <td>3</td>\n",
              "      <td>1</td>\n",
              "      <td>1</td>\n",
              "      <td>3</td>\n",
              "      <td>4</td>\n",
              "      <td>5</td>\n",
              "      <td>5</td>\n",
              "      <td>6</td>\n",
              "      <td>maths</td>\n",
              "      <td>Poor</td>\n",
              "      <td>Always regular</td>\n",
              "      <td>Failure</td>\n",
              "      <td>Failure</td>\n",
              "      <td>3</td>\n",
              "      <td>0</td>\n",
              "      <td>0</td>\n",
              "      <td>1</td>\n",
              "      <td>1</td>\n",
              "      <td>0</td>\n",
              "      <td>0</td>\n",
              "      <td>2</td>\n",
              "      <td>0</td>\n",
              "      <td>0</td>\n",
              "      <td>1</td>\n",
              "      <td>0</td>\n",
              "    </tr>\n",
              "    <tr>\n",
              "      <th>2</th>\n",
              "      <td>GP</td>\n",
              "      <td>F</td>\n",
              "      <td>15</td>\n",
              "      <td>U</td>\n",
              "      <td>1</td>\n",
              "      <td>T</td>\n",
              "      <td>1</td>\n",
              "      <td>1</td>\n",
              "      <td>at_home</td>\n",
              "      <td>other</td>\n",
              "      <td>other</td>\n",
              "      <td>mother</td>\n",
              "      <td>1</td>\n",
              "      <td>2</td>\n",
              "      <td>3</td>\n",
              "      <td>yes</td>\n",
              "      <td>no</td>\n",
              "      <td>yes</td>\n",
              "      <td>no</td>\n",
              "      <td>yes</td>\n",
              "      <td>yes</td>\n",
              "      <td>yes</td>\n",
              "      <td>no</td>\n",
              "      <td>4</td>\n",
              "      <td>3</td>\n",
              "      <td>2</td>\n",
              "      <td>2</td>\n",
              "      <td>3</td>\n",
              "      <td>3</td>\n",
              "      <td>10</td>\n",
              "      <td>7</td>\n",
              "      <td>8</td>\n",
              "      <td>10</td>\n",
              "      <td>maths</td>\n",
              "      <td>Poor</td>\n",
              "      <td>Mostly regular</td>\n",
              "      <td>Poor</td>\n",
              "      <td>Poor</td>\n",
              "      <td>3</td>\n",
              "      <td>2</td>\n",
              "      <td>0</td>\n",
              "      <td>3</td>\n",
              "      <td>3</td>\n",
              "      <td>2</td>\n",
              "      <td>0</td>\n",
              "      <td>2</td>\n",
              "      <td>1</td>\n",
              "      <td>1</td>\n",
              "      <td>1</td>\n",
              "      <td>0</td>\n",
              "    </tr>\n",
              "    <tr>\n",
              "      <th>3</th>\n",
              "      <td>GP</td>\n",
              "      <td>F</td>\n",
              "      <td>15</td>\n",
              "      <td>U</td>\n",
              "      <td>0</td>\n",
              "      <td>T</td>\n",
              "      <td>4</td>\n",
              "      <td>2</td>\n",
              "      <td>health</td>\n",
              "      <td>services</td>\n",
              "      <td>home</td>\n",
              "      <td>mother</td>\n",
              "      <td>1</td>\n",
              "      <td>3</td>\n",
              "      <td>0</td>\n",
              "      <td>no</td>\n",
              "      <td>yes</td>\n",
              "      <td>yes</td>\n",
              "      <td>yes</td>\n",
              "      <td>yes</td>\n",
              "      <td>yes</td>\n",
              "      <td>yes</td>\n",
              "      <td>yes</td>\n",
              "      <td>3</td>\n",
              "      <td>2</td>\n",
              "      <td>2</td>\n",
              "      <td>1</td>\n",
              "      <td>1</td>\n",
              "      <td>5</td>\n",
              "      <td>2</td>\n",
              "      <td>15</td>\n",
              "      <td>14</td>\n",
              "      <td>15</td>\n",
              "      <td>maths</td>\n",
              "      <td>Good</td>\n",
              "      <td>Always regular</td>\n",
              "      <td>Good</td>\n",
              "      <td>Satisfactory</td>\n",
              "      <td>2</td>\n",
              "      <td>0</td>\n",
              "      <td>0</td>\n",
              "      <td>2</td>\n",
              "      <td>4</td>\n",
              "      <td>1</td>\n",
              "      <td>1</td>\n",
              "      <td>3</td>\n",
              "      <td>1</td>\n",
              "      <td>0</td>\n",
              "      <td>1</td>\n",
              "      <td>0</td>\n",
              "    </tr>\n",
              "    <tr>\n",
              "      <th>4</th>\n",
              "      <td>GP</td>\n",
              "      <td>F</td>\n",
              "      <td>16</td>\n",
              "      <td>U</td>\n",
              "      <td>0</td>\n",
              "      <td>T</td>\n",
              "      <td>3</td>\n",
              "      <td>3</td>\n",
              "      <td>other</td>\n",
              "      <td>other</td>\n",
              "      <td>home</td>\n",
              "      <td>father</td>\n",
              "      <td>1</td>\n",
              "      <td>2</td>\n",
              "      <td>0</td>\n",
              "      <td>no</td>\n",
              "      <td>yes</td>\n",
              "      <td>yes</td>\n",
              "      <td>no</td>\n",
              "      <td>yes</td>\n",
              "      <td>yes</td>\n",
              "      <td>no</td>\n",
              "      <td>no</td>\n",
              "      <td>4</td>\n",
              "      <td>3</td>\n",
              "      <td>2</td>\n",
              "      <td>1</td>\n",
              "      <td>2</td>\n",
              "      <td>5</td>\n",
              "      <td>4</td>\n",
              "      <td>6</td>\n",
              "      <td>10</td>\n",
              "      <td>10</td>\n",
              "      <td>maths</td>\n",
              "      <td>Poor</td>\n",
              "      <td>Always regular</td>\n",
              "      <td>Poor</td>\n",
              "      <td>Poor</td>\n",
              "      <td>3</td>\n",
              "      <td>0</td>\n",
              "      <td>0</td>\n",
              "      <td>3</td>\n",
              "      <td>3</td>\n",
              "      <td>1</td>\n",
              "      <td>2</td>\n",
              "      <td>2</td>\n",
              "      <td>0</td>\n",
              "      <td>0</td>\n",
              "      <td>1</td>\n",
              "      <td>0</td>\n",
              "    </tr>\n",
              "  </tbody>\n",
              "</table>\n",
              "</div>"
            ],
            "text/plain": [
              "  school sex  age address  ...  guardian_cat famsize_cat  address_cat  sex_cat\n",
              "0     GP   F   18       U  ...             1           0            1        0\n",
              "1     GP   F   17       U  ...             0           0            1        0\n",
              "2     GP   F   15       U  ...             1           1            1        0\n",
              "3     GP   F   15       U  ...             1           0            1        0\n",
              "4     GP   F   16       U  ...             0           0            1        0\n",
              "\n",
              "[5 rows x 50 columns]"
            ]
          },
          "metadata": {
            "tags": []
          },
          "execution_count": 9
        }
      ]
    },
    {
      "cell_type": "markdown",
      "metadata": {
        "id": "XNwKYTwuDWPp"
      },
      "source": [
        "View summary of dataset\n"
      ]
    },
    {
      "cell_type": "code",
      "metadata": {
        "colab": {
          "base_uri": "https://localhost:8080/"
        },
        "id": "VCVAs8rRDXEX",
        "outputId": "e370e791-cb16-4c02-ab48-c175b6b19599"
      },
      "source": [
        "df.info()"
      ],
      "execution_count": null,
      "outputs": [
        {
          "output_type": "stream",
          "text": [
            "<class 'pandas.core.frame.DataFrame'>\n",
            "RangeIndex: 1044 entries, 0 to 1043\n",
            "Data columns (total 50 columns):\n",
            " #   Column          Non-Null Count  Dtype \n",
            "---  ------          --------------  ----- \n",
            " 0   school          1044 non-null   object\n",
            " 1   sex             1044 non-null   object\n",
            " 2   age             1044 non-null   int64 \n",
            " 3   address         1044 non-null   object\n",
            " 4   famsize         1044 non-null   int64 \n",
            " 5   Pstatus         1044 non-null   object\n",
            " 6   Medu            1044 non-null   int64 \n",
            " 7   Fedu            1044 non-null   int64 \n",
            " 8   Mjob            1044 non-null   object\n",
            " 9   Fjob            1044 non-null   object\n",
            " 10  reason          1044 non-null   object\n",
            " 11  guardian        1044 non-null   object\n",
            " 12  traveltime      1044 non-null   int64 \n",
            " 13  studytime       1044 non-null   int64 \n",
            " 14  failures        1044 non-null   int64 \n",
            " 15  schoolsup       1044 non-null   object\n",
            " 16  famsup          1044 non-null   object\n",
            " 17  paid            1044 non-null   object\n",
            " 18  activities      1044 non-null   object\n",
            " 19  nursery         1044 non-null   object\n",
            " 20  higher          1044 non-null   object\n",
            " 21  internet        1044 non-null   object\n",
            " 22  romantic        1044 non-null   object\n",
            " 23  famrel          1044 non-null   int64 \n",
            " 24  freetime        1044 non-null   int64 \n",
            " 25  goout           1044 non-null   int64 \n",
            " 26  Dalc            1044 non-null   int64 \n",
            " 27  Walc            1044 non-null   int64 \n",
            " 28  health          1044 non-null   int64 \n",
            " 29  absences        1044 non-null   int64 \n",
            " 30  G1              1044 non-null   int64 \n",
            " 31  G2              1044 non-null   int64 \n",
            " 32  G3              1044 non-null   int64 \n",
            " 33  subject         1044 non-null   object\n",
            " 34  FinalGrade      1044 non-null   object\n",
            " 35  Regularity      1044 non-null   object\n",
            " 36  GradeG1         1044 non-null   object\n",
            " 37  GradeG2         1044 non-null   object\n",
            " 38  FinalGrade_cat  1044 non-null   int64 \n",
            " 39  Regularity_cat  1044 non-null   int64 \n",
            " 40  school_cat      1044 non-null   int64 \n",
            " 41  GradeG1_cat     1044 non-null   int64 \n",
            " 42  GradeG2_cat     1044 non-null   int64 \n",
            " 43  reason_cat      1044 non-null   int64 \n",
            " 44  Mjob_cat        1044 non-null   int64 \n",
            " 45  Fjob_cat        1044 non-null   int64 \n",
            " 46  guardian_cat    1044 non-null   int64 \n",
            " 47  famsize_cat     1044 non-null   int64 \n",
            " 48  address_cat     1044 non-null   int64 \n",
            " 49  sex_cat         1044 non-null   int64 \n",
            "dtypes: int64(29), object(21)\n",
            "memory usage: 407.9+ KB\n"
          ],
          "name": "stdout"
        }
      ]
    },
    {
      "cell_type": "code",
      "metadata": {
        "id": "z_Uo-JMrgEoK"
      },
      "source": [
        ""
      ],
      "execution_count": null,
      "outputs": []
    },
    {
      "cell_type": "code",
      "metadata": {
        "colab": {
          "base_uri": "https://localhost:8080/",
          "height": 309
        },
        "id": "pTsAa3v6Hcpz",
        "outputId": "cef025d1-5db0-4fd1-cdd7-8709c73ca368"
      },
      "source": [
        "df1=df.copy()\n",
        "df1 = df1.drop(columns=[\"G3\",\"FinalGrade_cat\",\"Regularity_cat\",\t\"school_cat\",\t\"GradeG1_cat\"\t,\"GradeG2_cat\"\t,\"reason_cat\"\t,\"Mjob_cat\"\t,\"Fjob_cat\"\t,\"guardian_cat\"\t,\"famsize_cat\"\t,\"address_cat\", \"sex_cat\"],axis=1)\n",
        "df1.head()"
      ],
      "execution_count": null,
      "outputs": [
        {
          "output_type": "execute_result",
          "data": {
            "text/html": [
              "<div>\n",
              "<style scoped>\n",
              "    .dataframe tbody tr th:only-of-type {\n",
              "        vertical-align: middle;\n",
              "    }\n",
              "\n",
              "    .dataframe tbody tr th {\n",
              "        vertical-align: top;\n",
              "    }\n",
              "\n",
              "    .dataframe thead th {\n",
              "        text-align: right;\n",
              "    }\n",
              "</style>\n",
              "<table border=\"1\" class=\"dataframe\">\n",
              "  <thead>\n",
              "    <tr style=\"text-align: right;\">\n",
              "      <th></th>\n",
              "      <th>school</th>\n",
              "      <th>sex</th>\n",
              "      <th>age</th>\n",
              "      <th>address</th>\n",
              "      <th>famsize</th>\n",
              "      <th>Pstatus</th>\n",
              "      <th>Medu</th>\n",
              "      <th>Fedu</th>\n",
              "      <th>Mjob</th>\n",
              "      <th>Fjob</th>\n",
              "      <th>reason</th>\n",
              "      <th>guardian</th>\n",
              "      <th>traveltime</th>\n",
              "      <th>studytime</th>\n",
              "      <th>failures</th>\n",
              "      <th>schoolsup</th>\n",
              "      <th>famsup</th>\n",
              "      <th>paid</th>\n",
              "      <th>activities</th>\n",
              "      <th>nursery</th>\n",
              "      <th>higher</th>\n",
              "      <th>internet</th>\n",
              "      <th>romantic</th>\n",
              "      <th>famrel</th>\n",
              "      <th>freetime</th>\n",
              "      <th>goout</th>\n",
              "      <th>Dalc</th>\n",
              "      <th>Walc</th>\n",
              "      <th>health</th>\n",
              "      <th>absences</th>\n",
              "      <th>G1</th>\n",
              "      <th>G2</th>\n",
              "      <th>subject</th>\n",
              "      <th>FinalGrade</th>\n",
              "      <th>Regularity</th>\n",
              "      <th>GradeG1</th>\n",
              "      <th>GradeG2</th>\n",
              "    </tr>\n",
              "  </thead>\n",
              "  <tbody>\n",
              "    <tr>\n",
              "      <th>0</th>\n",
              "      <td>GP</td>\n",
              "      <td>F</td>\n",
              "      <td>18</td>\n",
              "      <td>U</td>\n",
              "      <td>0</td>\n",
              "      <td>A</td>\n",
              "      <td>4</td>\n",
              "      <td>4</td>\n",
              "      <td>at_home</td>\n",
              "      <td>teacher</td>\n",
              "      <td>course</td>\n",
              "      <td>mother</td>\n",
              "      <td>2</td>\n",
              "      <td>2</td>\n",
              "      <td>0</td>\n",
              "      <td>yes</td>\n",
              "      <td>no</td>\n",
              "      <td>no</td>\n",
              "      <td>no</td>\n",
              "      <td>yes</td>\n",
              "      <td>yes</td>\n",
              "      <td>no</td>\n",
              "      <td>no</td>\n",
              "      <td>4</td>\n",
              "      <td>3</td>\n",
              "      <td>4</td>\n",
              "      <td>1</td>\n",
              "      <td>1</td>\n",
              "      <td>3</td>\n",
              "      <td>6</td>\n",
              "      <td>5</td>\n",
              "      <td>6</td>\n",
              "      <td>maths</td>\n",
              "      <td>Poor</td>\n",
              "      <td>Always regular</td>\n",
              "      <td>Failure</td>\n",
              "      <td>Poor</td>\n",
              "    </tr>\n",
              "    <tr>\n",
              "      <th>1</th>\n",
              "      <td>GP</td>\n",
              "      <td>F</td>\n",
              "      <td>17</td>\n",
              "      <td>U</td>\n",
              "      <td>0</td>\n",
              "      <td>T</td>\n",
              "      <td>1</td>\n",
              "      <td>1</td>\n",
              "      <td>at_home</td>\n",
              "      <td>other</td>\n",
              "      <td>course</td>\n",
              "      <td>father</td>\n",
              "      <td>1</td>\n",
              "      <td>2</td>\n",
              "      <td>0</td>\n",
              "      <td>no</td>\n",
              "      <td>yes</td>\n",
              "      <td>no</td>\n",
              "      <td>no</td>\n",
              "      <td>no</td>\n",
              "      <td>yes</td>\n",
              "      <td>yes</td>\n",
              "      <td>no</td>\n",
              "      <td>5</td>\n",
              "      <td>3</td>\n",
              "      <td>3</td>\n",
              "      <td>1</td>\n",
              "      <td>1</td>\n",
              "      <td>3</td>\n",
              "      <td>4</td>\n",
              "      <td>5</td>\n",
              "      <td>5</td>\n",
              "      <td>maths</td>\n",
              "      <td>Poor</td>\n",
              "      <td>Always regular</td>\n",
              "      <td>Failure</td>\n",
              "      <td>Failure</td>\n",
              "    </tr>\n",
              "    <tr>\n",
              "      <th>2</th>\n",
              "      <td>GP</td>\n",
              "      <td>F</td>\n",
              "      <td>15</td>\n",
              "      <td>U</td>\n",
              "      <td>1</td>\n",
              "      <td>T</td>\n",
              "      <td>1</td>\n",
              "      <td>1</td>\n",
              "      <td>at_home</td>\n",
              "      <td>other</td>\n",
              "      <td>other</td>\n",
              "      <td>mother</td>\n",
              "      <td>1</td>\n",
              "      <td>2</td>\n",
              "      <td>3</td>\n",
              "      <td>yes</td>\n",
              "      <td>no</td>\n",
              "      <td>yes</td>\n",
              "      <td>no</td>\n",
              "      <td>yes</td>\n",
              "      <td>yes</td>\n",
              "      <td>yes</td>\n",
              "      <td>no</td>\n",
              "      <td>4</td>\n",
              "      <td>3</td>\n",
              "      <td>2</td>\n",
              "      <td>2</td>\n",
              "      <td>3</td>\n",
              "      <td>3</td>\n",
              "      <td>10</td>\n",
              "      <td>7</td>\n",
              "      <td>8</td>\n",
              "      <td>maths</td>\n",
              "      <td>Poor</td>\n",
              "      <td>Mostly regular</td>\n",
              "      <td>Poor</td>\n",
              "      <td>Poor</td>\n",
              "    </tr>\n",
              "    <tr>\n",
              "      <th>3</th>\n",
              "      <td>GP</td>\n",
              "      <td>F</td>\n",
              "      <td>15</td>\n",
              "      <td>U</td>\n",
              "      <td>0</td>\n",
              "      <td>T</td>\n",
              "      <td>4</td>\n",
              "      <td>2</td>\n",
              "      <td>health</td>\n",
              "      <td>services</td>\n",
              "      <td>home</td>\n",
              "      <td>mother</td>\n",
              "      <td>1</td>\n",
              "      <td>3</td>\n",
              "      <td>0</td>\n",
              "      <td>no</td>\n",
              "      <td>yes</td>\n",
              "      <td>yes</td>\n",
              "      <td>yes</td>\n",
              "      <td>yes</td>\n",
              "      <td>yes</td>\n",
              "      <td>yes</td>\n",
              "      <td>yes</td>\n",
              "      <td>3</td>\n",
              "      <td>2</td>\n",
              "      <td>2</td>\n",
              "      <td>1</td>\n",
              "      <td>1</td>\n",
              "      <td>5</td>\n",
              "      <td>2</td>\n",
              "      <td>15</td>\n",
              "      <td>14</td>\n",
              "      <td>maths</td>\n",
              "      <td>Good</td>\n",
              "      <td>Always regular</td>\n",
              "      <td>Good</td>\n",
              "      <td>Satisfactory</td>\n",
              "    </tr>\n",
              "    <tr>\n",
              "      <th>4</th>\n",
              "      <td>GP</td>\n",
              "      <td>F</td>\n",
              "      <td>16</td>\n",
              "      <td>U</td>\n",
              "      <td>0</td>\n",
              "      <td>T</td>\n",
              "      <td>3</td>\n",
              "      <td>3</td>\n",
              "      <td>other</td>\n",
              "      <td>other</td>\n",
              "      <td>home</td>\n",
              "      <td>father</td>\n",
              "      <td>1</td>\n",
              "      <td>2</td>\n",
              "      <td>0</td>\n",
              "      <td>no</td>\n",
              "      <td>yes</td>\n",
              "      <td>yes</td>\n",
              "      <td>no</td>\n",
              "      <td>yes</td>\n",
              "      <td>yes</td>\n",
              "      <td>no</td>\n",
              "      <td>no</td>\n",
              "      <td>4</td>\n",
              "      <td>3</td>\n",
              "      <td>2</td>\n",
              "      <td>1</td>\n",
              "      <td>2</td>\n",
              "      <td>5</td>\n",
              "      <td>4</td>\n",
              "      <td>6</td>\n",
              "      <td>10</td>\n",
              "      <td>maths</td>\n",
              "      <td>Poor</td>\n",
              "      <td>Always regular</td>\n",
              "      <td>Poor</td>\n",
              "      <td>Poor</td>\n",
              "    </tr>\n",
              "  </tbody>\n",
              "</table>\n",
              "</div>"
            ],
            "text/plain": [
              "  school sex  age address  ...  FinalGrade      Regularity  GradeG1       GradeG2\n",
              "0     GP   F   18       U  ...        Poor  Always regular  Failure          Poor\n",
              "1     GP   F   17       U  ...        Poor  Always regular  Failure       Failure\n",
              "2     GP   F   15       U  ...        Poor  Mostly regular     Poor          Poor\n",
              "3     GP   F   15       U  ...        Good  Always regular     Good  Satisfactory\n",
              "4     GP   F   16       U  ...        Poor  Always regular     Poor          Poor\n",
              "\n",
              "[5 rows x 37 columns]"
            ]
          },
          "metadata": {
            "tags": []
          },
          "execution_count": 11
        }
      ]
    },
    {
      "cell_type": "markdown",
      "metadata": {
        "id": "wArOedBXDfoh"
      },
      "source": [
        "Frequency distribution of values in variables"
      ]
    },
    {
      "cell_type": "code",
      "metadata": {
        "colab": {
          "base_uri": "https://localhost:8080/"
        },
        "id": "tdda1xwlDgQQ",
        "outputId": "b8e600e8-2d05-4895-c510-d4ed550ef1df"
      },
      "source": [
        "col_names = [\"school\",\"sex\",\t\"age\",\t\"address\",\t\"famsize\",\t\"Pstatus\",\t\"Medu\",\t\"Fedu\",\t\"Mjob\",\t\"Fjob\",\t\"reason\",\t\"guardian\",\t\"traveltime\",\t\"studytime\",\t\"failures\",\t\"schoolsup\",\t\"famsup\",\t\"paid\",\t\"activities\",\t\"nursery\",\t\"higher\",\t\"internet\",\t\"romantic\",\t\"famrel\",\t\"freetime\",\t\"goout\",\t\"Dalc\",\t\"Walc\",\t\"health\",\t\"absences\",\t\"G1\",\t\"G2\"\t,\"subject\",\t\"FinalGrade\"\t,\"Regularity\",\t\"GradeG1\"\t,\"GradeG2\"\t]\n",
        "\n",
        "\n",
        "for col in col_names:\n",
        "    \n",
        "    print(df1[col].value_counts())   "
      ],
      "execution_count": null,
      "outputs": [
        {
          "output_type": "stream",
          "text": [
            "GP    772\n",
            "MS    272\n",
            "Name: school, dtype: int64\n",
            "F    591\n",
            "M    453\n",
            "Name: sex, dtype: int64\n",
            "16    281\n",
            "17    277\n",
            "18    222\n",
            "15    194\n",
            "19     56\n",
            "20      9\n",
            "21      3\n",
            "22      2\n",
            "Name: age, dtype: int64\n",
            "U    759\n",
            "R    285\n",
            "Name: address, dtype: int64\n",
            "0    738\n",
            "1    306\n",
            "Name: famsize, dtype: int64\n",
            "T    923\n",
            "A    121\n",
            "Name: Pstatus, dtype: int64\n",
            "4    306\n",
            "2    289\n",
            "3    238\n",
            "1    202\n",
            "0      9\n",
            "Name: Medu, dtype: int64\n",
            "2    324\n",
            "1    256\n",
            "3    231\n",
            "4    224\n",
            "0      9\n",
            "Name: Fedu, dtype: int64\n",
            "other       399\n",
            "services    239\n",
            "at_home     194\n",
            "teacher     130\n",
            "health       82\n",
            "Name: Mjob, dtype: int64\n",
            "other       584\n",
            "services    292\n",
            "teacher      65\n",
            "at_home      62\n",
            "health       41\n",
            "Name: Fjob, dtype: int64\n",
            "course        430\n",
            "home          258\n",
            "reputation    248\n",
            "other         108\n",
            "Name: reason, dtype: int64\n",
            "mother    728\n",
            "father    243\n",
            "other      73\n",
            "Name: guardian, dtype: int64\n",
            "1    623\n",
            "2    320\n",
            "3     77\n",
            "4     24\n",
            "Name: traveltime, dtype: int64\n",
            "2    503\n",
            "1    317\n",
            "3    162\n",
            "4     62\n",
            "Name: studytime, dtype: int64\n",
            "0    861\n",
            "1    120\n",
            "2     33\n",
            "3     30\n",
            "Name: failures, dtype: int64\n",
            "no     925\n",
            "yes    119\n",
            "Name: schoolsup, dtype: int64\n",
            "yes    640\n",
            "no     404\n",
            "Name: famsup, dtype: int64\n",
            "no     824\n",
            "yes    220\n",
            "Name: paid, dtype: int64\n",
            "no     528\n",
            "yes    516\n",
            "Name: activities, dtype: int64\n",
            "yes    835\n",
            "no     209\n",
            "Name: nursery, dtype: int64\n",
            "yes    955\n",
            "no      89\n",
            "Name: higher, dtype: int64\n",
            "yes    827\n",
            "no     217\n",
            "Name: internet, dtype: int64\n",
            "no     673\n",
            "yes    371\n",
            "Name: romantic, dtype: int64\n",
            "4    512\n",
            "5    286\n",
            "3    169\n",
            "2     47\n",
            "1     30\n",
            "Name: famrel, dtype: int64\n",
            "3    408\n",
            "4    293\n",
            "2    171\n",
            "5    108\n",
            "1     64\n",
            "Name: freetime, dtype: int64\n",
            "3    335\n",
            "2    248\n",
            "4    227\n",
            "5    163\n",
            "1     71\n",
            "Name: goout, dtype: int64\n",
            "1    727\n",
            "2    196\n",
            "3     69\n",
            "5     26\n",
            "4     26\n",
            "Name: Dalc, dtype: int64\n",
            "1    398\n",
            "2    235\n",
            "3    200\n",
            "4    138\n",
            "5     73\n",
            "Name: Walc, dtype: int64\n",
            "5    395\n",
            "3    215\n",
            "4    174\n",
            "1    137\n",
            "2    123\n",
            "Name: health, dtype: int64\n",
            "0     359\n",
            "2     175\n",
            "4     146\n",
            "6      80\n",
            "8      64\n",
            "10     38\n",
            "12     24\n",
            "14     20\n",
            "5      17\n",
            "16     17\n",
            "1      15\n",
            "3      15\n",
            "7      10\n",
            "9      10\n",
            "18      8\n",
            "11      8\n",
            "15      5\n",
            "22      5\n",
            "20      4\n",
            "13      4\n",
            "21      3\n",
            "24      2\n",
            "26      2\n",
            "30      2\n",
            "75      1\n",
            "56      1\n",
            "19      1\n",
            "23      1\n",
            "25      1\n",
            "28      1\n",
            "32      1\n",
            "38      1\n",
            "40      1\n",
            "54      1\n",
            "17      1\n",
            "Name: absences, dtype: int64\n",
            "10    146\n",
            "11    130\n",
            "12    117\n",
            "13    105\n",
            "14    101\n",
            "9      96\n",
            "8      83\n",
            "7      70\n",
            "15     59\n",
            "16     44\n",
            "6      33\n",
            "17     24\n",
            "18     15\n",
            "5      12\n",
            "19      4\n",
            "4       3\n",
            "3       1\n",
            "0       1\n",
            "Name: G1, dtype: int64\n",
            "11    138\n",
            "10    129\n",
            "12    127\n",
            "9     122\n",
            "13    117\n",
            "14     77\n",
            "15     72\n",
            "8      72\n",
            "16     38\n",
            "7      37\n",
            "18     26\n",
            "17     25\n",
            "6      21\n",
            "0      20\n",
            "5      18\n",
            "19      4\n",
            "4       1\n",
            "Name: G2, dtype: int64\n",
            "portugese    649\n",
            "maths        395\n",
            "Name: subject, dtype: int64\n",
            "Satisfactory    457\n",
            "Poor            320\n",
            "Good            169\n",
            "Failure          63\n",
            "Excellent        35\n",
            "Name: FinalGrade, dtype: int64\n",
            "Always regular    891\n",
            "Mostly regular    145\n",
            "Regular             5\n",
            "Irregular           3\n",
            "Name: Regularity, dtype: int64\n",
            "Satisfactory    453\n",
            "Poor            428\n",
            "Good            127\n",
            "Excellent        19\n",
            "Failure          17\n",
            "Name: GradeG1, dtype: int64\n",
            "Satisfactory    459\n",
            "Poor            381\n",
            "Good            135\n",
            "Failure          39\n",
            "Excellent        30\n",
            "Name: GradeG2, dtype: int64\n"
          ],
          "name": "stdout"
        }
      ]
    },
    {
      "cell_type": "markdown",
      "metadata": {
        "id": "IgLMLXVLG1BD"
      },
      "source": [
        "Explore class variable"
      ]
    },
    {
      "cell_type": "code",
      "metadata": {
        "colab": {
          "base_uri": "https://localhost:8080/"
        },
        "id": "_BIXIkHbG10B",
        "outputId": "c0225fea-15a5-43c8-a927-0bab2aa34c09"
      },
      "source": [
        "df1['FinalGrade'].value_counts()"
      ],
      "execution_count": null,
      "outputs": [
        {
          "output_type": "execute_result",
          "data": {
            "text/plain": [
              "Satisfactory    457\n",
              "Poor            320\n",
              "Good            169\n",
              "Failure          63\n",
              "Excellent        35\n",
              "Name: FinalGrade, dtype: int64"
            ]
          },
          "metadata": {
            "tags": []
          },
          "execution_count": 13
        }
      ]
    },
    {
      "cell_type": "markdown",
      "metadata": {
        "id": "hwubDg3ZHFZ6"
      },
      "source": [
        "Missing values in variables"
      ]
    },
    {
      "cell_type": "code",
      "metadata": {
        "colab": {
          "base_uri": "https://localhost:8080/"
        },
        "id": "hftiNKUmHF_P",
        "outputId": "94b29a9e-edf2-4fde-85e6-cba12cca6590"
      },
      "source": [
        "\n",
        "df1.isnull().sum()"
      ],
      "execution_count": null,
      "outputs": [
        {
          "output_type": "execute_result",
          "data": {
            "text/plain": [
              "school        0\n",
              "sex           0\n",
              "age           0\n",
              "address       0\n",
              "famsize       0\n",
              "Pstatus       0\n",
              "Medu          0\n",
              "Fedu          0\n",
              "Mjob          0\n",
              "Fjob          0\n",
              "reason        0\n",
              "guardian      0\n",
              "traveltime    0\n",
              "studytime     0\n",
              "failures      0\n",
              "schoolsup     0\n",
              "famsup        0\n",
              "paid          0\n",
              "activities    0\n",
              "nursery       0\n",
              "higher        0\n",
              "internet      0\n",
              "romantic      0\n",
              "famrel        0\n",
              "freetime      0\n",
              "goout         0\n",
              "Dalc          0\n",
              "Walc          0\n",
              "health        0\n",
              "absences      0\n",
              "G1            0\n",
              "G2            0\n",
              "subject       0\n",
              "FinalGrade    0\n",
              "Regularity    0\n",
              "GradeG1       0\n",
              "GradeG2       0\n",
              "dtype: int64"
            ]
          },
          "metadata": {
            "tags": []
          },
          "execution_count": 14
        }
      ]
    },
    {
      "cell_type": "markdown",
      "metadata": {
        "id": "k2Gd2k2nHNvG"
      },
      "source": [
        "# Declare feature vector and target variable"
      ]
    },
    {
      "cell_type": "code",
      "metadata": {
        "id": "VRdfcp8hHO9_"
      },
      "source": [
        "X = df1.drop(['FinalGrade'], axis=1)\n",
        "\n",
        "y = df1['FinalGrade']"
      ],
      "execution_count": null,
      "outputs": []
    },
    {
      "cell_type": "markdown",
      "metadata": {
        "id": "6T2SSSZnJzP3"
      },
      "source": [
        "# Split data into separate training and test set "
      ]
    },
    {
      "cell_type": "code",
      "metadata": {
        "id": "KkxJgVppJ0bq"
      },
      "source": [
        "\n",
        "from sklearn.model_selection import train_test_split\n",
        "\n",
        "X_train, X_test, y_train, y_test = train_test_split(X, y, test_size = 0.2, random_state = 48)"
      ],
      "execution_count": null,
      "outputs": []
    },
    {
      "cell_type": "code",
      "metadata": {
        "colab": {
          "base_uri": "https://localhost:8080/"
        },
        "id": "T1mWXnt7J-LY",
        "outputId": "24c8c468-54a4-4c84-b47e-770bac797acb"
      },
      "source": [
        "# check the shape of X_train and X_test\n",
        "\n",
        "X_train.shape, X_test.shape"
      ],
      "execution_count": null,
      "outputs": [
        {
          "output_type": "execute_result",
          "data": {
            "text/plain": [
              "((835, 36), (209, 36))"
            ]
          },
          "metadata": {
            "tags": []
          },
          "execution_count": 17
        }
      ]
    },
    {
      "cell_type": "markdown",
      "metadata": {
        "id": "nMFTh9erKJJv"
      },
      "source": [
        "# Feature Engineering"
      ]
    },
    {
      "cell_type": "code",
      "metadata": {
        "colab": {
          "base_uri": "https://localhost:8080/"
        },
        "id": "WDqk_hTTKKjo",
        "outputId": "22095122-60d2-4e0c-fd7c-9b5753f96c95"
      },
      "source": [
        "# check data types in X_train\n",
        "\n",
        "X_train.dtypes"
      ],
      "execution_count": null,
      "outputs": [
        {
          "output_type": "execute_result",
          "data": {
            "text/plain": [
              "school        object\n",
              "sex           object\n",
              "age            int64\n",
              "address       object\n",
              "famsize        int64\n",
              "Pstatus       object\n",
              "Medu           int64\n",
              "Fedu           int64\n",
              "Mjob          object\n",
              "Fjob          object\n",
              "reason        object\n",
              "guardian      object\n",
              "traveltime     int64\n",
              "studytime      int64\n",
              "failures       int64\n",
              "schoolsup     object\n",
              "famsup        object\n",
              "paid          object\n",
              "activities    object\n",
              "nursery       object\n",
              "higher        object\n",
              "internet      object\n",
              "romantic      object\n",
              "famrel         int64\n",
              "freetime       int64\n",
              "goout          int64\n",
              "Dalc           int64\n",
              "Walc           int64\n",
              "health         int64\n",
              "absences       int64\n",
              "G1             int64\n",
              "G2             int64\n",
              "subject       object\n",
              "Regularity    object\n",
              "GradeG1       object\n",
              "GradeG2       object\n",
              "dtype: object"
            ]
          },
          "metadata": {
            "tags": []
          },
          "execution_count": 18
        }
      ]
    },
    {
      "cell_type": "markdown",
      "metadata": {
        "id": "ob_pBeXZKZp4"
      },
      "source": [
        "Encode categorical variables"
      ]
    },
    {
      "cell_type": "code",
      "metadata": {
        "colab": {
          "base_uri": "https://localhost:8080/",
          "height": 309
        },
        "id": "6gD7A6ojKaXf",
        "outputId": "66c17aaf-78d2-4a3e-bce3-bf2ef835ec1b"
      },
      "source": [
        "X_train.head()"
      ],
      "execution_count": null,
      "outputs": [
        {
          "output_type": "execute_result",
          "data": {
            "text/html": [
              "<div>\n",
              "<style scoped>\n",
              "    .dataframe tbody tr th:only-of-type {\n",
              "        vertical-align: middle;\n",
              "    }\n",
              "\n",
              "    .dataframe tbody tr th {\n",
              "        vertical-align: top;\n",
              "    }\n",
              "\n",
              "    .dataframe thead th {\n",
              "        text-align: right;\n",
              "    }\n",
              "</style>\n",
              "<table border=\"1\" class=\"dataframe\">\n",
              "  <thead>\n",
              "    <tr style=\"text-align: right;\">\n",
              "      <th></th>\n",
              "      <th>school</th>\n",
              "      <th>sex</th>\n",
              "      <th>age</th>\n",
              "      <th>address</th>\n",
              "      <th>famsize</th>\n",
              "      <th>Pstatus</th>\n",
              "      <th>Medu</th>\n",
              "      <th>Fedu</th>\n",
              "      <th>Mjob</th>\n",
              "      <th>Fjob</th>\n",
              "      <th>reason</th>\n",
              "      <th>guardian</th>\n",
              "      <th>traveltime</th>\n",
              "      <th>studytime</th>\n",
              "      <th>failures</th>\n",
              "      <th>schoolsup</th>\n",
              "      <th>famsup</th>\n",
              "      <th>paid</th>\n",
              "      <th>activities</th>\n",
              "      <th>nursery</th>\n",
              "      <th>higher</th>\n",
              "      <th>internet</th>\n",
              "      <th>romantic</th>\n",
              "      <th>famrel</th>\n",
              "      <th>freetime</th>\n",
              "      <th>goout</th>\n",
              "      <th>Dalc</th>\n",
              "      <th>Walc</th>\n",
              "      <th>health</th>\n",
              "      <th>absences</th>\n",
              "      <th>G1</th>\n",
              "      <th>G2</th>\n",
              "      <th>subject</th>\n",
              "      <th>Regularity</th>\n",
              "      <th>GradeG1</th>\n",
              "      <th>GradeG2</th>\n",
              "    </tr>\n",
              "  </thead>\n",
              "  <tbody>\n",
              "    <tr>\n",
              "      <th>89</th>\n",
              "      <td>GP</td>\n",
              "      <td>M</td>\n",
              "      <td>16</td>\n",
              "      <td>U</td>\n",
              "      <td>1</td>\n",
              "      <td>A</td>\n",
              "      <td>4</td>\n",
              "      <td>4</td>\n",
              "      <td>teacher</td>\n",
              "      <td>health</td>\n",
              "      <td>reputation</td>\n",
              "      <td>mother</td>\n",
              "      <td>1</td>\n",
              "      <td>2</td>\n",
              "      <td>0</td>\n",
              "      <td>no</td>\n",
              "      <td>yes</td>\n",
              "      <td>no</td>\n",
              "      <td>no</td>\n",
              "      <td>yes</td>\n",
              "      <td>yes</td>\n",
              "      <td>no</td>\n",
              "      <td>no</td>\n",
              "      <td>4</td>\n",
              "      <td>1</td>\n",
              "      <td>3</td>\n",
              "      <td>3</td>\n",
              "      <td>5</td>\n",
              "      <td>5</td>\n",
              "      <td>18</td>\n",
              "      <td>8</td>\n",
              "      <td>6</td>\n",
              "      <td>maths</td>\n",
              "      <td>Mostly regular</td>\n",
              "      <td>Poor</td>\n",
              "      <td>Poor</td>\n",
              "    </tr>\n",
              "    <tr>\n",
              "      <th>704</th>\n",
              "      <td>GP</td>\n",
              "      <td>M</td>\n",
              "      <td>18</td>\n",
              "      <td>U</td>\n",
              "      <td>0</td>\n",
              "      <td>T</td>\n",
              "      <td>4</td>\n",
              "      <td>2</td>\n",
              "      <td>health</td>\n",
              "      <td>other</td>\n",
              "      <td>reputation</td>\n",
              "      <td>father</td>\n",
              "      <td>1</td>\n",
              "      <td>2</td>\n",
              "      <td>0</td>\n",
              "      <td>no</td>\n",
              "      <td>yes</td>\n",
              "      <td>no</td>\n",
              "      <td>yes</td>\n",
              "      <td>yes</td>\n",
              "      <td>yes</td>\n",
              "      <td>yes</td>\n",
              "      <td>yes</td>\n",
              "      <td>5</td>\n",
              "      <td>4</td>\n",
              "      <td>5</td>\n",
              "      <td>1</td>\n",
              "      <td>3</td>\n",
              "      <td>5</td>\n",
              "      <td>4</td>\n",
              "      <td>10</td>\n",
              "      <td>12</td>\n",
              "      <td>portugese</td>\n",
              "      <td>Always regular</td>\n",
              "      <td>Poor</td>\n",
              "      <td>Satisfactory</td>\n",
              "    </tr>\n",
              "    <tr>\n",
              "      <th>692</th>\n",
              "      <td>GP</td>\n",
              "      <td>M</td>\n",
              "      <td>17</td>\n",
              "      <td>R</td>\n",
              "      <td>0</td>\n",
              "      <td>T</td>\n",
              "      <td>2</td>\n",
              "      <td>2</td>\n",
              "      <td>other</td>\n",
              "      <td>services</td>\n",
              "      <td>other</td>\n",
              "      <td>mother</td>\n",
              "      <td>2</td>\n",
              "      <td>1</td>\n",
              "      <td>0</td>\n",
              "      <td>no</td>\n",
              "      <td>no</td>\n",
              "      <td>no</td>\n",
              "      <td>no</td>\n",
              "      <td>no</td>\n",
              "      <td>no</td>\n",
              "      <td>no</td>\n",
              "      <td>no</td>\n",
              "      <td>5</td>\n",
              "      <td>2</td>\n",
              "      <td>2</td>\n",
              "      <td>1</td>\n",
              "      <td>1</td>\n",
              "      <td>4</td>\n",
              "      <td>0</td>\n",
              "      <td>9</td>\n",
              "      <td>10</td>\n",
              "      <td>portugese</td>\n",
              "      <td>Always regular</td>\n",
              "      <td>Poor</td>\n",
              "      <td>Poor</td>\n",
              "    </tr>\n",
              "    <tr>\n",
              "      <th>30</th>\n",
              "      <td>GP</td>\n",
              "      <td>M</td>\n",
              "      <td>15</td>\n",
              "      <td>U</td>\n",
              "      <td>0</td>\n",
              "      <td>T</td>\n",
              "      <td>4</td>\n",
              "      <td>4</td>\n",
              "      <td>health</td>\n",
              "      <td>services</td>\n",
              "      <td>home</td>\n",
              "      <td>mother</td>\n",
              "      <td>1</td>\n",
              "      <td>2</td>\n",
              "      <td>0</td>\n",
              "      <td>no</td>\n",
              "      <td>yes</td>\n",
              "      <td>yes</td>\n",
              "      <td>no</td>\n",
              "      <td>no</td>\n",
              "      <td>yes</td>\n",
              "      <td>yes</td>\n",
              "      <td>no</td>\n",
              "      <td>5</td>\n",
              "      <td>4</td>\n",
              "      <td>2</td>\n",
              "      <td>3</td>\n",
              "      <td>4</td>\n",
              "      <td>5</td>\n",
              "      <td>0</td>\n",
              "      <td>9</td>\n",
              "      <td>11</td>\n",
              "      <td>maths</td>\n",
              "      <td>Always regular</td>\n",
              "      <td>Poor</td>\n",
              "      <td>Satisfactory</td>\n",
              "    </tr>\n",
              "    <tr>\n",
              "      <th>317</th>\n",
              "      <td>GP</td>\n",
              "      <td>F</td>\n",
              "      <td>18</td>\n",
              "      <td>U</td>\n",
              "      <td>0</td>\n",
              "      <td>T</td>\n",
              "      <td>4</td>\n",
              "      <td>3</td>\n",
              "      <td>other</td>\n",
              "      <td>other</td>\n",
              "      <td>course</td>\n",
              "      <td>mother</td>\n",
              "      <td>1</td>\n",
              "      <td>3</td>\n",
              "      <td>0</td>\n",
              "      <td>no</td>\n",
              "      <td>yes</td>\n",
              "      <td>yes</td>\n",
              "      <td>yes</td>\n",
              "      <td>yes</td>\n",
              "      <td>yes</td>\n",
              "      <td>yes</td>\n",
              "      <td>yes</td>\n",
              "      <td>4</td>\n",
              "      <td>3</td>\n",
              "      <td>4</td>\n",
              "      <td>1</td>\n",
              "      <td>1</td>\n",
              "      <td>5</td>\n",
              "      <td>9</td>\n",
              "      <td>9</td>\n",
              "      <td>10</td>\n",
              "      <td>maths</td>\n",
              "      <td>Always regular</td>\n",
              "      <td>Poor</td>\n",
              "      <td>Poor</td>\n",
              "    </tr>\n",
              "  </tbody>\n",
              "</table>\n",
              "</div>"
            ],
            "text/plain": [
              "    school sex  age address  ...    subject      Regularity  GradeG1       GradeG2\n",
              "89      GP   M   16       U  ...      maths  Mostly regular     Poor          Poor\n",
              "704     GP   M   18       U  ...  portugese  Always regular     Poor  Satisfactory\n",
              "692     GP   M   17       R  ...  portugese  Always regular     Poor          Poor\n",
              "30      GP   M   15       U  ...      maths  Always regular     Poor  Satisfactory\n",
              "317     GP   F   18       U  ...      maths  Always regular     Poor          Poor\n",
              "\n",
              "[5 rows x 36 columns]"
            ]
          },
          "metadata": {
            "tags": []
          },
          "execution_count": 19
        }
      ]
    },
    {
      "cell_type": "code",
      "metadata": {
        "colab": {
          "base_uri": "https://localhost:8080/",
          "height": 309
        },
        "id": "hx4iJ8MSaMdH",
        "outputId": "0c5527b8-0b9d-4db3-aba2-7e1f3da01821"
      },
      "source": [
        "X_test.head()"
      ],
      "execution_count": null,
      "outputs": [
        {
          "output_type": "execute_result",
          "data": {
            "text/html": [
              "<div>\n",
              "<style scoped>\n",
              "    .dataframe tbody tr th:only-of-type {\n",
              "        vertical-align: middle;\n",
              "    }\n",
              "\n",
              "    .dataframe tbody tr th {\n",
              "        vertical-align: top;\n",
              "    }\n",
              "\n",
              "    .dataframe thead th {\n",
              "        text-align: right;\n",
              "    }\n",
              "</style>\n",
              "<table border=\"1\" class=\"dataframe\">\n",
              "  <thead>\n",
              "    <tr style=\"text-align: right;\">\n",
              "      <th></th>\n",
              "      <th>school</th>\n",
              "      <th>sex</th>\n",
              "      <th>age</th>\n",
              "      <th>address</th>\n",
              "      <th>famsize</th>\n",
              "      <th>Pstatus</th>\n",
              "      <th>Medu</th>\n",
              "      <th>Fedu</th>\n",
              "      <th>Mjob</th>\n",
              "      <th>Fjob</th>\n",
              "      <th>reason</th>\n",
              "      <th>guardian</th>\n",
              "      <th>traveltime</th>\n",
              "      <th>studytime</th>\n",
              "      <th>failures</th>\n",
              "      <th>schoolsup</th>\n",
              "      <th>famsup</th>\n",
              "      <th>paid</th>\n",
              "      <th>activities</th>\n",
              "      <th>nursery</th>\n",
              "      <th>higher</th>\n",
              "      <th>internet</th>\n",
              "      <th>romantic</th>\n",
              "      <th>famrel</th>\n",
              "      <th>freetime</th>\n",
              "      <th>goout</th>\n",
              "      <th>Dalc</th>\n",
              "      <th>Walc</th>\n",
              "      <th>health</th>\n",
              "      <th>absences</th>\n",
              "      <th>G1</th>\n",
              "      <th>G2</th>\n",
              "      <th>subject</th>\n",
              "      <th>Regularity</th>\n",
              "      <th>GradeG1</th>\n",
              "      <th>GradeG2</th>\n",
              "    </tr>\n",
              "  </thead>\n",
              "  <tbody>\n",
              "    <tr>\n",
              "      <th>975</th>\n",
              "      <td>MS</td>\n",
              "      <td>M</td>\n",
              "      <td>19</td>\n",
              "      <td>R</td>\n",
              "      <td>0</td>\n",
              "      <td>T</td>\n",
              "      <td>1</td>\n",
              "      <td>1</td>\n",
              "      <td>other</td>\n",
              "      <td>other</td>\n",
              "      <td>home</td>\n",
              "      <td>other</td>\n",
              "      <td>3</td>\n",
              "      <td>1</td>\n",
              "      <td>1</td>\n",
              "      <td>no</td>\n",
              "      <td>yes</td>\n",
              "      <td>no</td>\n",
              "      <td>no</td>\n",
              "      <td>yes</td>\n",
              "      <td>yes</td>\n",
              "      <td>yes</td>\n",
              "      <td>no</td>\n",
              "      <td>4</td>\n",
              "      <td>4</td>\n",
              "      <td>4</td>\n",
              "      <td>3</td>\n",
              "      <td>3</td>\n",
              "      <td>5</td>\n",
              "      <td>4</td>\n",
              "      <td>8</td>\n",
              "      <td>9</td>\n",
              "      <td>portugese</td>\n",
              "      <td>Always regular</td>\n",
              "      <td>Poor</td>\n",
              "      <td>Poor</td>\n",
              "    </tr>\n",
              "    <tr>\n",
              "      <th>522</th>\n",
              "      <td>GP</td>\n",
              "      <td>F</td>\n",
              "      <td>19</td>\n",
              "      <td>U</td>\n",
              "      <td>0</td>\n",
              "      <td>T</td>\n",
              "      <td>0</td>\n",
              "      <td>1</td>\n",
              "      <td>at_home</td>\n",
              "      <td>other</td>\n",
              "      <td>course</td>\n",
              "      <td>other</td>\n",
              "      <td>1</td>\n",
              "      <td>2</td>\n",
              "      <td>2</td>\n",
              "      <td>no</td>\n",
              "      <td>yes</td>\n",
              "      <td>no</td>\n",
              "      <td>no</td>\n",
              "      <td>no</td>\n",
              "      <td>no</td>\n",
              "      <td>no</td>\n",
              "      <td>no</td>\n",
              "      <td>3</td>\n",
              "      <td>4</td>\n",
              "      <td>2</td>\n",
              "      <td>1</td>\n",
              "      <td>1</td>\n",
              "      <td>5</td>\n",
              "      <td>0</td>\n",
              "      <td>9</td>\n",
              "      <td>10</td>\n",
              "      <td>portugese</td>\n",
              "      <td>Always regular</td>\n",
              "      <td>Poor</td>\n",
              "      <td>Poor</td>\n",
              "    </tr>\n",
              "    <tr>\n",
              "      <th>413</th>\n",
              "      <td>GP</td>\n",
              "      <td>M</td>\n",
              "      <td>17</td>\n",
              "      <td>U</td>\n",
              "      <td>0</td>\n",
              "      <td>T</td>\n",
              "      <td>3</td>\n",
              "      <td>2</td>\n",
              "      <td>services</td>\n",
              "      <td>services</td>\n",
              "      <td>course</td>\n",
              "      <td>mother</td>\n",
              "      <td>1</td>\n",
              "      <td>1</td>\n",
              "      <td>3</td>\n",
              "      <td>no</td>\n",
              "      <td>yes</td>\n",
              "      <td>yes</td>\n",
              "      <td>yes</td>\n",
              "      <td>yes</td>\n",
              "      <td>yes</td>\n",
              "      <td>yes</td>\n",
              "      <td>no</td>\n",
              "      <td>5</td>\n",
              "      <td>5</td>\n",
              "      <td>5</td>\n",
              "      <td>2</td>\n",
              "      <td>4</td>\n",
              "      <td>5</td>\n",
              "      <td>2</td>\n",
              "      <td>8</td>\n",
              "      <td>8</td>\n",
              "      <td>portugese</td>\n",
              "      <td>Always regular</td>\n",
              "      <td>Poor</td>\n",
              "      <td>Poor</td>\n",
              "    </tr>\n",
              "    <tr>\n",
              "      <th>905</th>\n",
              "      <td>MS</td>\n",
              "      <td>F</td>\n",
              "      <td>17</td>\n",
              "      <td>R</td>\n",
              "      <td>0</td>\n",
              "      <td>T</td>\n",
              "      <td>2</td>\n",
              "      <td>2</td>\n",
              "      <td>other</td>\n",
              "      <td>other</td>\n",
              "      <td>reputation</td>\n",
              "      <td>mother</td>\n",
              "      <td>2</td>\n",
              "      <td>2</td>\n",
              "      <td>0</td>\n",
              "      <td>no</td>\n",
              "      <td>yes</td>\n",
              "      <td>no</td>\n",
              "      <td>yes</td>\n",
              "      <td>yes</td>\n",
              "      <td>yes</td>\n",
              "      <td>no</td>\n",
              "      <td>no</td>\n",
              "      <td>5</td>\n",
              "      <td>3</td>\n",
              "      <td>2</td>\n",
              "      <td>1</td>\n",
              "      <td>1</td>\n",
              "      <td>1</td>\n",
              "      <td>0</td>\n",
              "      <td>15</td>\n",
              "      <td>17</td>\n",
              "      <td>portugese</td>\n",
              "      <td>Always regular</td>\n",
              "      <td>Good</td>\n",
              "      <td>Good</td>\n",
              "    </tr>\n",
              "    <tr>\n",
              "      <th>328</th>\n",
              "      <td>GP</td>\n",
              "      <td>F</td>\n",
              "      <td>17</td>\n",
              "      <td>U</td>\n",
              "      <td>0</td>\n",
              "      <td>T</td>\n",
              "      <td>4</td>\n",
              "      <td>4</td>\n",
              "      <td>teacher</td>\n",
              "      <td>services</td>\n",
              "      <td>course</td>\n",
              "      <td>mother</td>\n",
              "      <td>1</td>\n",
              "      <td>3</td>\n",
              "      <td>0</td>\n",
              "      <td>no</td>\n",
              "      <td>yes</td>\n",
              "      <td>yes</td>\n",
              "      <td>yes</td>\n",
              "      <td>yes</td>\n",
              "      <td>yes</td>\n",
              "      <td>yes</td>\n",
              "      <td>no</td>\n",
              "      <td>5</td>\n",
              "      <td>4</td>\n",
              "      <td>4</td>\n",
              "      <td>1</td>\n",
              "      <td>3</td>\n",
              "      <td>4</td>\n",
              "      <td>7</td>\n",
              "      <td>10</td>\n",
              "      <td>9</td>\n",
              "      <td>maths</td>\n",
              "      <td>Always regular</td>\n",
              "      <td>Poor</td>\n",
              "      <td>Poor</td>\n",
              "    </tr>\n",
              "  </tbody>\n",
              "</table>\n",
              "</div>"
            ],
            "text/plain": [
              "    school sex  age address  ...    subject      Regularity  GradeG1  GradeG2\n",
              "975     MS   M   19       R  ...  portugese  Always regular     Poor     Poor\n",
              "522     GP   F   19       U  ...  portugese  Always regular     Poor     Poor\n",
              "413     GP   M   17       U  ...  portugese  Always regular     Poor     Poor\n",
              "905     MS   F   17       R  ...  portugese  Always regular     Good     Good\n",
              "328     GP   F   17       U  ...      maths  Always regular     Poor     Poor\n",
              "\n",
              "[5 rows x 36 columns]"
            ]
          },
          "metadata": {
            "tags": []
          },
          "execution_count": 20
        }
      ]
    },
    {
      "cell_type": "code",
      "metadata": {
        "colab": {
          "base_uri": "https://localhost:8080/"
        },
        "id": "vah_71wgKk41",
        "outputId": "a6fbf038-2d9d-4de0-9acc-27c55efadf0c"
      },
      "source": [
        "!pip install category_encoders\n",
        "import category_encoders as ce"
      ],
      "execution_count": null,
      "outputs": [
        {
          "output_type": "stream",
          "text": [
            "Collecting category_encoders\n",
            "\u001b[?25l  Downloading https://files.pythonhosted.org/packages/44/57/fcef41c248701ee62e8325026b90c432adea35555cbc870aff9cfba23727/category_encoders-2.2.2-py2.py3-none-any.whl (80kB)\n",
            "\r\u001b[K     |████                            | 10kB 19.0MB/s eta 0:00:01\r\u001b[K     |████████▏                       | 20kB 18.9MB/s eta 0:00:01\r\u001b[K     |████████████▏                   | 30kB 15.0MB/s eta 0:00:01\r\u001b[K     |████████████████▎               | 40kB 13.7MB/s eta 0:00:01\r\u001b[K     |████████████████████▎           | 51kB 7.9MB/s eta 0:00:01\r\u001b[K     |████████████████████████▍       | 61kB 9.2MB/s eta 0:00:01\r\u001b[K     |████████████████████████████▍   | 71kB 8.8MB/s eta 0:00:01\r\u001b[K     |████████████████████████████████| 81kB 5.6MB/s \n",
            "\u001b[?25hRequirement already satisfied: pandas>=0.21.1 in /usr/local/lib/python3.7/dist-packages (from category_encoders) (1.1.5)\n",
            "Requirement already satisfied: scikit-learn>=0.20.0 in /usr/local/lib/python3.7/dist-packages (from category_encoders) (0.22.2.post1)\n",
            "Requirement already satisfied: statsmodels>=0.9.0 in /usr/local/lib/python3.7/dist-packages (from category_encoders) (0.10.2)\n",
            "Requirement already satisfied: patsy>=0.5.1 in /usr/local/lib/python3.7/dist-packages (from category_encoders) (0.5.1)\n",
            "Requirement already satisfied: numpy>=1.14.0 in /usr/local/lib/python3.7/dist-packages (from category_encoders) (1.19.5)\n",
            "Requirement already satisfied: scipy>=1.0.0 in /usr/local/lib/python3.7/dist-packages (from category_encoders) (1.4.1)\n",
            "Requirement already satisfied: python-dateutil>=2.7.3 in /usr/local/lib/python3.7/dist-packages (from pandas>=0.21.1->category_encoders) (2.8.1)\n",
            "Requirement already satisfied: pytz>=2017.2 in /usr/local/lib/python3.7/dist-packages (from pandas>=0.21.1->category_encoders) (2018.9)\n",
            "Requirement already satisfied: joblib>=0.11 in /usr/local/lib/python3.7/dist-packages (from scikit-learn>=0.20.0->category_encoders) (1.0.1)\n",
            "Requirement already satisfied: six in /usr/local/lib/python3.7/dist-packages (from patsy>=0.5.1->category_encoders) (1.15.0)\n",
            "Installing collected packages: category-encoders\n",
            "Successfully installed category-encoders-2.2.2\n"
          ],
          "name": "stdout"
        }
      ]
    },
    {
      "cell_type": "code",
      "metadata": {
        "id": "PnXyjz1gPXTA",
        "colab": {
          "base_uri": "https://localhost:8080/"
        },
        "outputId": "0b4b0f67-9a52-49e6-e433-3a45fac2803a"
      },
      "source": [
        "df1.info()"
      ],
      "execution_count": null,
      "outputs": [
        {
          "output_type": "stream",
          "text": [
            "<class 'pandas.core.frame.DataFrame'>\n",
            "RangeIndex: 1044 entries, 0 to 1043\n",
            "Data columns (total 37 columns):\n",
            " #   Column      Non-Null Count  Dtype \n",
            "---  ------      --------------  ----- \n",
            " 0   school      1044 non-null   object\n",
            " 1   sex         1044 non-null   object\n",
            " 2   age         1044 non-null   int64 \n",
            " 3   address     1044 non-null   object\n",
            " 4   famsize     1044 non-null   int64 \n",
            " 5   Pstatus     1044 non-null   object\n",
            " 6   Medu        1044 non-null   int64 \n",
            " 7   Fedu        1044 non-null   int64 \n",
            " 8   Mjob        1044 non-null   object\n",
            " 9   Fjob        1044 non-null   object\n",
            " 10  reason      1044 non-null   object\n",
            " 11  guardian    1044 non-null   object\n",
            " 12  traveltime  1044 non-null   int64 \n",
            " 13  studytime   1044 non-null   int64 \n",
            " 14  failures    1044 non-null   int64 \n",
            " 15  schoolsup   1044 non-null   object\n",
            " 16  famsup      1044 non-null   object\n",
            " 17  paid        1044 non-null   object\n",
            " 18  activities  1044 non-null   object\n",
            " 19  nursery     1044 non-null   object\n",
            " 20  higher      1044 non-null   object\n",
            " 21  internet    1044 non-null   object\n",
            " 22  romantic    1044 non-null   object\n",
            " 23  famrel      1044 non-null   int64 \n",
            " 24  freetime    1044 non-null   int64 \n",
            " 25  goout       1044 non-null   int64 \n",
            " 26  Dalc        1044 non-null   int64 \n",
            " 27  Walc        1044 non-null   int64 \n",
            " 28  health      1044 non-null   int64 \n",
            " 29  absences    1044 non-null   int64 \n",
            " 30  G1          1044 non-null   int64 \n",
            " 31  G2          1044 non-null   int64 \n",
            " 32  subject     1044 non-null   object\n",
            " 33  FinalGrade  1044 non-null   object\n",
            " 34  Regularity  1044 non-null   object\n",
            " 35  GradeG1     1044 non-null   object\n",
            " 36  GradeG2     1044 non-null   object\n",
            "dtypes: int64(16), object(21)\n",
            "memory usage: 301.9+ KB\n"
          ],
          "name": "stdout"
        }
      ]
    },
    {
      "cell_type": "code",
      "metadata": {
        "id": "ianloXWcN3v7"
      },
      "source": [
        "# encode variables with ordinal encoding\n",
        "\n",
        "encoder = ce.OrdinalEncoder(cols = [\"school\",\"sex\",\"address\",\"Pstatus\",\"Mjob\",\t\"Fjob\",\t\"reason\",\t\"guardian\",\t\"schoolsup\",\t\"famsup\",\t\"paid\",\t\"activities\",\t\"nursery\",\t\"higher\",\t\"internet\",\t\"romantic\",\"subject\",\"Regularity\",\t\"GradeG1\"\t,\"GradeG2\"])\n",
        "\n",
        "\n",
        "X_train = encoder.fit_transform(X_train)\n",
        "\n",
        "X_test = encoder.transform(X_test)"
      ],
      "execution_count": null,
      "outputs": []
    },
    {
      "cell_type": "code",
      "metadata": {
        "colab": {
          "base_uri": "https://localhost:8080/",
          "height": 224
        },
        "id": "eBEv6_F1RLXe",
        "outputId": "88f3f33d-5f93-4105-d3be-3b555a2589f4"
      },
      "source": [
        "X_train.head()"
      ],
      "execution_count": null,
      "outputs": [
        {
          "output_type": "execute_result",
          "data": {
            "text/html": [
              "<div>\n",
              "<style scoped>\n",
              "    .dataframe tbody tr th:only-of-type {\n",
              "        vertical-align: middle;\n",
              "    }\n",
              "\n",
              "    .dataframe tbody tr th {\n",
              "        vertical-align: top;\n",
              "    }\n",
              "\n",
              "    .dataframe thead th {\n",
              "        text-align: right;\n",
              "    }\n",
              "</style>\n",
              "<table border=\"1\" class=\"dataframe\">\n",
              "  <thead>\n",
              "    <tr style=\"text-align: right;\">\n",
              "      <th></th>\n",
              "      <th>school</th>\n",
              "      <th>sex</th>\n",
              "      <th>age</th>\n",
              "      <th>address</th>\n",
              "      <th>famsize</th>\n",
              "      <th>Pstatus</th>\n",
              "      <th>Medu</th>\n",
              "      <th>Fedu</th>\n",
              "      <th>Mjob</th>\n",
              "      <th>Fjob</th>\n",
              "      <th>reason</th>\n",
              "      <th>guardian</th>\n",
              "      <th>traveltime</th>\n",
              "      <th>studytime</th>\n",
              "      <th>failures</th>\n",
              "      <th>schoolsup</th>\n",
              "      <th>famsup</th>\n",
              "      <th>paid</th>\n",
              "      <th>activities</th>\n",
              "      <th>nursery</th>\n",
              "      <th>higher</th>\n",
              "      <th>internet</th>\n",
              "      <th>romantic</th>\n",
              "      <th>famrel</th>\n",
              "      <th>freetime</th>\n",
              "      <th>goout</th>\n",
              "      <th>Dalc</th>\n",
              "      <th>Walc</th>\n",
              "      <th>health</th>\n",
              "      <th>absences</th>\n",
              "      <th>G1</th>\n",
              "      <th>G2</th>\n",
              "      <th>subject</th>\n",
              "      <th>Regularity</th>\n",
              "      <th>GradeG1</th>\n",
              "      <th>GradeG2</th>\n",
              "    </tr>\n",
              "  </thead>\n",
              "  <tbody>\n",
              "    <tr>\n",
              "      <th>89</th>\n",
              "      <td>1</td>\n",
              "      <td>1</td>\n",
              "      <td>16</td>\n",
              "      <td>1</td>\n",
              "      <td>1</td>\n",
              "      <td>1</td>\n",
              "      <td>4</td>\n",
              "      <td>4</td>\n",
              "      <td>1</td>\n",
              "      <td>1</td>\n",
              "      <td>1</td>\n",
              "      <td>1</td>\n",
              "      <td>1</td>\n",
              "      <td>2</td>\n",
              "      <td>0</td>\n",
              "      <td>1</td>\n",
              "      <td>1</td>\n",
              "      <td>1</td>\n",
              "      <td>1</td>\n",
              "      <td>1</td>\n",
              "      <td>1</td>\n",
              "      <td>1</td>\n",
              "      <td>1</td>\n",
              "      <td>4</td>\n",
              "      <td>1</td>\n",
              "      <td>3</td>\n",
              "      <td>3</td>\n",
              "      <td>5</td>\n",
              "      <td>5</td>\n",
              "      <td>18</td>\n",
              "      <td>8</td>\n",
              "      <td>6</td>\n",
              "      <td>1</td>\n",
              "      <td>1</td>\n",
              "      <td>1</td>\n",
              "      <td>1</td>\n",
              "    </tr>\n",
              "    <tr>\n",
              "      <th>704</th>\n",
              "      <td>1</td>\n",
              "      <td>1</td>\n",
              "      <td>18</td>\n",
              "      <td>1</td>\n",
              "      <td>0</td>\n",
              "      <td>2</td>\n",
              "      <td>4</td>\n",
              "      <td>2</td>\n",
              "      <td>2</td>\n",
              "      <td>2</td>\n",
              "      <td>1</td>\n",
              "      <td>2</td>\n",
              "      <td>1</td>\n",
              "      <td>2</td>\n",
              "      <td>0</td>\n",
              "      <td>1</td>\n",
              "      <td>1</td>\n",
              "      <td>1</td>\n",
              "      <td>2</td>\n",
              "      <td>1</td>\n",
              "      <td>1</td>\n",
              "      <td>2</td>\n",
              "      <td>2</td>\n",
              "      <td>5</td>\n",
              "      <td>4</td>\n",
              "      <td>5</td>\n",
              "      <td>1</td>\n",
              "      <td>3</td>\n",
              "      <td>5</td>\n",
              "      <td>4</td>\n",
              "      <td>10</td>\n",
              "      <td>12</td>\n",
              "      <td>2</td>\n",
              "      <td>2</td>\n",
              "      <td>1</td>\n",
              "      <td>2</td>\n",
              "    </tr>\n",
              "    <tr>\n",
              "      <th>692</th>\n",
              "      <td>1</td>\n",
              "      <td>1</td>\n",
              "      <td>17</td>\n",
              "      <td>2</td>\n",
              "      <td>0</td>\n",
              "      <td>2</td>\n",
              "      <td>2</td>\n",
              "      <td>2</td>\n",
              "      <td>3</td>\n",
              "      <td>3</td>\n",
              "      <td>2</td>\n",
              "      <td>1</td>\n",
              "      <td>2</td>\n",
              "      <td>1</td>\n",
              "      <td>0</td>\n",
              "      <td>1</td>\n",
              "      <td>2</td>\n",
              "      <td>1</td>\n",
              "      <td>1</td>\n",
              "      <td>2</td>\n",
              "      <td>2</td>\n",
              "      <td>1</td>\n",
              "      <td>1</td>\n",
              "      <td>5</td>\n",
              "      <td>2</td>\n",
              "      <td>2</td>\n",
              "      <td>1</td>\n",
              "      <td>1</td>\n",
              "      <td>4</td>\n",
              "      <td>0</td>\n",
              "      <td>9</td>\n",
              "      <td>10</td>\n",
              "      <td>2</td>\n",
              "      <td>2</td>\n",
              "      <td>1</td>\n",
              "      <td>1</td>\n",
              "    </tr>\n",
              "    <tr>\n",
              "      <th>30</th>\n",
              "      <td>1</td>\n",
              "      <td>1</td>\n",
              "      <td>15</td>\n",
              "      <td>1</td>\n",
              "      <td>0</td>\n",
              "      <td>2</td>\n",
              "      <td>4</td>\n",
              "      <td>4</td>\n",
              "      <td>2</td>\n",
              "      <td>3</td>\n",
              "      <td>3</td>\n",
              "      <td>1</td>\n",
              "      <td>1</td>\n",
              "      <td>2</td>\n",
              "      <td>0</td>\n",
              "      <td>1</td>\n",
              "      <td>1</td>\n",
              "      <td>2</td>\n",
              "      <td>1</td>\n",
              "      <td>2</td>\n",
              "      <td>1</td>\n",
              "      <td>2</td>\n",
              "      <td>1</td>\n",
              "      <td>5</td>\n",
              "      <td>4</td>\n",
              "      <td>2</td>\n",
              "      <td>3</td>\n",
              "      <td>4</td>\n",
              "      <td>5</td>\n",
              "      <td>0</td>\n",
              "      <td>9</td>\n",
              "      <td>11</td>\n",
              "      <td>1</td>\n",
              "      <td>2</td>\n",
              "      <td>1</td>\n",
              "      <td>2</td>\n",
              "    </tr>\n",
              "    <tr>\n",
              "      <th>317</th>\n",
              "      <td>1</td>\n",
              "      <td>2</td>\n",
              "      <td>18</td>\n",
              "      <td>1</td>\n",
              "      <td>0</td>\n",
              "      <td>2</td>\n",
              "      <td>4</td>\n",
              "      <td>3</td>\n",
              "      <td>3</td>\n",
              "      <td>2</td>\n",
              "      <td>4</td>\n",
              "      <td>1</td>\n",
              "      <td>1</td>\n",
              "      <td>3</td>\n",
              "      <td>0</td>\n",
              "      <td>1</td>\n",
              "      <td>1</td>\n",
              "      <td>2</td>\n",
              "      <td>2</td>\n",
              "      <td>1</td>\n",
              "      <td>1</td>\n",
              "      <td>2</td>\n",
              "      <td>2</td>\n",
              "      <td>4</td>\n",
              "      <td>3</td>\n",
              "      <td>4</td>\n",
              "      <td>1</td>\n",
              "      <td>1</td>\n",
              "      <td>5</td>\n",
              "      <td>9</td>\n",
              "      <td>9</td>\n",
              "      <td>10</td>\n",
              "      <td>1</td>\n",
              "      <td>2</td>\n",
              "      <td>1</td>\n",
              "      <td>1</td>\n",
              "    </tr>\n",
              "  </tbody>\n",
              "</table>\n",
              "</div>"
            ],
            "text/plain": [
              "     school  sex  age  address  ...  subject  Regularity  GradeG1  GradeG2\n",
              "89        1    1   16        1  ...        1           1        1        1\n",
              "704       1    1   18        1  ...        2           2        1        2\n",
              "692       1    1   17        2  ...        2           2        1        1\n",
              "30        1    1   15        1  ...        1           2        1        2\n",
              "317       1    2   18        1  ...        1           2        1        1\n",
              "\n",
              "[5 rows x 36 columns]"
            ]
          },
          "metadata": {
            "tags": []
          },
          "execution_count": 24
        }
      ]
    },
    {
      "cell_type": "code",
      "metadata": {
        "colab": {
          "base_uri": "https://localhost:8080/",
          "height": 224
        },
        "id": "eQwjycMVRVGa",
        "outputId": "87b8d5a2-52e5-4e95-ce38-bd2c29ed7061"
      },
      "source": [
        "X_test.head()"
      ],
      "execution_count": null,
      "outputs": [
        {
          "output_type": "execute_result",
          "data": {
            "text/html": [
              "<div>\n",
              "<style scoped>\n",
              "    .dataframe tbody tr th:only-of-type {\n",
              "        vertical-align: middle;\n",
              "    }\n",
              "\n",
              "    .dataframe tbody tr th {\n",
              "        vertical-align: top;\n",
              "    }\n",
              "\n",
              "    .dataframe thead th {\n",
              "        text-align: right;\n",
              "    }\n",
              "</style>\n",
              "<table border=\"1\" class=\"dataframe\">\n",
              "  <thead>\n",
              "    <tr style=\"text-align: right;\">\n",
              "      <th></th>\n",
              "      <th>school</th>\n",
              "      <th>sex</th>\n",
              "      <th>age</th>\n",
              "      <th>address</th>\n",
              "      <th>famsize</th>\n",
              "      <th>Pstatus</th>\n",
              "      <th>Medu</th>\n",
              "      <th>Fedu</th>\n",
              "      <th>Mjob</th>\n",
              "      <th>Fjob</th>\n",
              "      <th>reason</th>\n",
              "      <th>guardian</th>\n",
              "      <th>traveltime</th>\n",
              "      <th>studytime</th>\n",
              "      <th>failures</th>\n",
              "      <th>schoolsup</th>\n",
              "      <th>famsup</th>\n",
              "      <th>paid</th>\n",
              "      <th>activities</th>\n",
              "      <th>nursery</th>\n",
              "      <th>higher</th>\n",
              "      <th>internet</th>\n",
              "      <th>romantic</th>\n",
              "      <th>famrel</th>\n",
              "      <th>freetime</th>\n",
              "      <th>goout</th>\n",
              "      <th>Dalc</th>\n",
              "      <th>Walc</th>\n",
              "      <th>health</th>\n",
              "      <th>absences</th>\n",
              "      <th>G1</th>\n",
              "      <th>G2</th>\n",
              "      <th>subject</th>\n",
              "      <th>Regularity</th>\n",
              "      <th>GradeG1</th>\n",
              "      <th>GradeG2</th>\n",
              "    </tr>\n",
              "  </thead>\n",
              "  <tbody>\n",
              "    <tr>\n",
              "      <th>975</th>\n",
              "      <td>2</td>\n",
              "      <td>1</td>\n",
              "      <td>19</td>\n",
              "      <td>2</td>\n",
              "      <td>0</td>\n",
              "      <td>2</td>\n",
              "      <td>1</td>\n",
              "      <td>1</td>\n",
              "      <td>3</td>\n",
              "      <td>2</td>\n",
              "      <td>3</td>\n",
              "      <td>3</td>\n",
              "      <td>3</td>\n",
              "      <td>1</td>\n",
              "      <td>1</td>\n",
              "      <td>1</td>\n",
              "      <td>1</td>\n",
              "      <td>1</td>\n",
              "      <td>1</td>\n",
              "      <td>1</td>\n",
              "      <td>1</td>\n",
              "      <td>2</td>\n",
              "      <td>1</td>\n",
              "      <td>4</td>\n",
              "      <td>4</td>\n",
              "      <td>4</td>\n",
              "      <td>3</td>\n",
              "      <td>3</td>\n",
              "      <td>5</td>\n",
              "      <td>4</td>\n",
              "      <td>8</td>\n",
              "      <td>9</td>\n",
              "      <td>2</td>\n",
              "      <td>2</td>\n",
              "      <td>1</td>\n",
              "      <td>1</td>\n",
              "    </tr>\n",
              "    <tr>\n",
              "      <th>522</th>\n",
              "      <td>1</td>\n",
              "      <td>2</td>\n",
              "      <td>19</td>\n",
              "      <td>1</td>\n",
              "      <td>0</td>\n",
              "      <td>2</td>\n",
              "      <td>0</td>\n",
              "      <td>1</td>\n",
              "      <td>4</td>\n",
              "      <td>2</td>\n",
              "      <td>4</td>\n",
              "      <td>3</td>\n",
              "      <td>1</td>\n",
              "      <td>2</td>\n",
              "      <td>2</td>\n",
              "      <td>1</td>\n",
              "      <td>1</td>\n",
              "      <td>1</td>\n",
              "      <td>1</td>\n",
              "      <td>2</td>\n",
              "      <td>2</td>\n",
              "      <td>1</td>\n",
              "      <td>1</td>\n",
              "      <td>3</td>\n",
              "      <td>4</td>\n",
              "      <td>2</td>\n",
              "      <td>1</td>\n",
              "      <td>1</td>\n",
              "      <td>5</td>\n",
              "      <td>0</td>\n",
              "      <td>9</td>\n",
              "      <td>10</td>\n",
              "      <td>2</td>\n",
              "      <td>2</td>\n",
              "      <td>1</td>\n",
              "      <td>1</td>\n",
              "    </tr>\n",
              "    <tr>\n",
              "      <th>413</th>\n",
              "      <td>1</td>\n",
              "      <td>1</td>\n",
              "      <td>17</td>\n",
              "      <td>1</td>\n",
              "      <td>0</td>\n",
              "      <td>2</td>\n",
              "      <td>3</td>\n",
              "      <td>2</td>\n",
              "      <td>5</td>\n",
              "      <td>3</td>\n",
              "      <td>4</td>\n",
              "      <td>1</td>\n",
              "      <td>1</td>\n",
              "      <td>1</td>\n",
              "      <td>3</td>\n",
              "      <td>1</td>\n",
              "      <td>1</td>\n",
              "      <td>2</td>\n",
              "      <td>2</td>\n",
              "      <td>1</td>\n",
              "      <td>1</td>\n",
              "      <td>2</td>\n",
              "      <td>1</td>\n",
              "      <td>5</td>\n",
              "      <td>5</td>\n",
              "      <td>5</td>\n",
              "      <td>2</td>\n",
              "      <td>4</td>\n",
              "      <td>5</td>\n",
              "      <td>2</td>\n",
              "      <td>8</td>\n",
              "      <td>8</td>\n",
              "      <td>2</td>\n",
              "      <td>2</td>\n",
              "      <td>1</td>\n",
              "      <td>1</td>\n",
              "    </tr>\n",
              "    <tr>\n",
              "      <th>905</th>\n",
              "      <td>2</td>\n",
              "      <td>2</td>\n",
              "      <td>17</td>\n",
              "      <td>2</td>\n",
              "      <td>0</td>\n",
              "      <td>2</td>\n",
              "      <td>2</td>\n",
              "      <td>2</td>\n",
              "      <td>3</td>\n",
              "      <td>2</td>\n",
              "      <td>1</td>\n",
              "      <td>1</td>\n",
              "      <td>2</td>\n",
              "      <td>2</td>\n",
              "      <td>0</td>\n",
              "      <td>1</td>\n",
              "      <td>1</td>\n",
              "      <td>1</td>\n",
              "      <td>2</td>\n",
              "      <td>1</td>\n",
              "      <td>1</td>\n",
              "      <td>1</td>\n",
              "      <td>1</td>\n",
              "      <td>5</td>\n",
              "      <td>3</td>\n",
              "      <td>2</td>\n",
              "      <td>1</td>\n",
              "      <td>1</td>\n",
              "      <td>1</td>\n",
              "      <td>0</td>\n",
              "      <td>15</td>\n",
              "      <td>17</td>\n",
              "      <td>2</td>\n",
              "      <td>2</td>\n",
              "      <td>3</td>\n",
              "      <td>3</td>\n",
              "    </tr>\n",
              "    <tr>\n",
              "      <th>328</th>\n",
              "      <td>1</td>\n",
              "      <td>2</td>\n",
              "      <td>17</td>\n",
              "      <td>1</td>\n",
              "      <td>0</td>\n",
              "      <td>2</td>\n",
              "      <td>4</td>\n",
              "      <td>4</td>\n",
              "      <td>1</td>\n",
              "      <td>3</td>\n",
              "      <td>4</td>\n",
              "      <td>1</td>\n",
              "      <td>1</td>\n",
              "      <td>3</td>\n",
              "      <td>0</td>\n",
              "      <td>1</td>\n",
              "      <td>1</td>\n",
              "      <td>2</td>\n",
              "      <td>2</td>\n",
              "      <td>1</td>\n",
              "      <td>1</td>\n",
              "      <td>2</td>\n",
              "      <td>1</td>\n",
              "      <td>5</td>\n",
              "      <td>4</td>\n",
              "      <td>4</td>\n",
              "      <td>1</td>\n",
              "      <td>3</td>\n",
              "      <td>4</td>\n",
              "      <td>7</td>\n",
              "      <td>10</td>\n",
              "      <td>9</td>\n",
              "      <td>1</td>\n",
              "      <td>2</td>\n",
              "      <td>1</td>\n",
              "      <td>1</td>\n",
              "    </tr>\n",
              "  </tbody>\n",
              "</table>\n",
              "</div>"
            ],
            "text/plain": [
              "     school  sex  age  address  ...  subject  Regularity  GradeG1  GradeG2\n",
              "975       2    1   19        2  ...        2           2        1        1\n",
              "522       1    2   19        1  ...        2           2        1        1\n",
              "413       1    1   17        1  ...        2           2        1        1\n",
              "905       2    2   17        2  ...        2           2        3        3\n",
              "328       1    2   17        1  ...        1           2        1        1\n",
              "\n",
              "[5 rows x 36 columns]"
            ]
          },
          "metadata": {
            "tags": []
          },
          "execution_count": 25
        }
      ]
    },
    {
      "cell_type": "code",
      "metadata": {
        "colab": {
          "base_uri": "https://localhost:8080/"
        },
        "id": "Fg7eil_VY6au",
        "outputId": "847ee2c5-202e-4715-980a-6cd20a583dde"
      },
      "source": [
        "y_train"
      ],
      "execution_count": null,
      "outputs": [
        {
          "output_type": "execute_result",
          "data": {
            "text/plain": [
              "89             Poor\n",
              "704    Satisfactory\n",
              "692            Poor\n",
              "30     Satisfactory\n",
              "317            Poor\n",
              "           ...     \n",
              "454            Good\n",
              "966            Poor\n",
              "944       Excellent\n",
              "347            Poor\n",
              "563            Poor\n",
              "Name: FinalGrade, Length: 835, dtype: object"
            ]
          },
          "metadata": {
            "tags": []
          },
          "execution_count": 58
        }
      ]
    },
    {
      "cell_type": "markdown",
      "metadata": {
        "id": "Tbuip4J8RbxW"
      },
      "source": [
        "# Decision Tree Classifier with criterion gini index"
      ]
    },
    {
      "cell_type": "code",
      "metadata": {
        "id": "Hy7qDQFQRc8z"
      },
      "source": [
        "# import DecisionTreeClassifier\n",
        "\n",
        "from sklearn.tree import DecisionTreeClassifier"
      ],
      "execution_count": null,
      "outputs": []
    },
    {
      "cell_type": "code",
      "metadata": {
        "colab": {
          "base_uri": "https://localhost:8080/"
        },
        "id": "W2WtuooQRlBF",
        "outputId": "0251ffac-da70-4347-8b32-86360655eecc"
      },
      "source": [
        "# instantiate the DecisionTreeClassifier model with criterion gini index\n",
        "\n",
        "clf_gini = DecisionTreeClassifier(criterion='gini', max_depth=4, random_state=0)\n",
        "\n",
        "\n",
        "# fit the model\n",
        "clf_gini.fit(X_train, y_train)"
      ],
      "execution_count": null,
      "outputs": [
        {
          "output_type": "execute_result",
          "data": {
            "text/plain": [
              "DecisionTreeClassifier(ccp_alpha=0.0, class_weight=None, criterion='gini',\n",
              "                       max_depth=4, max_features=None, max_leaf_nodes=None,\n",
              "                       min_impurity_decrease=0.0, min_impurity_split=None,\n",
              "                       min_samples_leaf=1, min_samples_split=2,\n",
              "                       min_weight_fraction_leaf=0.0, presort='deprecated',\n",
              "                       random_state=0, splitter='best')"
            ]
          },
          "metadata": {
            "tags": []
          },
          "execution_count": 27
        }
      ]
    },
    {
      "cell_type": "markdown",
      "metadata": {
        "id": "ZktTFbd3Ruai"
      },
      "source": [
        "Predict the Test set results with criterion gini index"
      ]
    },
    {
      "cell_type": "code",
      "metadata": {
        "id": "YhOqjBE5RvAE"
      },
      "source": [
        "y_pred_gini = clf_gini.predict(X_test)"
      ],
      "execution_count": null,
      "outputs": []
    },
    {
      "cell_type": "markdown",
      "metadata": {
        "id": "3_S3MlJ6R3Yv"
      },
      "source": [
        "Check accuracy score with criterion gini index"
      ]
    },
    {
      "cell_type": "code",
      "metadata": {
        "colab": {
          "base_uri": "https://localhost:8080/"
        },
        "id": "u9LK5Jq2R369",
        "outputId": "b43f3cac-f075-47e5-a4ff-f7b0c0236ca8"
      },
      "source": [
        "from sklearn.metrics import accuracy_score\n",
        "\n",
        "print('Model accuracy score with criterion gini index: {0:0.4f}'. format(accuracy_score(y_test, y_pred_gini)))"
      ],
      "execution_count": null,
      "outputs": [
        {
          "output_type": "stream",
          "text": [
            "Model accuracy score with criterion gini index: 0.8373\n"
          ],
          "name": "stdout"
        }
      ]
    },
    {
      "cell_type": "code",
      "metadata": {
        "id": "DsNv7Uj1pdR4"
      },
      "source": [
        "X_train.to_csv(\"X_train dataset\")"
      ],
      "execution_count": null,
      "outputs": []
    },
    {
      "cell_type": "markdown",
      "metadata": {
        "id": "IWJ2Xjm0SDRw"
      },
      "source": [
        "Compare the train-set and test-set accuracy\n"
      ]
    },
    {
      "cell_type": "code",
      "metadata": {
        "colab": {
          "base_uri": "https://localhost:8080/"
        },
        "id": "JEJhsozMSD7C",
        "outputId": "d1949cc5-0039-4aa4-909b-a81fc6d665b9"
      },
      "source": [
        "y_pred_train_gini = clf_gini.predict(X_train)\n",
        "\n",
        "y_pred_train_gini"
      ],
      "execution_count": null,
      "outputs": [
        {
          "output_type": "execute_result",
          "data": {
            "text/plain": [
              "array(['Poor', 'Satisfactory', 'Poor', 'Satisfactory', 'Poor', 'Poor',\n",
              "       'Satisfactory', 'Satisfactory', 'Poor', 'Poor', 'Poor', 'Good',\n",
              "       'Poor', 'Poor', 'Good', 'Poor', 'Satisfactory', 'Satisfactory',\n",
              "       'Excellent', 'Failure', 'Good', 'Good', 'Satisfactory',\n",
              "       'Satisfactory', 'Poor', 'Poor', 'Satisfactory', 'Poor', 'Poor',\n",
              "       'Poor', 'Poor', 'Satisfactory', 'Poor', 'Poor', 'Satisfactory',\n",
              "       'Poor', 'Excellent', 'Satisfactory', 'Poor', 'Satisfactory',\n",
              "       'Good', 'Poor', 'Poor', 'Satisfactory', 'Poor', 'Poor',\n",
              "       'Satisfactory', 'Poor', 'Satisfactory', 'Satisfactory', 'Poor',\n",
              "       'Good', 'Poor', 'Satisfactory', 'Poor', 'Good', 'Good',\n",
              "       'Satisfactory', 'Poor', 'Poor', 'Satisfactory', 'Satisfactory',\n",
              "       'Satisfactory', 'Satisfactory', 'Satisfactory', 'Good', 'Good',\n",
              "       'Satisfactory', 'Poor', 'Poor', 'Poor', 'Satisfactory', 'Poor',\n",
              "       'Satisfactory', 'Satisfactory', 'Excellent', 'Satisfactory',\n",
              "       'Satisfactory', 'Poor', 'Poor', 'Satisfactory', 'Poor',\n",
              "       'Excellent', 'Good', 'Satisfactory', 'Good', 'Satisfactory',\n",
              "       'Satisfactory', 'Satisfactory', 'Satisfactory', 'Satisfactory',\n",
              "       'Good', 'Poor', 'Good', 'Satisfactory', 'Poor', 'Satisfactory',\n",
              "       'Excellent', 'Satisfactory', 'Failure', 'Poor', 'Poor', 'Poor',\n",
              "       'Satisfactory', 'Satisfactory', 'Poor', 'Satisfactory',\n",
              "       'Satisfactory', 'Good', 'Satisfactory', 'Satisfactory', 'Good',\n",
              "       'Poor', 'Good', 'Poor', 'Failure', 'Satisfactory', 'Poor', 'Poor',\n",
              "       'Satisfactory', 'Poor', 'Satisfactory', 'Good', 'Good',\n",
              "       'Satisfactory', 'Poor', 'Excellent', 'Satisfactory', 'Poor',\n",
              "       'Satisfactory', 'Satisfactory', 'Satisfactory', 'Poor', 'Failure',\n",
              "       'Satisfactory', 'Good', 'Satisfactory', 'Poor', 'Poor', 'Poor',\n",
              "       'Satisfactory', 'Satisfactory', 'Poor', 'Poor', 'Poor', 'Poor',\n",
              "       'Satisfactory', 'Satisfactory', 'Poor', 'Good', 'Good', 'Poor',\n",
              "       'Satisfactory', 'Poor', 'Satisfactory', 'Satisfactory', 'Poor',\n",
              "       'Poor', 'Satisfactory', 'Satisfactory', 'Satisfactory', 'Good',\n",
              "       'Poor', 'Satisfactory', 'Poor', 'Poor', 'Satisfactory', 'Poor',\n",
              "       'Satisfactory', 'Poor', 'Satisfactory', 'Satisfactory', 'Poor',\n",
              "       'Poor', 'Excellent', 'Satisfactory', 'Poor', 'Good', 'Poor',\n",
              "       'Satisfactory', 'Good', 'Poor', 'Poor', 'Poor', 'Failure', 'Poor',\n",
              "       'Excellent', 'Satisfactory', 'Poor', 'Poor', 'Poor', 'Poor',\n",
              "       'Poor', 'Poor', 'Poor', 'Satisfactory', 'Poor', 'Good',\n",
              "       'Satisfactory', 'Satisfactory', 'Good', 'Poor', 'Good', 'Good',\n",
              "       'Poor', 'Satisfactory', 'Satisfactory', 'Satisfactory',\n",
              "       'Satisfactory', 'Satisfactory', 'Good', 'Good', 'Satisfactory',\n",
              "       'Poor', 'Satisfactory', 'Good', 'Good', 'Poor', 'Poor', 'Poor',\n",
              "       'Satisfactory', 'Excellent', 'Poor', 'Good', 'Satisfactory',\n",
              "       'Poor', 'Failure', 'Satisfactory', 'Satisfactory', 'Poor',\n",
              "       'Satisfactory', 'Poor', 'Satisfactory', 'Poor', 'Satisfactory',\n",
              "       'Poor', 'Good', 'Poor', 'Satisfactory', 'Satisfactory',\n",
              "       'Satisfactory', 'Satisfactory', 'Poor', 'Poor', 'Poor', 'Poor',\n",
              "       'Satisfactory', 'Satisfactory', 'Satisfactory', 'Poor',\n",
              "       'Satisfactory', 'Satisfactory', 'Satisfactory', 'Satisfactory',\n",
              "       'Poor', 'Satisfactory', 'Satisfactory', 'Poor', 'Satisfactory',\n",
              "       'Good', 'Good', 'Poor', 'Satisfactory', 'Poor', 'Satisfactory',\n",
              "       'Satisfactory', 'Excellent', 'Poor', 'Satisfactory', 'Poor',\n",
              "       'Poor', 'Satisfactory', 'Satisfactory', 'Poor', 'Poor', 'Poor',\n",
              "       'Satisfactory', 'Satisfactory', 'Satisfactory', 'Poor', 'Good',\n",
              "       'Satisfactory', 'Poor', 'Satisfactory', 'Good', 'Poor', 'Poor',\n",
              "       'Good', 'Satisfactory', 'Good', 'Poor', 'Good', 'Satisfactory',\n",
              "       'Poor', 'Good', 'Satisfactory', 'Satisfactory', 'Poor', 'Poor',\n",
              "       'Poor', 'Satisfactory', 'Satisfactory', 'Satisfactory', 'Good',\n",
              "       'Poor', 'Satisfactory', 'Satisfactory', 'Good', 'Satisfactory',\n",
              "       'Excellent', 'Satisfactory', 'Poor', 'Poor', 'Poor', 'Poor',\n",
              "       'Satisfactory', 'Poor', 'Satisfactory', 'Poor', 'Satisfactory',\n",
              "       'Satisfactory', 'Satisfactory', 'Failure', 'Excellent', 'Poor',\n",
              "       'Satisfactory', 'Excellent', 'Poor', 'Satisfactory',\n",
              "       'Satisfactory', 'Satisfactory', 'Failure', 'Satisfactory',\n",
              "       'Satisfactory', 'Satisfactory', 'Satisfactory', 'Good', 'Poor',\n",
              "       'Good', 'Poor', 'Poor', 'Failure', 'Poor', 'Good', 'Satisfactory',\n",
              "       'Satisfactory', 'Satisfactory', 'Poor', 'Satisfactory',\n",
              "       'Satisfactory', 'Satisfactory', 'Satisfactory', 'Good', 'Good',\n",
              "       'Poor', 'Poor', 'Satisfactory', 'Satisfactory', 'Poor',\n",
              "       'Satisfactory', 'Satisfactory', 'Satisfactory', 'Poor', 'Failure',\n",
              "       'Poor', 'Satisfactory', 'Failure', 'Good', 'Satisfactory', 'Good',\n",
              "       'Satisfactory', 'Poor', 'Failure', 'Satisfactory', 'Poor', 'Poor',\n",
              "       'Satisfactory', 'Satisfactory', 'Poor', 'Satisfactory',\n",
              "       'Satisfactory', 'Good', 'Poor', 'Satisfactory', 'Poor',\n",
              "       'Satisfactory', 'Good', 'Satisfactory', 'Satisfactory',\n",
              "       'Satisfactory', 'Satisfactory', 'Poor', 'Satisfactory', 'Poor',\n",
              "       'Poor', 'Poor', 'Poor', 'Failure', 'Satisfactory', 'Poor',\n",
              "       'Failure', 'Satisfactory', 'Satisfactory', 'Poor', 'Satisfactory',\n",
              "       'Satisfactory', 'Poor', 'Poor', 'Failure', 'Poor', 'Satisfactory',\n",
              "       'Failure', 'Good', 'Good', 'Poor', 'Poor', 'Poor', 'Poor', 'Poor',\n",
              "       'Excellent', 'Satisfactory', 'Poor', 'Poor', 'Poor',\n",
              "       'Satisfactory', 'Satisfactory', 'Satisfactory', 'Satisfactory',\n",
              "       'Satisfactory', 'Poor', 'Satisfactory', 'Good', 'Satisfactory',\n",
              "       'Poor', 'Satisfactory', 'Poor', 'Poor', 'Poor', 'Satisfactory',\n",
              "       'Poor', 'Good', 'Satisfactory', 'Poor', 'Poor', 'Excellent',\n",
              "       'Good', 'Poor', 'Poor', 'Satisfactory', 'Good', 'Poor', 'Good',\n",
              "       'Failure', 'Poor', 'Satisfactory', 'Poor', 'Poor', 'Poor', 'Poor',\n",
              "       'Poor', 'Poor', 'Satisfactory', 'Poor', 'Good', 'Satisfactory',\n",
              "       'Poor', 'Satisfactory', 'Poor', 'Poor', 'Poor', 'Good',\n",
              "       'Satisfactory', 'Satisfactory', 'Good', 'Satisfactory', 'Good',\n",
              "       'Poor', 'Poor', 'Satisfactory', 'Good', 'Excellent', 'Poor',\n",
              "       'Satisfactory', 'Satisfactory', 'Good', 'Satisfactory',\n",
              "       'Satisfactory', 'Satisfactory', 'Satisfactory', 'Poor', 'Good',\n",
              "       'Poor', 'Poor', 'Poor', 'Poor', 'Satisfactory', 'Good', 'Good',\n",
              "       'Good', 'Poor', 'Failure', 'Poor', 'Poor', 'Satisfactory',\n",
              "       'Satisfactory', 'Poor', 'Good', 'Poor', 'Good', 'Poor', 'Good',\n",
              "       'Good', 'Satisfactory', 'Poor', 'Poor', 'Poor', 'Poor',\n",
              "       'Satisfactory', 'Good', 'Satisfactory', 'Excellent',\n",
              "       'Satisfactory', 'Poor', 'Excellent', 'Poor', 'Satisfactory',\n",
              "       'Poor', 'Satisfactory', 'Poor', 'Poor', 'Satisfactory', 'Good',\n",
              "       'Satisfactory', 'Good', 'Satisfactory', 'Excellent', 'Good',\n",
              "       'Satisfactory', 'Poor', 'Satisfactory', 'Satisfactory',\n",
              "       'Satisfactory', 'Poor', 'Satisfactory', 'Poor', 'Satisfactory',\n",
              "       'Satisfactory', 'Good', 'Satisfactory', 'Good', 'Satisfactory',\n",
              "       'Poor', 'Satisfactory', 'Satisfactory', 'Satisfactory',\n",
              "       'Satisfactory', 'Poor', 'Satisfactory', 'Poor', 'Poor',\n",
              "       'Excellent', 'Poor', 'Satisfactory', 'Poor', 'Poor', 'Poor',\n",
              "       'Satisfactory', 'Satisfactory', 'Satisfactory', 'Poor',\n",
              "       'Satisfactory', 'Excellent', 'Satisfactory', 'Poor', 'Poor',\n",
              "       'Satisfactory', 'Excellent', 'Satisfactory', 'Satisfactory',\n",
              "       'Satisfactory', 'Satisfactory', 'Poor', 'Poor', 'Good',\n",
              "       'Satisfactory', 'Poor', 'Poor', 'Satisfactory', 'Good',\n",
              "       'Satisfactory', 'Poor', 'Satisfactory', 'Good', 'Satisfactory',\n",
              "       'Good', 'Poor', 'Good', 'Good', 'Satisfactory', 'Excellent',\n",
              "       'Good', 'Satisfactory', 'Satisfactory', 'Satisfactory',\n",
              "       'Satisfactory', 'Good', 'Satisfactory', 'Poor', 'Poor',\n",
              "       'Satisfactory', 'Satisfactory', 'Poor', 'Good', 'Satisfactory',\n",
              "       'Satisfactory', 'Good', 'Satisfactory', 'Poor', 'Good', 'Poor',\n",
              "       'Satisfactory', 'Good', 'Satisfactory', 'Poor', 'Poor', 'Good',\n",
              "       'Poor', 'Satisfactory', 'Satisfactory', 'Excellent', 'Poor',\n",
              "       'Satisfactory', 'Poor', 'Satisfactory', 'Satisfactory', 'Good',\n",
              "       'Satisfactory', 'Satisfactory', 'Failure', 'Good', 'Satisfactory',\n",
              "       'Poor', 'Satisfactory', 'Poor', 'Poor', 'Satisfactory',\n",
              "       'Satisfactory', 'Good', 'Good', 'Poor', 'Satisfactory', 'Good',\n",
              "       'Good', 'Poor', 'Excellent', 'Good', 'Good', 'Satisfactory',\n",
              "       'Poor', 'Good', 'Satisfactory', 'Excellent', 'Satisfactory',\n",
              "       'Good', 'Satisfactory', 'Good', 'Failure', 'Poor', 'Satisfactory',\n",
              "       'Satisfactory', 'Satisfactory', 'Poor', 'Satisfactory',\n",
              "       'Satisfactory', 'Excellent', 'Satisfactory', 'Satisfactory',\n",
              "       'Poor', 'Excellent', 'Poor', 'Failure', 'Satisfactory',\n",
              "       'Satisfactory', 'Good', 'Satisfactory', 'Poor', 'Poor', 'Poor',\n",
              "       'Good', 'Good', 'Poor', 'Poor', 'Good', 'Poor', 'Satisfactory',\n",
              "       'Satisfactory', 'Good', 'Poor', 'Satisfactory', 'Poor', 'Good',\n",
              "       'Poor', 'Satisfactory', 'Satisfactory', 'Poor', 'Satisfactory',\n",
              "       'Poor', 'Good', 'Poor', 'Satisfactory', 'Poor', 'Good', 'Poor',\n",
              "       'Satisfactory', 'Good', 'Poor', 'Poor', 'Excellent',\n",
              "       'Satisfactory', 'Satisfactory', 'Satisfactory', 'Satisfactory',\n",
              "       'Satisfactory', 'Poor', 'Satisfactory', 'Excellent', 'Failure',\n",
              "       'Poor', 'Satisfactory', 'Good', 'Satisfactory', 'Poor', 'Poor',\n",
              "       'Satisfactory', 'Poor', 'Poor', 'Poor', 'Satisfactory', 'Good',\n",
              "       'Satisfactory', 'Failure', 'Poor', 'Poor', 'Poor', 'Good', 'Poor',\n",
              "       'Satisfactory', 'Satisfactory', 'Satisfactory', 'Satisfactory',\n",
              "       'Satisfactory', 'Poor', 'Good', 'Satisfactory', 'Good',\n",
              "       'Satisfactory', 'Poor', 'Excellent', 'Good', 'Poor', 'Good',\n",
              "       'Satisfactory', 'Satisfactory', 'Satisfactory', 'Good', 'Poor',\n",
              "       'Satisfactory', 'Poor', 'Satisfactory', 'Good', 'Satisfactory',\n",
              "       'Satisfactory', 'Satisfactory', 'Poor', 'Poor', 'Good',\n",
              "       'Satisfactory', 'Satisfactory', 'Poor', 'Satisfactory', 'Poor',\n",
              "       'Satisfactory', 'Satisfactory', 'Poor', 'Excellent', 'Failure',\n",
              "       'Poor', 'Satisfactory', 'Satisfactory', 'Satisfactory', 'Poor',\n",
              "       'Satisfactory', 'Good', 'Poor', 'Poor', 'Poor', 'Failure',\n",
              "       'Excellent', 'Satisfactory', 'Poor', 'Satisfactory', 'Poor',\n",
              "       'Satisfactory', 'Satisfactory', 'Poor', 'Satisfactory',\n",
              "       'Satisfactory', 'Excellent', 'Satisfactory', 'Excellent', 'Poor',\n",
              "       'Poor', 'Poor', 'Satisfactory', 'Poor', 'Poor', 'Satisfactory',\n",
              "       'Good', 'Poor', 'Poor', 'Poor', 'Poor', 'Good', 'Satisfactory',\n",
              "       'Satisfactory', 'Poor', 'Satisfactory', 'Satisfactory', 'Poor',\n",
              "       'Good', 'Good', 'Poor', 'Excellent', 'Poor', 'Poor'], dtype=object)"
            ]
          },
          "metadata": {
            "tags": []
          },
          "execution_count": 31
        }
      ]
    },
    {
      "cell_type": "code",
      "metadata": {
        "colab": {
          "base_uri": "https://localhost:8080/"
        },
        "id": "LutubtxWSO9P",
        "outputId": "81c3fb27-f99c-4430-9ad9-0fdaa141ae06"
      },
      "source": [
        "print('Training-set accuracy score: {0:0.4f}'. format(accuracy_score(y_train, y_pred_train_gini)))"
      ],
      "execution_count": null,
      "outputs": [
        {
          "output_type": "stream",
          "text": [
            "Training-set accuracy score: 0.8443\n"
          ],
          "name": "stdout"
        }
      ]
    },
    {
      "cell_type": "markdown",
      "metadata": {
        "id": "bY3GEz66SVvY"
      },
      "source": [
        "Check for overfitting and underfitting"
      ]
    },
    {
      "cell_type": "code",
      "metadata": {
        "colab": {
          "base_uri": "https://localhost:8080/"
        },
        "id": "rtoblKQOSWXS",
        "outputId": "27b8be83-370c-4189-eee2-fa3d4cf90e35"
      },
      "source": [
        "# print the scores on training and test set\n",
        "\n",
        "print('Training set score: {:.4f}'.format(clf_gini.score(X_train, y_train)))\n",
        "\n",
        "print('Test set score: {:.4f}'.format(clf_gini.score(X_test, y_test)))"
      ],
      "execution_count": null,
      "outputs": [
        {
          "output_type": "stream",
          "text": [
            "Training set score: 0.8443\n",
            "Test set score: 0.8373\n"
          ],
          "name": "stdout"
        }
      ]
    },
    {
      "cell_type": "markdown",
      "metadata": {
        "id": "Rg6bfhkTShiE"
      },
      "source": [
        "Visualize decision-trees"
      ]
    },
    {
      "cell_type": "code",
      "metadata": {
        "colab": {
          "base_uri": "https://localhost:8080/",
          "height": 1000
        },
        "id": "Tu1qMfKMSiYO",
        "outputId": "5cddc24c-4eb9-46db-f7ca-76a86591b6f5"
      },
      "source": [
        "plt.figure(figsize=(28,10))\n",
        "\n",
        "from sklearn import tree\n",
        "\n",
        "tree.plot_tree(clf_gini.fit(X_train, y_train),fontsize=15)"
      ],
      "execution_count": null,
      "outputs": [
        {
          "output_type": "execute_result",
          "data": {
            "text/plain": [
              "[Text(713.8551724137931, 489.24, 'X[31] <= 10.5\\ngini = 0.682\\nsamples = 835\\nvalue = [28, 50, 131, 262, 364]'),\n",
              " Text(296.31724137931036, 380.52000000000004, 'X[31] <= 5.5\\ngini = 0.467\\nsamples = 342\\nvalue = [0, 50, 1, 239, 52]'),\n",
              " Text(107.75172413793103, 271.8, 'X[29] <= 2.0\\ngini = 0.285\\nsamples = 29\\nvalue = [0, 24, 0, 5, 0]'),\n",
              " Text(53.87586206896552, 163.08000000000004, 'gini = 0.0\\nsamples = 21\\nvalue = [0, 21, 0, 0, 0]'),\n",
              " Text(161.62758620689655, 163.08000000000004, 'X[10] <= 3.5\\ngini = 0.469\\nsamples = 8\\nvalue = [0, 3, 0, 5, 0]'),\n",
              " Text(107.75172413793103, 54.360000000000014, 'gini = 0.0\\nsamples = 4\\nvalue = [0, 0, 0, 4, 0]'),\n",
              " Text(215.50344827586207, 54.360000000000014, 'gini = 0.375\\nsamples = 4\\nvalue = [0, 3, 0, 1, 0]'),\n",
              " Text(484.88275862068963, 271.8, 'X[31] <= 9.5\\ngini = 0.407\\nsamples = 313\\nvalue = [0, 26, 1, 234, 52]'),\n",
              " Text(377.13103448275865, 163.08000000000004, 'X[29] <= 0.5\\ngini = 0.299\\nsamples = 209\\nvalue = [0, 23, 0, 173, 13]'),\n",
              " Text(323.2551724137931, 54.360000000000014, 'gini = 0.57\\nsamples = 57\\nvalue = [0, 20, 0, 31, 6]'),\n",
              " Text(431.00689655172414, 54.360000000000014, 'gini = 0.125\\nsamples = 152\\nvalue = [0, 3, 0, 142, 7]'),\n",
              " Text(592.6344827586207, 163.08000000000004, 'X[30] <= 11.5\\ngini = 0.514\\nsamples = 104\\nvalue = [0, 3, 1, 61, 39]'),\n",
              " Text(538.7586206896551, 54.360000000000014, 'gini = 0.491\\nsamples = 96\\nvalue = [0, 3, 1, 61, 31]'),\n",
              " Text(646.5103448275862, 54.360000000000014, 'gini = 0.0\\nsamples = 8\\nvalue = [0, 0, 0, 0, 8]'),\n",
              " Text(1131.393103448276, 380.52000000000004, 'X[31] <= 14.5\\ngini = 0.525\\nsamples = 493\\nvalue = [28, 0, 130, 23, 312]'),\n",
              " Text(915.8896551724138, 271.8, 'X[31] <= 13.5\\ngini = 0.252\\nsamples = 362\\nvalue = [0, 0, 28, 23, 311]'),\n",
              " Text(808.1379310344828, 163.08000000000004, 'X[31] <= 11.5\\ngini = 0.164\\nsamples = 304\\nvalue = [0, 0, 4, 23, 277]'),\n",
              " Text(754.2620689655173, 54.360000000000014, 'gini = 0.291\\nsamples = 113\\nvalue = [0, 0, 0, 20, 93]'),\n",
              " Text(862.0137931034483, 54.360000000000014, 'gini = 0.071\\nsamples = 191\\nvalue = [0, 0, 4, 3, 184]'),\n",
              " Text(1023.6413793103449, 163.08000000000004, 'X[30] <= 13.5\\ngini = 0.485\\nsamples = 58\\nvalue = [0, 0, 24, 0, 34]'),\n",
              " Text(969.7655172413793, 54.360000000000014, 'gini = 0.33\\nsamples = 24\\nvalue = [0, 0, 5, 0, 19]'),\n",
              " Text(1077.5172413793102, 54.360000000000014, 'gini = 0.493\\nsamples = 34\\nvalue = [0, 0, 19, 0, 15]'),\n",
              " Text(1346.896551724138, 271.8, 'X[31] <= 16.5\\ngini = 0.348\\nsamples = 131\\nvalue = [28, 0, 102, 0, 1]'),\n",
              " Text(1239.144827586207, 163.08000000000004, 'X[9] <= 1.5\\ngini = 0.044\\nsamples = 90\\nvalue = [1, 0, 88, 0, 1]'),\n",
              " Text(1185.2689655172414, 54.360000000000014, 'gini = 0.245\\nsamples = 7\\nvalue = [0, 0, 6, 0, 1]'),\n",
              " Text(1293.0206896551724, 54.360000000000014, 'gini = 0.024\\nsamples = 83\\nvalue = [1, 0, 82, 0, 0]'),\n",
              " Text(1454.6482758620689, 163.08000000000004, 'X[30] <= 15.5\\ngini = 0.45\\nsamples = 41\\nvalue = [27, 0, 14, 0, 0]'),\n",
              " Text(1400.7724137931034, 54.360000000000014, 'gini = 0.0\\nsamples = 5\\nvalue = [0, 0, 5, 0, 0]'),\n",
              " Text(1508.5241379310346, 54.360000000000014, 'gini = 0.375\\nsamples = 36\\nvalue = [27, 0, 9, 0, 0]')]"
            ]
          },
          "metadata": {
            "tags": []
          },
          "execution_count": 34
        },
        {
          "output_type": "display_data",
          "data": {
            "image/png": "[encoded data removed]",
            "text/plain": [
              "<Figure size 2016x720 with 1 Axes>"
            ]
          },
          "metadata": {
            "tags": [],
            "needs_background": "light"
          }
        }
      ]
    },
    {
      "cell_type": "code",
      "metadata": {
        "colab": {
          "base_uri": "https://localhost:8080/",
          "height": 745
        },
        "id": "Ck1alaPBa6Vg",
        "outputId": "e1620630-88f4-4428-9581-737b036a5b2f"
      },
      "source": [
        "import graphviz \n",
        "dot_data = tree.export_graphviz(clf_gini, out_file=None, \n",
        "                              feature_names=X_train.columns,  \n",
        "                              class_names=True,  \n",
        "                              filled=True, rounded=True,  \n",
        "                              special_characters=True)\n",
        "\n",
        "graph = graphviz.Source(dot_data) \n",
        "\n",
        "graph"
      ],
      "execution_count": null,
      "outputs": [
        {
          "output_type": "execute_result",
          "data": {
            "text/plain": [
              "<graphviz.files.Source at 0x7f342b1d6290>"
            ],
            "image/svg+xml": "<?xml version=\"1.0\" encoding=\"UTF-8\" standalone=\"no\"?>\n<!DOCTYPE svg PUBLIC \"-//W3C//DTD SVG 1.1//EN\"\n \"http://www.w3.org/Graphics/SVG/1.1/DTD/svg11.dtd\">\n<!-- Generated by graphviz version 2.40.1 (20161225.0304)\n -->\n<!-- Title: Tree Pages: 1 -->\n<svg width=\"2428pt\" height=\"528pt\"\n viewBox=\"0.00 0.00 2428.00 528.00\" xmlns=\"http://www.w3.org/2000/svg\" xmlns:xlink=\"http://www.w3.org/1999/xlink\">\n<g id=\"graph0\" class=\"graph\" transform=\"scale(1 1) rotate(0) translate(4 524)\">\n<title>Tree</title>\n<polygon fill=\"#ffffff\" stroke=\"transparent\" points=\"-4,4 -4,-524 2424,-524 2424,4 -4,4\"/>\n<!-- 0 -->\n<g id=\"node1\" class=\"node\">\n<title>0</title>\n<path fill=\"#fadcf4\" stroke=\"#000000\" d=\"M1134.5,-520C1134.5,-520 946.5,-520 946.5,-520 940.5,-520 934.5,-514 934.5,-508 934.5,-508 934.5,-454 934.5,-454 934.5,-448 940.5,-442 946.5,-442 946.5,-442 1134.5,-442 1134.5,-442 1140.5,-442 1146.5,-448 1146.5,-454 1146.5,-454 1146.5,-508 1146.5,-508 1146.5,-514 1140.5,-520 1134.5,-520\"/>\n<text text-anchor=\"start\" x=\"1008.5\" y=\"-505.8\" font-family=\"Helvetica,sans-Serif\" font-size=\"14.00\" fill=\"#000000\">G2 ≤ 10.5</text>\n<text text-anchor=\"start\" x=\"1002.5\" y=\"-491.8\" font-family=\"Helvetica,sans-Serif\" font-size=\"14.00\" fill=\"#000000\">gini = 0.682</text>\n<text text-anchor=\"start\" x=\"992.5\" y=\"-477.8\" font-family=\"Helvetica,sans-Serif\" font-size=\"14.00\" fill=\"#000000\">samples = 835</text>\n<text text-anchor=\"start\" x=\"942.5\" y=\"-463.8\" font-family=\"Helvetica,sans-Serif\" font-size=\"14.00\" fill=\"#000000\">value = [28, 50, 131, 262, 364]</text>\n<text text-anchor=\"start\" x=\"1008\" y=\"-449.8\" font-family=\"Helvetica,sans-Serif\" font-size=\"14.00\" fill=\"#000000\">class = y</text>\n<text text-anchor=\"start\" x=\"1066\" y=\"-449.8\" font-family=\"Helvetica,sans-Serif\" baseline-shift=\"sub\" font-size=\"14.00\" fill=\"#000000\">4</text>\n</g>\n<!-- 1 -->\n<g id=\"node2\" class=\"node\">\n<title>1</title>\n<path fill=\"#817fee\" stroke=\"#000000\" d=\"M768,-406C768,-406 613,-406 613,-406 607,-406 601,-400 601,-394 601,-394 601,-340 601,-340 601,-334 607,-328 613,-328 613,-328 768,-328 768,-328 774,-328 780,-334 780,-340 780,-340 780,-394 780,-394 780,-400 774,-406 768,-406\"/>\n<text text-anchor=\"start\" x=\"663\" y=\"-391.8\" font-family=\"Helvetica,sans-Serif\" font-size=\"14.00\" fill=\"#000000\">G2 ≤ 5.5</text>\n<text text-anchor=\"start\" x=\"652.5\" y=\"-377.8\" font-family=\"Helvetica,sans-Serif\" font-size=\"14.00\" fill=\"#000000\">gini = 0.467</text>\n<text text-anchor=\"start\" x=\"642.5\" y=\"-363.8\" font-family=\"Helvetica,sans-Serif\" font-size=\"14.00\" fill=\"#000000\">samples = 342</text>\n<text text-anchor=\"start\" x=\"609\" y=\"-349.8\" font-family=\"Helvetica,sans-Serif\" font-size=\"14.00\" fill=\"#000000\">value = [0, 50, 1, 239, 52]</text>\n<text text-anchor=\"start\" x=\"658\" y=\"-335.8\" font-family=\"Helvetica,sans-Serif\" font-size=\"14.00\" fill=\"#000000\">class = y</text>\n<text text-anchor=\"start\" x=\"716\" y=\"-335.8\" font-family=\"Helvetica,sans-Serif\" baseline-shift=\"sub\" font-size=\"14.00\" fill=\"#000000\">3</text>\n</g>\n<!-- 0&#45;&gt;1 -->\n<g id=\"edge1\" class=\"edge\">\n<title>0&#45;&gt;1</title>\n<path fill=\"none\" stroke=\"#000000\" d=\"M934.0629,-446.3319C888.2513,-431.4104 834.9936,-414.0636 789.9829,-399.403\"/>\n<polygon fill=\"#000000\" stroke=\"#000000\" points=\"790.8066,-395.9904 780.2142,-396.2212 788.6386,-402.6462 790.8066,-395.9904\"/>\n<text text-anchor=\"middle\" x=\"791.548\" y=\"-414.8045\" font-family=\"Helvetica,sans-Serif\" font-size=\"14.00\" fill=\"#000000\">True</text>\n</g>\n<!-- 14 -->\n<g id=\"node15\" class=\"node\">\n<title>14</title>\n<path fill=\"#f29cdf\" stroke=\"#000000\" d=\"M1482.5,-406C1482.5,-406 1310.5,-406 1310.5,-406 1304.5,-406 1298.5,-400 1298.5,-394 1298.5,-394 1298.5,-340 1298.5,-340 1298.5,-334 1304.5,-328 1310.5,-328 1310.5,-328 1482.5,-328 1482.5,-328 1488.5,-328 1494.5,-334 1494.5,-340 1494.5,-340 1494.5,-394 1494.5,-394 1494.5,-400 1488.5,-406 1482.5,-406\"/>\n<text text-anchor=\"start\" x=\"1364.5\" y=\"-391.8\" font-family=\"Helvetica,sans-Serif\" font-size=\"14.00\" fill=\"#000000\">G2 ≤ 14.5</text>\n<text text-anchor=\"start\" x=\"1358.5\" y=\"-377.8\" font-family=\"Helvetica,sans-Serif\" font-size=\"14.00\" fill=\"#000000\">gini = 0.525</text>\n<text text-anchor=\"start\" x=\"1348.5\" y=\"-363.8\" font-family=\"Helvetica,sans-Serif\" font-size=\"14.00\" fill=\"#000000\">samples = 493</text>\n<text text-anchor=\"start\" x=\"1306.5\" y=\"-349.8\" font-family=\"Helvetica,sans-Serif\" font-size=\"14.00\" fill=\"#000000\">value = [28, 0, 130, 23, 312]</text>\n<text text-anchor=\"start\" x=\"1364\" y=\"-335.8\" font-family=\"Helvetica,sans-Serif\" font-size=\"14.00\" fill=\"#000000\">class = y</text>\n<text text-anchor=\"start\" x=\"1422\" y=\"-335.8\" font-family=\"Helvetica,sans-Serif\" baseline-shift=\"sub\" font-size=\"14.00\" fill=\"#000000\">4</text>\n</g>\n<!-- 0&#45;&gt;14 -->\n<g id=\"edge14\" class=\"edge\">\n<title>0&#45;&gt;14</title>\n<path fill=\"none\" stroke=\"#000000\" d=\"M1146.8295,-446.9507C1191.5907,-432.617 1243.6108,-415.9589 1288.5452,-401.5698\"/>\n<polygon fill=\"#000000\" stroke=\"#000000\" points=\"1289.8602,-404.8239 1298.3164,-398.4408 1287.7253,-398.1573 1289.8602,-404.8239\"/>\n<text text-anchor=\"middle\" x=\"1286.872\" y=\"-416.9675\" font-family=\"Helvetica,sans-Serif\" font-size=\"14.00\" fill=\"#000000\">False</text>\n</g>\n<!-- 2 -->\n<g id=\"node3\" class=\"node\">\n<title>2</title>\n<path fill=\"#96ea62\" stroke=\"#000000\" d=\"M312,-292C312,-292 181,-292 181,-292 175,-292 169,-286 169,-280 169,-280 169,-226 169,-226 169,-220 175,-214 181,-214 181,-214 312,-214 312,-214 318,-214 324,-220 324,-226 324,-226 324,-280 324,-280 324,-286 318,-292 312,-292\"/>\n<text text-anchor=\"start\" x=\"196.5\" y=\"-277.8\" font-family=\"Helvetica,sans-Serif\" font-size=\"14.00\" fill=\"#000000\">absences ≤ 2.0</text>\n<text text-anchor=\"start\" x=\"208.5\" y=\"-263.8\" font-family=\"Helvetica,sans-Serif\" font-size=\"14.00\" fill=\"#000000\">gini = 0.285</text>\n<text text-anchor=\"start\" x=\"202.5\" y=\"-249.8\" font-family=\"Helvetica,sans-Serif\" font-size=\"14.00\" fill=\"#000000\">samples = 29</text>\n<text text-anchor=\"start\" x=\"177\" y=\"-235.8\" font-family=\"Helvetica,sans-Serif\" font-size=\"14.00\" fill=\"#000000\">value = [0, 24, 0, 5, 0]</text>\n<text text-anchor=\"start\" x=\"214\" y=\"-221.8\" font-family=\"Helvetica,sans-Serif\" font-size=\"14.00\" fill=\"#000000\">class = y</text>\n<text text-anchor=\"start\" x=\"272\" y=\"-221.8\" font-family=\"Helvetica,sans-Serif\" baseline-shift=\"sub\" font-size=\"14.00\" fill=\"#000000\">1</text>\n</g>\n<!-- 1&#45;&gt;2 -->\n<g id=\"edge2\" class=\"edge\">\n<title>1&#45;&gt;2</title>\n<path fill=\"none\" stroke=\"#000000\" d=\"M600.9172,-343.999C523.0599,-324.0086 410.9598,-295.2262 333.7857,-275.4112\"/>\n<polygon fill=\"#000000\" stroke=\"#000000\" points=\"334.6369,-272.0163 324.0806,-272.9194 332.896,-278.7964 334.6369,-272.0163\"/>\n</g>\n<!-- 7 -->\n<g id=\"node8\" class=\"node\">\n<title>7</title>\n<path fill=\"#7775ed\" stroke=\"#000000\" d=\"M768,-292C768,-292 613,-292 613,-292 607,-292 601,-286 601,-280 601,-280 601,-226 601,-226 601,-220 607,-214 613,-214 613,-214 768,-214 768,-214 774,-214 780,-220 780,-226 780,-226 780,-280 780,-280 780,-286 774,-292 768,-292\"/>\n<text text-anchor=\"start\" x=\"663\" y=\"-277.8\" font-family=\"Helvetica,sans-Serif\" font-size=\"14.00\" fill=\"#000000\">G2 ≤ 9.5</text>\n<text text-anchor=\"start\" x=\"652.5\" y=\"-263.8\" font-family=\"Helvetica,sans-Serif\" font-size=\"14.00\" fill=\"#000000\">gini = 0.407</text>\n<text text-anchor=\"start\" x=\"642.5\" y=\"-249.8\" font-family=\"Helvetica,sans-Serif\" font-size=\"14.00\" fill=\"#000000\">samples = 313</text>\n<text text-anchor=\"start\" x=\"609\" y=\"-235.8\" font-family=\"Helvetica,sans-Serif\" font-size=\"14.00\" fill=\"#000000\">value = [0, 26, 1, 234, 52]</text>\n<text text-anchor=\"start\" x=\"658\" y=\"-221.8\" font-family=\"Helvetica,sans-Serif\" font-size=\"14.00\" fill=\"#000000\">class = y</text>\n<text text-anchor=\"start\" x=\"716\" y=\"-221.8\" font-family=\"Helvetica,sans-Serif\" baseline-shift=\"sub\" font-size=\"14.00\" fill=\"#000000\">3</text>\n</g>\n<!-- 1&#45;&gt;7 -->\n<g id=\"edge7\" class=\"edge\">\n<title>1&#45;&gt;7</title>\n<path fill=\"none\" stroke=\"#000000\" d=\"M690.5,-327.7677C690.5,-319.6172 690.5,-310.9283 690.5,-302.4649\"/>\n<polygon fill=\"#000000\" stroke=\"#000000\" points=\"694.0001,-302.3046 690.5,-292.3046 687.0001,-302.3047 694.0001,-302.3046\"/>\n</g>\n<!-- 3 -->\n<g id=\"node4\" class=\"node\">\n<title>3</title>\n<path fill=\"#7be539\" stroke=\"#000000\" d=\"M143,-171C143,-171 12,-171 12,-171 6,-171 0,-165 0,-159 0,-159 0,-119 0,-119 0,-113 6,-107 12,-107 12,-107 143,-107 143,-107 149,-107 155,-113 155,-119 155,-119 155,-159 155,-159 155,-165 149,-171 143,-171\"/>\n<text text-anchor=\"start\" x=\"48\" y=\"-156.8\" font-family=\"Helvetica,sans-Serif\" font-size=\"14.00\" fill=\"#000000\">gini = 0.0</text>\n<text text-anchor=\"start\" x=\"33.5\" y=\"-142.8\" font-family=\"Helvetica,sans-Serif\" font-size=\"14.00\" fill=\"#000000\">samples = 21</text>\n<text text-anchor=\"start\" x=\"8\" y=\"-128.8\" font-family=\"Helvetica,sans-Serif\" font-size=\"14.00\" fill=\"#000000\">value = [0, 21, 0, 0, 0]</text>\n<text text-anchor=\"start\" x=\"45\" y=\"-114.8\" font-family=\"Helvetica,sans-Serif\" font-size=\"14.00\" fill=\"#000000\">class = y</text>\n<text text-anchor=\"start\" x=\"103\" y=\"-114.8\" font-family=\"Helvetica,sans-Serif\" baseline-shift=\"sub\" font-size=\"14.00\" fill=\"#000000\">1</text>\n</g>\n<!-- 2&#45;&gt;3 -->\n<g id=\"edge3\" class=\"edge\">\n<title>2&#45;&gt;3</title>\n<path fill=\"none\" stroke=\"#000000\" d=\"M188.3398,-213.7677C170.6163,-201.8122 151.1752,-188.698 133.5914,-176.8368\"/>\n<polygon fill=\"#000000\" stroke=\"#000000\" points=\"135.3717,-173.8159 125.1242,-171.1252 131.4571,-179.619 135.3717,-173.8159\"/>\n</g>\n<!-- 4 -->\n<g id=\"node5\" class=\"node\">\n<title>4</title>\n<path fill=\"#b1b0f5\" stroke=\"#000000\" d=\"M307.5,-178C307.5,-178 185.5,-178 185.5,-178 179.5,-178 173.5,-172 173.5,-166 173.5,-166 173.5,-112 173.5,-112 173.5,-106 179.5,-100 185.5,-100 185.5,-100 307.5,-100 307.5,-100 313.5,-100 319.5,-106 319.5,-112 319.5,-112 319.5,-166 319.5,-166 319.5,-172 313.5,-178 307.5,-178\"/>\n<text text-anchor=\"start\" x=\"206\" y=\"-163.8\" font-family=\"Helvetica,sans-Serif\" font-size=\"14.00\" fill=\"#000000\">reason ≤ 3.5</text>\n<text text-anchor=\"start\" x=\"208.5\" y=\"-149.8\" font-family=\"Helvetica,sans-Serif\" font-size=\"14.00\" fill=\"#000000\">gini = 0.469</text>\n<text text-anchor=\"start\" x=\"207\" y=\"-135.8\" font-family=\"Helvetica,sans-Serif\" font-size=\"14.00\" fill=\"#000000\">samples = 8</text>\n<text text-anchor=\"start\" x=\"181.5\" y=\"-121.8\" font-family=\"Helvetica,sans-Serif\" font-size=\"14.00\" fill=\"#000000\">value = [0, 3, 0, 5, 0]</text>\n<text text-anchor=\"start\" x=\"214\" y=\"-107.8\" font-family=\"Helvetica,sans-Serif\" font-size=\"14.00\" fill=\"#000000\">class = y</text>\n<text text-anchor=\"start\" x=\"272\" y=\"-107.8\" font-family=\"Helvetica,sans-Serif\" baseline-shift=\"sub\" font-size=\"14.00\" fill=\"#000000\">3</text>\n</g>\n<!-- 2&#45;&gt;4 -->\n<g id=\"edge4\" class=\"edge\">\n<title>2&#45;&gt;4</title>\n<path fill=\"none\" stroke=\"#000000\" d=\"M246.5,-213.7677C246.5,-205.6172 246.5,-196.9283 246.5,-188.4649\"/>\n<polygon fill=\"#000000\" stroke=\"#000000\" points=\"250.0001,-188.3046 246.5,-178.3046 243.0001,-188.3047 250.0001,-188.3046\"/>\n</g>\n<!-- 5 -->\n<g id=\"node6\" class=\"node\">\n<title>5</title>\n<path fill=\"#3c39e5\" stroke=\"#000000\" d=\"M143.5,-64C143.5,-64 21.5,-64 21.5,-64 15.5,-64 9.5,-58 9.5,-52 9.5,-52 9.5,-12 9.5,-12 9.5,-6 15.5,0 21.5,0 21.5,0 143.5,0 143.5,0 149.5,0 155.5,-6 155.5,-12 155.5,-12 155.5,-52 155.5,-52 155.5,-58 149.5,-64 143.5,-64\"/>\n<text text-anchor=\"start\" x=\"53\" y=\"-49.8\" font-family=\"Helvetica,sans-Serif\" font-size=\"14.00\" fill=\"#000000\">gini = 0.0</text>\n<text text-anchor=\"start\" x=\"43\" y=\"-35.8\" font-family=\"Helvetica,sans-Serif\" font-size=\"14.00\" fill=\"#000000\">samples = 4</text>\n<text text-anchor=\"start\" x=\"17.5\" y=\"-21.8\" font-family=\"Helvetica,sans-Serif\" font-size=\"14.00\" fill=\"#000000\">value = [0, 0, 0, 4, 0]</text>\n<text text-anchor=\"start\" x=\"50\" y=\"-7.8\" font-family=\"Helvetica,sans-Serif\" font-size=\"14.00\" fill=\"#000000\">class = y</text>\n<text text-anchor=\"start\" x=\"108\" y=\"-7.8\" font-family=\"Helvetica,sans-Serif\" baseline-shift=\"sub\" font-size=\"14.00\" fill=\"#000000\">3</text>\n</g>\n<!-- 4&#45;&gt;5 -->\n<g id=\"edge5\" class=\"edge\">\n<title>4&#45;&gt;5</title>\n<path fill=\"none\" stroke=\"#000000\" d=\"M186.3637,-99.7647C171.3092,-89.9426 155.194,-79.4284 140.2579,-69.6835\"/>\n<polygon fill=\"#000000\" stroke=\"#000000\" points=\"141.9045,-66.5788 131.6169,-64.0458 138.0795,-72.4413 141.9045,-66.5788\"/>\n</g>\n<!-- 6 -->\n<g id=\"node7\" class=\"node\">\n<title>6</title>\n<path fill=\"#a7ee7b\" stroke=\"#000000\" d=\"M307.5,-64C307.5,-64 185.5,-64 185.5,-64 179.5,-64 173.5,-58 173.5,-52 173.5,-52 173.5,-12 173.5,-12 173.5,-6 179.5,0 185.5,0 185.5,0 307.5,0 307.5,0 313.5,0 319.5,-6 319.5,-12 319.5,-12 319.5,-52 319.5,-52 319.5,-58 313.5,-64 307.5,-64\"/>\n<text text-anchor=\"start\" x=\"208.5\" y=\"-49.8\" font-family=\"Helvetica,sans-Serif\" font-size=\"14.00\" fill=\"#000000\">gini = 0.375</text>\n<text text-anchor=\"start\" x=\"207\" y=\"-35.8\" font-family=\"Helvetica,sans-Serif\" font-size=\"14.00\" fill=\"#000000\">samples = 4</text>\n<text text-anchor=\"start\" x=\"181.5\" y=\"-21.8\" font-family=\"Helvetica,sans-Serif\" font-size=\"14.00\" fill=\"#000000\">value = [0, 3, 0, 1, 0]</text>\n<text text-anchor=\"start\" x=\"214\" y=\"-7.8\" font-family=\"Helvetica,sans-Serif\" font-size=\"14.00\" fill=\"#000000\">class = y</text>\n<text text-anchor=\"start\" x=\"272\" y=\"-7.8\" font-family=\"Helvetica,sans-Serif\" baseline-shift=\"sub\" font-size=\"14.00\" fill=\"#000000\">1</text>\n</g>\n<!-- 4&#45;&gt;6 -->\n<g id=\"edge6\" class=\"edge\">\n<title>4&#45;&gt;6</title>\n<path fill=\"none\" stroke=\"#000000\" d=\"M246.5,-99.7647C246.5,-91.4537 246.5,-82.6472 246.5,-74.2305\"/>\n<polygon fill=\"#000000\" stroke=\"#000000\" points=\"250.0001,-74.2168 246.5,-64.2169 243.0001,-74.2169 250.0001,-74.2168\"/>\n</g>\n<!-- 8 -->\n<g id=\"node9\" class=\"node\">\n<title>8</title>\n<path fill=\"#625fea\" stroke=\"#000000\" d=\"M674,-178C674,-178 519,-178 519,-178 513,-178 507,-172 507,-166 507,-166 507,-112 507,-112 507,-106 513,-100 519,-100 519,-100 674,-100 674,-100 680,-100 686,-106 686,-112 686,-112 686,-166 686,-166 686,-172 680,-178 674,-178\"/>\n<text text-anchor=\"start\" x=\"546.5\" y=\"-163.8\" font-family=\"Helvetica,sans-Serif\" font-size=\"14.00\" fill=\"#000000\">absences ≤ 0.5</text>\n<text text-anchor=\"start\" x=\"558.5\" y=\"-149.8\" font-family=\"Helvetica,sans-Serif\" font-size=\"14.00\" fill=\"#000000\">gini = 0.299</text>\n<text text-anchor=\"start\" x=\"548.5\" y=\"-135.8\" font-family=\"Helvetica,sans-Serif\" font-size=\"14.00\" fill=\"#000000\">samples = 209</text>\n<text text-anchor=\"start\" x=\"515\" y=\"-121.8\" font-family=\"Helvetica,sans-Serif\" font-size=\"14.00\" fill=\"#000000\">value = [0, 23, 0, 173, 13]</text>\n<text text-anchor=\"start\" x=\"564\" y=\"-107.8\" font-family=\"Helvetica,sans-Serif\" font-size=\"14.00\" fill=\"#000000\">class = y</text>\n<text text-anchor=\"start\" x=\"622\" y=\"-107.8\" font-family=\"Helvetica,sans-Serif\" baseline-shift=\"sub\" font-size=\"14.00\" fill=\"#000000\">3</text>\n</g>\n<!-- 7&#45;&gt;8 -->\n<g id=\"edge8\" class=\"edge\">\n<title>7&#45;&gt;8</title>\n<path fill=\"none\" stroke=\"#000000\" d=\"M658.1505,-213.7677C650.8392,-204.9007 643.0023,-195.3964 635.4511,-186.2385\"/>\n<polygon fill=\"#000000\" stroke=\"#000000\" points=\"637.9713,-183.7934 628.9091,-178.3046 632.5706,-188.2467 637.9713,-183.7934\"/>\n</g>\n<!-- 11 -->\n<g id=\"node12\" class=\"node\">\n<title>11</title>\n<path fill=\"#bdbcf6\" stroke=\"#000000\" d=\"M855,-178C855,-178 716,-178 716,-178 710,-178 704,-172 704,-166 704,-166 704,-112 704,-112 704,-106 710,-100 716,-100 716,-100 855,-100 855,-100 861,-100 867,-106 867,-112 867,-112 867,-166 867,-166 867,-172 861,-178 855,-178\"/>\n<text text-anchor=\"start\" x=\"753.5\" y=\"-163.8\" font-family=\"Helvetica,sans-Serif\" font-size=\"14.00\" fill=\"#000000\">G1 ≤ 11.5</text>\n<text text-anchor=\"start\" x=\"747.5\" y=\"-149.8\" font-family=\"Helvetica,sans-Serif\" font-size=\"14.00\" fill=\"#000000\">gini = 0.514</text>\n<text text-anchor=\"start\" x=\"737.5\" y=\"-135.8\" font-family=\"Helvetica,sans-Serif\" font-size=\"14.00\" fill=\"#000000\">samples = 104</text>\n<text text-anchor=\"start\" x=\"712\" y=\"-121.8\" font-family=\"Helvetica,sans-Serif\" font-size=\"14.00\" fill=\"#000000\">value = [0, 3, 1, 61, 39]</text>\n<text text-anchor=\"start\" x=\"753\" y=\"-107.8\" font-family=\"Helvetica,sans-Serif\" font-size=\"14.00\" fill=\"#000000\">class = y</text>\n<text text-anchor=\"start\" x=\"811\" y=\"-107.8\" font-family=\"Helvetica,sans-Serif\" baseline-shift=\"sub\" font-size=\"14.00\" fill=\"#000000\">3</text>\n</g>\n<!-- 7&#45;&gt;11 -->\n<g id=\"edge11\" class=\"edge\">\n<title>7&#45;&gt;11</title>\n<path fill=\"none\" stroke=\"#000000\" d=\"M723.1936,-213.7677C730.5827,-204.9007 738.503,-195.3964 746.1346,-186.2385\"/>\n<polygon fill=\"#000000\" stroke=\"#000000\" points=\"749.033,-188.2275 752.7461,-178.3046 743.6555,-183.7462 749.033,-188.2275\"/>\n</g>\n<!-- 9 -->\n<g id=\"node10\" class=\"node\">\n<title>9</title>\n<path fill=\"#c5c4f7\" stroke=\"#000000\" d=\"M489,-64C489,-64 350,-64 350,-64 344,-64 338,-58 338,-52 338,-52 338,-12 338,-12 338,-6 344,0 350,0 350,0 489,0 489,0 495,0 501,-6 501,-12 501,-12 501,-52 501,-52 501,-58 495,-64 489,-64\"/>\n<text text-anchor=\"start\" x=\"386\" y=\"-49.8\" font-family=\"Helvetica,sans-Serif\" font-size=\"14.00\" fill=\"#000000\">gini = 0.57</text>\n<text text-anchor=\"start\" x=\"375.5\" y=\"-35.8\" font-family=\"Helvetica,sans-Serif\" font-size=\"14.00\" fill=\"#000000\">samples = 57</text>\n<text text-anchor=\"start\" x=\"346\" y=\"-21.8\" font-family=\"Helvetica,sans-Serif\" font-size=\"14.00\" fill=\"#000000\">value = [0, 20, 0, 31, 6]</text>\n<text text-anchor=\"start\" x=\"387\" y=\"-7.8\" font-family=\"Helvetica,sans-Serif\" font-size=\"14.00\" fill=\"#000000\">class = y</text>\n<text text-anchor=\"start\" x=\"445\" y=\"-7.8\" font-family=\"Helvetica,sans-Serif\" baseline-shift=\"sub\" font-size=\"14.00\" fill=\"#000000\">3</text>\n</g>\n<!-- 8&#45;&gt;9 -->\n<g id=\"edge9\" class=\"edge\">\n<title>8&#45;&gt;9</title>\n<path fill=\"none\" stroke=\"#000000\" d=\"M531.8476,-99.9163C515.4327,-89.9932 497.835,-79.3551 481.5525,-69.512\"/>\n<polygon fill=\"#000000\" stroke=\"#000000\" points=\"483.0264,-66.3131 472.6579,-64.135 479.405,-72.3036 483.0264,-66.3131\"/>\n</g>\n<!-- 10 -->\n<g id=\"node11\" class=\"node\">\n<title>10</title>\n<path fill=\"#4947e7\" stroke=\"#000000\" d=\"M670,-64C670,-64 531,-64 531,-64 525,-64 519,-58 519,-52 519,-52 519,-12 519,-12 519,-6 525,0 531,0 531,0 670,0 670,0 676,0 682,-6 682,-12 682,-12 682,-52 682,-52 682,-58 676,-64 670,-64\"/>\n<text text-anchor=\"start\" x=\"562.5\" y=\"-49.8\" font-family=\"Helvetica,sans-Serif\" font-size=\"14.00\" fill=\"#000000\">gini = 0.125</text>\n<text text-anchor=\"start\" x=\"552.5\" y=\"-35.8\" font-family=\"Helvetica,sans-Serif\" font-size=\"14.00\" fill=\"#000000\">samples = 152</text>\n<text text-anchor=\"start\" x=\"527\" y=\"-21.8\" font-family=\"Helvetica,sans-Serif\" font-size=\"14.00\" fill=\"#000000\">value = [0, 3, 0, 142, 7]</text>\n<text text-anchor=\"start\" x=\"568\" y=\"-7.8\" font-family=\"Helvetica,sans-Serif\" font-size=\"14.00\" fill=\"#000000\">class = y</text>\n<text text-anchor=\"start\" x=\"626\" y=\"-7.8\" font-family=\"Helvetica,sans-Serif\" baseline-shift=\"sub\" font-size=\"14.00\" fill=\"#000000\">3</text>\n</g>\n<!-- 8&#45;&gt;10 -->\n<g id=\"edge10\" class=\"edge\">\n<title>8&#45;&gt;10</title>\n<path fill=\"none\" stroke=\"#000000\" d=\"M597.9667,-99.7647C598.2774,-91.4537 598.6066,-82.6472 598.9213,-74.2305\"/>\n<polygon fill=\"#000000\" stroke=\"#000000\" points=\"602.4195,-74.3407 599.2956,-64.2169 595.4244,-74.0791 602.4195,-74.3407\"/>\n</g>\n<!-- 12 -->\n<g id=\"node13\" class=\"node\">\n<title>12</title>\n<path fill=\"#a5a4f3\" stroke=\"#000000\" d=\"M851,-64C851,-64 712,-64 712,-64 706,-64 700,-58 700,-52 700,-52 700,-12 700,-12 700,-6 706,0 712,0 712,0 851,0 851,0 857,0 863,-6 863,-12 863,-12 863,-52 863,-52 863,-58 857,-64 851,-64\"/>\n<text text-anchor=\"start\" x=\"743.5\" y=\"-49.8\" font-family=\"Helvetica,sans-Serif\" font-size=\"14.00\" fill=\"#000000\">gini = 0.491</text>\n<text text-anchor=\"start\" x=\"737.5\" y=\"-35.8\" font-family=\"Helvetica,sans-Serif\" font-size=\"14.00\" fill=\"#000000\">samples = 96</text>\n<text text-anchor=\"start\" x=\"708\" y=\"-21.8\" font-family=\"Helvetica,sans-Serif\" font-size=\"14.00\" fill=\"#000000\">value = [0, 3, 1, 61, 31]</text>\n<text text-anchor=\"start\" x=\"749\" y=\"-7.8\" font-family=\"Helvetica,sans-Serif\" font-size=\"14.00\" fill=\"#000000\">class = y</text>\n<text text-anchor=\"start\" x=\"807\" y=\"-7.8\" font-family=\"Helvetica,sans-Serif\" baseline-shift=\"sub\" font-size=\"14.00\" fill=\"#000000\">3</text>\n</g>\n<!-- 11&#45;&gt;12 -->\n<g id=\"edge12\" class=\"edge\">\n<title>11&#45;&gt;12</title>\n<path fill=\"none\" stroke=\"#000000\" d=\"M784.0333,-99.7647C783.7226,-91.4537 783.3934,-82.6472 783.0787,-74.2305\"/>\n<polygon fill=\"#000000\" stroke=\"#000000\" points=\"786.5756,-74.0791 782.7044,-64.2169 779.5805,-74.3407 786.5756,-74.0791\"/>\n</g>\n<!-- 13 -->\n<g id=\"node14\" class=\"node\">\n<title>13</title>\n<path fill=\"#e539c0\" stroke=\"#000000\" d=\"M1015.5,-64C1015.5,-64 893.5,-64 893.5,-64 887.5,-64 881.5,-58 881.5,-52 881.5,-52 881.5,-12 881.5,-12 881.5,-6 887.5,0 893.5,0 893.5,0 1015.5,0 1015.5,0 1021.5,0 1027.5,-6 1027.5,-12 1027.5,-12 1027.5,-52 1027.5,-52 1027.5,-58 1021.5,-64 1015.5,-64\"/>\n<text text-anchor=\"start\" x=\"925\" y=\"-49.8\" font-family=\"Helvetica,sans-Serif\" font-size=\"14.00\" fill=\"#000000\">gini = 0.0</text>\n<text text-anchor=\"start\" x=\"915\" y=\"-35.8\" font-family=\"Helvetica,sans-Serif\" font-size=\"14.00\" fill=\"#000000\">samples = 8</text>\n<text text-anchor=\"start\" x=\"889.5\" y=\"-21.8\" font-family=\"Helvetica,sans-Serif\" font-size=\"14.00\" fill=\"#000000\">value = [0, 0, 0, 0, 8]</text>\n<text text-anchor=\"start\" x=\"922\" y=\"-7.8\" font-family=\"Helvetica,sans-Serif\" font-size=\"14.00\" fill=\"#000000\">class = y</text>\n<text text-anchor=\"start\" x=\"980\" y=\"-7.8\" font-family=\"Helvetica,sans-Serif\" baseline-shift=\"sub\" font-size=\"14.00\" fill=\"#000000\">4</text>\n</g>\n<!-- 11&#45;&gt;13 -->\n<g id=\"edge13\" class=\"edge\">\n<title>11&#45;&gt;13</title>\n<path fill=\"none\" stroke=\"#000000\" d=\"M847.4697,-99.7647C863.1282,-89.8508 879.9002,-79.2318 895.4125,-69.4105\"/>\n<polygon fill=\"#000000\" stroke=\"#000000\" points=\"897.309,-72.3523 903.8857,-64.0458 893.5644,-66.438 897.309,-72.3523\"/>\n</g>\n<!-- 15 -->\n<g id=\"node16\" class=\"node\">\n<title>15</title>\n<path fill=\"#e957ca\" stroke=\"#000000\" d=\"M1474,-292C1474,-292 1319,-292 1319,-292 1313,-292 1307,-286 1307,-280 1307,-280 1307,-226 1307,-226 1307,-220 1313,-214 1319,-214 1319,-214 1474,-214 1474,-214 1480,-214 1486,-220 1486,-226 1486,-226 1486,-280 1486,-280 1486,-286 1480,-292 1474,-292\"/>\n<text text-anchor=\"start\" x=\"1364.5\" y=\"-277.8\" font-family=\"Helvetica,sans-Serif\" font-size=\"14.00\" fill=\"#000000\">G2 ≤ 13.5</text>\n<text text-anchor=\"start\" x=\"1358.5\" y=\"-263.8\" font-family=\"Helvetica,sans-Serif\" font-size=\"14.00\" fill=\"#000000\">gini = 0.252</text>\n<text text-anchor=\"start\" x=\"1348.5\" y=\"-249.8\" font-family=\"Helvetica,sans-Serif\" font-size=\"14.00\" fill=\"#000000\">samples = 362</text>\n<text text-anchor=\"start\" x=\"1315\" y=\"-235.8\" font-family=\"Helvetica,sans-Serif\" font-size=\"14.00\" fill=\"#000000\">value = [0, 0, 28, 23, 311]</text>\n<text text-anchor=\"start\" x=\"1364\" y=\"-221.8\" font-family=\"Helvetica,sans-Serif\" font-size=\"14.00\" fill=\"#000000\">class = y</text>\n<text text-anchor=\"start\" x=\"1422\" y=\"-221.8\" font-family=\"Helvetica,sans-Serif\" baseline-shift=\"sub\" font-size=\"14.00\" fill=\"#000000\">4</text>\n</g>\n<!-- 14&#45;&gt;15 -->\n<g id=\"edge15\" class=\"edge\">\n<title>14&#45;&gt;15</title>\n<path fill=\"none\" stroke=\"#000000\" d=\"M1396.5,-327.7677C1396.5,-319.6172 1396.5,-310.9283 1396.5,-302.4649\"/>\n<polygon fill=\"#000000\" stroke=\"#000000\" points=\"1400.0001,-302.3046 1396.5,-292.3046 1393.0001,-302.3047 1400.0001,-302.3046\"/>\n</g>\n<!-- 22 -->\n<g id=\"node23\" class=\"node\">\n<title>22</title>\n<path fill=\"#71ecd5\" stroke=\"#000000\" d=\"M1989,-292C1989,-292 1842,-292 1842,-292 1836,-292 1830,-286 1830,-280 1830,-280 1830,-226 1830,-226 1830,-220 1836,-214 1842,-214 1842,-214 1989,-214 1989,-214 1995,-214 2001,-220 2001,-226 2001,-226 2001,-280 2001,-280 2001,-286 1995,-292 1989,-292\"/>\n<text text-anchor=\"start\" x=\"1883.5\" y=\"-277.8\" font-family=\"Helvetica,sans-Serif\" font-size=\"14.00\" fill=\"#000000\">G2 ≤ 16.5</text>\n<text text-anchor=\"start\" x=\"1877.5\" y=\"-263.8\" font-family=\"Helvetica,sans-Serif\" font-size=\"14.00\" fill=\"#000000\">gini = 0.348</text>\n<text text-anchor=\"start\" x=\"1867.5\" y=\"-249.8\" font-family=\"Helvetica,sans-Serif\" font-size=\"14.00\" fill=\"#000000\">samples = 131</text>\n<text text-anchor=\"start\" x=\"1838\" y=\"-235.8\" font-family=\"Helvetica,sans-Serif\" font-size=\"14.00\" fill=\"#000000\">value = [28, 0, 102, 0, 1]</text>\n<text text-anchor=\"start\" x=\"1883\" y=\"-221.8\" font-family=\"Helvetica,sans-Serif\" font-size=\"14.00\" fill=\"#000000\">class = y</text>\n<text text-anchor=\"start\" x=\"1941\" y=\"-221.8\" font-family=\"Helvetica,sans-Serif\" baseline-shift=\"sub\" font-size=\"14.00\" fill=\"#000000\">2</text>\n</g>\n<!-- 14&#45;&gt;22 -->\n<g id=\"edge22\" class=\"edge\">\n<title>14&#45;&gt;22</title>\n<path fill=\"none\" stroke=\"#000000\" d=\"M1494.7301,-345.4234C1588.0156,-324.933 1727.3668,-294.324 1819.8059,-274.0195\"/>\n<polygon fill=\"#000000\" stroke=\"#000000\" points=\"1820.703,-277.406 1829.7193,-271.842 1819.2012,-270.569 1820.703,-277.406\"/>\n</g>\n<!-- 16 -->\n<g id=\"node17\" class=\"node\">\n<title>16</title>\n<path fill=\"#e74cc6\" stroke=\"#000000\" d=\"M1378,-178C1378,-178 1231,-178 1231,-178 1225,-178 1219,-172 1219,-166 1219,-166 1219,-112 1219,-112 1219,-106 1225,-100 1231,-100 1231,-100 1378,-100 1378,-100 1384,-100 1390,-106 1390,-112 1390,-112 1390,-166 1390,-166 1390,-172 1384,-178 1378,-178\"/>\n<text text-anchor=\"start\" x=\"1272.5\" y=\"-163.8\" font-family=\"Helvetica,sans-Serif\" font-size=\"14.00\" fill=\"#000000\">G2 ≤ 11.5</text>\n<text text-anchor=\"start\" x=\"1266.5\" y=\"-149.8\" font-family=\"Helvetica,sans-Serif\" font-size=\"14.00\" fill=\"#000000\">gini = 0.164</text>\n<text text-anchor=\"start\" x=\"1256.5\" y=\"-135.8\" font-family=\"Helvetica,sans-Serif\" font-size=\"14.00\" fill=\"#000000\">samples = 304</text>\n<text text-anchor=\"start\" x=\"1227\" y=\"-121.8\" font-family=\"Helvetica,sans-Serif\" font-size=\"14.00\" fill=\"#000000\">value = [0, 0, 4, 23, 277]</text>\n<text text-anchor=\"start\" x=\"1272\" y=\"-107.8\" font-family=\"Helvetica,sans-Serif\" font-size=\"14.00\" fill=\"#000000\">class = y</text>\n<text text-anchor=\"start\" x=\"1330\" y=\"-107.8\" font-family=\"Helvetica,sans-Serif\" baseline-shift=\"sub\" font-size=\"14.00\" fill=\"#000000\">4</text>\n</g>\n<!-- 15&#45;&gt;16 -->\n<g id=\"edge16\" class=\"edge\">\n<title>15&#45;&gt;16</title>\n<path fill=\"none\" stroke=\"#000000\" d=\"M1364.8388,-213.7677C1357.683,-204.9007 1350.0129,-195.3964 1342.6223,-186.2385\"/>\n<polygon fill=\"#000000\" stroke=\"#000000\" points=\"1345.2235,-183.8886 1336.2195,-178.3046 1339.7761,-188.2847 1345.2235,-183.8886\"/>\n</g>\n<!-- 19 -->\n<g id=\"node20\" class=\"node\">\n<title>19</title>\n<path fill=\"#f7c5ec\" stroke=\"#000000\" d=\"M1559,-178C1559,-178 1420,-178 1420,-178 1414,-178 1408,-172 1408,-166 1408,-166 1408,-112 1408,-112 1408,-106 1414,-100 1420,-100 1420,-100 1559,-100 1559,-100 1565,-100 1571,-106 1571,-112 1571,-112 1571,-166 1571,-166 1571,-172 1565,-178 1559,-178\"/>\n<text text-anchor=\"start\" x=\"1457.5\" y=\"-163.8\" font-family=\"Helvetica,sans-Serif\" font-size=\"14.00\" fill=\"#000000\">G1 ≤ 13.5</text>\n<text text-anchor=\"start\" x=\"1451.5\" y=\"-149.8\" font-family=\"Helvetica,sans-Serif\" font-size=\"14.00\" fill=\"#000000\">gini = 0.485</text>\n<text text-anchor=\"start\" x=\"1445.5\" y=\"-135.8\" font-family=\"Helvetica,sans-Serif\" font-size=\"14.00\" fill=\"#000000\">samples = 58</text>\n<text text-anchor=\"start\" x=\"1416\" y=\"-121.8\" font-family=\"Helvetica,sans-Serif\" font-size=\"14.00\" fill=\"#000000\">value = [0, 0, 24, 0, 34]</text>\n<text text-anchor=\"start\" x=\"1457\" y=\"-107.8\" font-family=\"Helvetica,sans-Serif\" font-size=\"14.00\" fill=\"#000000\">class = y</text>\n<text text-anchor=\"start\" x=\"1515\" y=\"-107.8\" font-family=\"Helvetica,sans-Serif\" baseline-shift=\"sub\" font-size=\"14.00\" fill=\"#000000\">4</text>\n</g>\n<!-- 15&#45;&gt;19 -->\n<g id=\"edge19\" class=\"edge\">\n<title>15&#45;&gt;19</title>\n<path fill=\"none\" stroke=\"#000000\" d=\"M1428.5053,-213.7677C1435.7389,-204.9007 1443.4924,-195.3964 1450.9633,-186.2385\"/>\n<polygon fill=\"#000000\" stroke=\"#000000\" points=\"1453.8264,-188.2658 1457.4357,-178.3046 1448.4023,-183.8409 1453.8264,-188.2658\"/>\n</g>\n<!-- 17 -->\n<g id=\"node18\" class=\"node\">\n<title>17</title>\n<path fill=\"#eb64ce\" stroke=\"#000000\" d=\"M1197,-64C1197,-64 1058,-64 1058,-64 1052,-64 1046,-58 1046,-52 1046,-52 1046,-12 1046,-12 1046,-6 1052,0 1058,0 1058,0 1197,0 1197,0 1203,0 1209,-6 1209,-12 1209,-12 1209,-52 1209,-52 1209,-58 1203,-64 1197,-64\"/>\n<text text-anchor=\"start\" x=\"1089.5\" y=\"-49.8\" font-family=\"Helvetica,sans-Serif\" font-size=\"14.00\" fill=\"#000000\">gini = 0.291</text>\n<text text-anchor=\"start\" x=\"1079.5\" y=\"-35.8\" font-family=\"Helvetica,sans-Serif\" font-size=\"14.00\" fill=\"#000000\">samples = 113</text>\n<text text-anchor=\"start\" x=\"1054\" y=\"-21.8\" font-family=\"Helvetica,sans-Serif\" font-size=\"14.00\" fill=\"#000000\">value = [0, 0, 0, 20, 93]</text>\n<text text-anchor=\"start\" x=\"1095\" y=\"-7.8\" font-family=\"Helvetica,sans-Serif\" font-size=\"14.00\" fill=\"#000000\">class = y</text>\n<text text-anchor=\"start\" x=\"1153\" y=\"-7.8\" font-family=\"Helvetica,sans-Serif\" baseline-shift=\"sub\" font-size=\"14.00\" fill=\"#000000\">4</text>\n</g>\n<!-- 16&#45;&gt;17 -->\n<g id=\"edge17\" class=\"edge\">\n<title>16&#45;&gt;17</title>\n<path fill=\"none\" stroke=\"#000000\" d=\"M1239.8476,-99.9163C1223.4327,-89.9932 1205.835,-79.3551 1189.5525,-69.512\"/>\n<polygon fill=\"#000000\" stroke=\"#000000\" points=\"1191.0264,-66.3131 1180.6579,-64.135 1187.405,-72.3036 1191.0264,-66.3131\"/>\n</g>\n<!-- 18 -->\n<g id=\"node19\" class=\"node\">\n<title>18</title>\n<path fill=\"#e640c2\" stroke=\"#000000\" d=\"M1378,-64C1378,-64 1239,-64 1239,-64 1233,-64 1227,-58 1227,-52 1227,-52 1227,-12 1227,-12 1227,-6 1233,0 1239,0 1239,0 1378,0 1378,0 1384,0 1390,-6 1390,-12 1390,-12 1390,-52 1390,-52 1390,-58 1384,-64 1378,-64\"/>\n<text text-anchor=\"start\" x=\"1270.5\" y=\"-49.8\" font-family=\"Helvetica,sans-Serif\" font-size=\"14.00\" fill=\"#000000\">gini = 0.071</text>\n<text text-anchor=\"start\" x=\"1260.5\" y=\"-35.8\" font-family=\"Helvetica,sans-Serif\" font-size=\"14.00\" fill=\"#000000\">samples = 191</text>\n<text text-anchor=\"start\" x=\"1235\" y=\"-21.8\" font-family=\"Helvetica,sans-Serif\" font-size=\"14.00\" fill=\"#000000\">value = [0, 0, 4, 3, 184]</text>\n<text text-anchor=\"start\" x=\"1276\" y=\"-7.8\" font-family=\"Helvetica,sans-Serif\" font-size=\"14.00\" fill=\"#000000\">class = y</text>\n<text text-anchor=\"start\" x=\"1334\" y=\"-7.8\" font-family=\"Helvetica,sans-Serif\" baseline-shift=\"sub\" font-size=\"14.00\" fill=\"#000000\">4</text>\n</g>\n<!-- 16&#45;&gt;18 -->\n<g id=\"edge18\" class=\"edge\">\n<title>16&#45;&gt;18</title>\n<path fill=\"none\" stroke=\"#000000\" d=\"M1305.9667,-99.7647C1306.2774,-91.4537 1306.6066,-82.6472 1306.9213,-74.2305\"/>\n<polygon fill=\"#000000\" stroke=\"#000000\" points=\"1310.4195,-74.3407 1307.2956,-64.2169 1303.4244,-74.0791 1310.4195,-74.3407\"/>\n</g>\n<!-- 20 -->\n<g id=\"node21\" class=\"node\">\n<title>20</title>\n<path fill=\"#ec6dd1\" stroke=\"#000000\" d=\"M1551,-64C1551,-64 1420,-64 1420,-64 1414,-64 1408,-58 1408,-52 1408,-52 1408,-12 1408,-12 1408,-6 1414,0 1420,0 1420,0 1551,0 1551,0 1557,0 1563,-6 1563,-12 1563,-12 1563,-52 1563,-52 1563,-58 1557,-64 1551,-64\"/>\n<text text-anchor=\"start\" x=\"1452\" y=\"-49.8\" font-family=\"Helvetica,sans-Serif\" font-size=\"14.00\" fill=\"#000000\">gini = 0.33</text>\n<text text-anchor=\"start\" x=\"1441.5\" y=\"-35.8\" font-family=\"Helvetica,sans-Serif\" font-size=\"14.00\" fill=\"#000000\">samples = 24</text>\n<text text-anchor=\"start\" x=\"1416\" y=\"-21.8\" font-family=\"Helvetica,sans-Serif\" font-size=\"14.00\" fill=\"#000000\">value = [0, 0, 5, 0, 19]</text>\n<text text-anchor=\"start\" x=\"1453\" y=\"-7.8\" font-family=\"Helvetica,sans-Serif\" font-size=\"14.00\" fill=\"#000000\">class = y</text>\n<text text-anchor=\"start\" x=\"1511\" y=\"-7.8\" font-family=\"Helvetica,sans-Serif\" baseline-shift=\"sub\" font-size=\"14.00\" fill=\"#000000\">4</text>\n</g>\n<!-- 19&#45;&gt;20 -->\n<g id=\"edge20\" class=\"edge\">\n<title>19&#45;&gt;20</title>\n<path fill=\"none\" stroke=\"#000000\" d=\"M1488.0333,-99.7647C1487.7226,-91.4537 1487.3934,-82.6472 1487.0787,-74.2305\"/>\n<polygon fill=\"#000000\" stroke=\"#000000\" points=\"1490.5756,-74.0791 1486.7044,-64.2169 1483.5805,-74.3407 1490.5756,-74.0791\"/>\n</g>\n<!-- 21 -->\n<g id=\"node22\" class=\"node\">\n<title>21</title>\n<path fill=\"#d5faf3\" stroke=\"#000000\" d=\"M1732,-64C1732,-64 1593,-64 1593,-64 1587,-64 1581,-58 1581,-52 1581,-52 1581,-12 1581,-12 1581,-6 1587,0 1593,0 1593,0 1732,0 1732,0 1738,0 1744,-6 1744,-12 1744,-12 1744,-52 1744,-52 1744,-58 1738,-64 1732,-64\"/>\n<text text-anchor=\"start\" x=\"1624.5\" y=\"-49.8\" font-family=\"Helvetica,sans-Serif\" font-size=\"14.00\" fill=\"#000000\">gini = 0.493</text>\n<text text-anchor=\"start\" x=\"1618.5\" y=\"-35.8\" font-family=\"Helvetica,sans-Serif\" font-size=\"14.00\" fill=\"#000000\">samples = 34</text>\n<text text-anchor=\"start\" x=\"1589\" y=\"-21.8\" font-family=\"Helvetica,sans-Serif\" font-size=\"14.00\" fill=\"#000000\">value = [0, 0, 19, 0, 15]</text>\n<text text-anchor=\"start\" x=\"1630\" y=\"-7.8\" font-family=\"Helvetica,sans-Serif\" font-size=\"14.00\" fill=\"#000000\">class = y</text>\n<text text-anchor=\"start\" x=\"1688\" y=\"-7.8\" font-family=\"Helvetica,sans-Serif\" baseline-shift=\"sub\" font-size=\"14.00\" fill=\"#000000\">2</text>\n</g>\n<!-- 19&#45;&gt;21 -->\n<g id=\"edge21\" class=\"edge\">\n<title>19&#45;&gt;21</title>\n<path fill=\"none\" stroke=\"#000000\" d=\"M1552.9365,-99.7647C1568.9656,-89.8508 1586.1346,-79.2318 1602.0139,-69.4105\"/>\n<polygon fill=\"#000000\" stroke=\"#000000\" points=\"1604.024,-72.2826 1610.6877,-64.0458 1600.3419,-66.3293 1604.024,-72.2826\"/>\n</g>\n<!-- 23 -->\n<g id=\"node24\" class=\"node\">\n<title>23</title>\n<path fill=\"#3de6c6\" stroke=\"#000000\" d=\"M1981,-178C1981,-178 1850,-178 1850,-178 1844,-178 1838,-172 1838,-166 1838,-166 1838,-112 1838,-112 1838,-106 1844,-100 1850,-100 1850,-100 1981,-100 1981,-100 1987,-100 1993,-106 1993,-112 1993,-112 1993,-166 1993,-166 1993,-172 1987,-178 1981,-178\"/>\n<text text-anchor=\"start\" x=\"1883.5\" y=\"-163.8\" font-family=\"Helvetica,sans-Serif\" font-size=\"14.00\" fill=\"#000000\">Fjob ≤ 1.5</text>\n<text text-anchor=\"start\" x=\"1877.5\" y=\"-149.8\" font-family=\"Helvetica,sans-Serif\" font-size=\"14.00\" fill=\"#000000\">gini = 0.044</text>\n<text text-anchor=\"start\" x=\"1871.5\" y=\"-135.8\" font-family=\"Helvetica,sans-Serif\" font-size=\"14.00\" fill=\"#000000\">samples = 90</text>\n<text text-anchor=\"start\" x=\"1846\" y=\"-121.8\" font-family=\"Helvetica,sans-Serif\" font-size=\"14.00\" fill=\"#000000\">value = [1, 0, 88, 0, 1]</text>\n<text text-anchor=\"start\" x=\"1883\" y=\"-107.8\" font-family=\"Helvetica,sans-Serif\" font-size=\"14.00\" fill=\"#000000\">class = y</text>\n<text text-anchor=\"start\" x=\"1941\" y=\"-107.8\" font-family=\"Helvetica,sans-Serif\" baseline-shift=\"sub\" font-size=\"14.00\" fill=\"#000000\">2</text>\n</g>\n<!-- 22&#45;&gt;23 -->\n<g id=\"edge23\" class=\"edge\">\n<title>22&#45;&gt;23</title>\n<path fill=\"none\" stroke=\"#000000\" d=\"M1915.5,-213.7677C1915.5,-205.6172 1915.5,-196.9283 1915.5,-188.4649\"/>\n<polygon fill=\"#000000\" stroke=\"#000000\" points=\"1919.0001,-188.3046 1915.5,-178.3046 1912.0001,-188.3047 1919.0001,-188.3046\"/>\n</g>\n<!-- 26 -->\n<g id=\"node27\" class=\"node\">\n<title>26</title>\n<path fill=\"#f2c2a0\" stroke=\"#000000\" d=\"M2243,-178C2243,-178 2104,-178 2104,-178 2098,-178 2092,-172 2092,-166 2092,-166 2092,-112 2092,-112 2092,-106 2098,-100 2104,-100 2104,-100 2243,-100 2243,-100 2249,-100 2255,-106 2255,-112 2255,-112 2255,-166 2255,-166 2255,-172 2249,-178 2243,-178\"/>\n<text text-anchor=\"start\" x=\"2141.5\" y=\"-163.8\" font-family=\"Helvetica,sans-Serif\" font-size=\"14.00\" fill=\"#000000\">G1 ≤ 15.5</text>\n<text text-anchor=\"start\" x=\"2140\" y=\"-149.8\" font-family=\"Helvetica,sans-Serif\" font-size=\"14.00\" fill=\"#000000\">gini = 0.45</text>\n<text text-anchor=\"start\" x=\"2129.5\" y=\"-135.8\" font-family=\"Helvetica,sans-Serif\" font-size=\"14.00\" fill=\"#000000\">samples = 41</text>\n<text text-anchor=\"start\" x=\"2100\" y=\"-121.8\" font-family=\"Helvetica,sans-Serif\" font-size=\"14.00\" fill=\"#000000\">value = [27, 0, 14, 0, 0]</text>\n<text text-anchor=\"start\" x=\"2141\" y=\"-107.8\" font-family=\"Helvetica,sans-Serif\" font-size=\"14.00\" fill=\"#000000\">class = y</text>\n<text text-anchor=\"start\" x=\"2199\" y=\"-107.8\" font-family=\"Helvetica,sans-Serif\" baseline-shift=\"sub\" font-size=\"14.00\" fill=\"#000000\">0</text>\n</g>\n<!-- 22&#45;&gt;26 -->\n<g id=\"edge26\" class=\"edge\">\n<title>22&#45;&gt;26</title>\n<path fill=\"none\" stroke=\"#000000\" d=\"M2001.0519,-215.198C2027.1631,-203.6605 2055.9633,-190.9348 2082.4264,-179.2418\"/>\n<polygon fill=\"#000000\" stroke=\"#000000\" points=\"2083.9487,-182.3957 2091.681,-175.1526 2081.1195,-175.9929 2083.9487,-182.3957\"/>\n</g>\n<!-- 24 -->\n<g id=\"node25\" class=\"node\">\n<title>24</title>\n<path fill=\"#5ae9cf\" stroke=\"#000000\" d=\"M1896.5,-64C1896.5,-64 1774.5,-64 1774.5,-64 1768.5,-64 1762.5,-58 1762.5,-52 1762.5,-52 1762.5,-12 1762.5,-12 1762.5,-6 1768.5,0 1774.5,0 1774.5,0 1896.5,0 1896.5,0 1902.5,0 1908.5,-6 1908.5,-12 1908.5,-12 1908.5,-52 1908.5,-52 1908.5,-58 1902.5,-64 1896.5,-64\"/>\n<text text-anchor=\"start\" x=\"1797.5\" y=\"-49.8\" font-family=\"Helvetica,sans-Serif\" font-size=\"14.00\" fill=\"#000000\">gini = 0.245</text>\n<text text-anchor=\"start\" x=\"1796\" y=\"-35.8\" font-family=\"Helvetica,sans-Serif\" font-size=\"14.00\" fill=\"#000000\">samples = 7</text>\n<text text-anchor=\"start\" x=\"1770.5\" y=\"-21.8\" font-family=\"Helvetica,sans-Serif\" font-size=\"14.00\" fill=\"#000000\">value = [0, 0, 6, 0, 1]</text>\n<text text-anchor=\"start\" x=\"1803\" y=\"-7.8\" font-family=\"Helvetica,sans-Serif\" font-size=\"14.00\" fill=\"#000000\">class = y</text>\n<text text-anchor=\"start\" x=\"1861\" y=\"-7.8\" font-family=\"Helvetica,sans-Serif\" baseline-shift=\"sub\" font-size=\"14.00\" fill=\"#000000\">2</text>\n</g>\n<!-- 23&#45;&gt;24 -->\n<g id=\"edge24\" class=\"edge\">\n<title>23&#45;&gt;24</title>\n<path fill=\"none\" stroke=\"#000000\" d=\"M1886.1652,-99.7647C1879.4734,-90.8144 1872.3519,-81.2894 1865.6275,-72.2955\"/>\n<polygon fill=\"#000000\" stroke=\"#000000\" points=\"1868.3786,-70.13 1859.5874,-64.2169 1862.7723,-74.3217 1868.3786,-70.13\"/>\n</g>\n<!-- 25 -->\n<g id=\"node26\" class=\"node\">\n<title>25</title>\n<path fill=\"#3be5c6\" stroke=\"#000000\" d=\"M2070,-64C2070,-64 1939,-64 1939,-64 1933,-64 1927,-58 1927,-52 1927,-52 1927,-12 1927,-12 1927,-6 1933,0 1939,0 1939,0 2070,0 2070,0 2076,0 2082,-6 2082,-12 2082,-12 2082,-52 2082,-52 2082,-58 2076,-64 2070,-64\"/>\n<text text-anchor=\"start\" x=\"1966.5\" y=\"-49.8\" font-family=\"Helvetica,sans-Serif\" font-size=\"14.00\" fill=\"#000000\">gini = 0.024</text>\n<text text-anchor=\"start\" x=\"1960.5\" y=\"-35.8\" font-family=\"Helvetica,sans-Serif\" font-size=\"14.00\" fill=\"#000000\">samples = 83</text>\n<text text-anchor=\"start\" x=\"1935\" y=\"-21.8\" font-family=\"Helvetica,sans-Serif\" font-size=\"14.00\" fill=\"#000000\">value = [1, 0, 82, 0, 0]</text>\n<text text-anchor=\"start\" x=\"1972\" y=\"-7.8\" font-family=\"Helvetica,sans-Serif\" font-size=\"14.00\" fill=\"#000000\">class = y</text>\n<text text-anchor=\"start\" x=\"2030\" y=\"-7.8\" font-family=\"Helvetica,sans-Serif\" baseline-shift=\"sub\" font-size=\"14.00\" fill=\"#000000\">2</text>\n</g>\n<!-- 23&#45;&gt;25 -->\n<g id=\"edge25\" class=\"edge\">\n<title>23&#45;&gt;25</title>\n<path fill=\"none\" stroke=\"#000000\" d=\"M1948.1349,-99.7647C1955.6556,-90.7231 1963.664,-81.095 1971.212,-72.0204\"/>\n<polygon fill=\"#000000\" stroke=\"#000000\" points=\"1973.9988,-74.1432 1977.7028,-64.2169 1968.6171,-69.6668 1973.9988,-74.1432\"/>\n</g>\n<!-- 27 -->\n<g id=\"node28\" class=\"node\">\n<title>27</title>\n<path fill=\"#39e5c5\" stroke=\"#000000\" d=\"M2234.5,-64C2234.5,-64 2112.5,-64 2112.5,-64 2106.5,-64 2100.5,-58 2100.5,-52 2100.5,-52 2100.5,-12 2100.5,-12 2100.5,-6 2106.5,0 2112.5,0 2112.5,0 2234.5,0 2234.5,0 2240.5,0 2246.5,-6 2246.5,-12 2246.5,-12 2246.5,-52 2246.5,-52 2246.5,-58 2240.5,-64 2234.5,-64\"/>\n<text text-anchor=\"start\" x=\"2144\" y=\"-49.8\" font-family=\"Helvetica,sans-Serif\" font-size=\"14.00\" fill=\"#000000\">gini = 0.0</text>\n<text text-anchor=\"start\" x=\"2134\" y=\"-35.8\" font-family=\"Helvetica,sans-Serif\" font-size=\"14.00\" fill=\"#000000\">samples = 5</text>\n<text text-anchor=\"start\" x=\"2108.5\" y=\"-21.8\" font-family=\"Helvetica,sans-Serif\" font-size=\"14.00\" fill=\"#000000\">value = [0, 0, 5, 0, 0]</text>\n<text text-anchor=\"start\" x=\"2141\" y=\"-7.8\" font-family=\"Helvetica,sans-Serif\" font-size=\"14.00\" fill=\"#000000\">class = y</text>\n<text text-anchor=\"start\" x=\"2199\" y=\"-7.8\" font-family=\"Helvetica,sans-Serif\" baseline-shift=\"sub\" font-size=\"14.00\" fill=\"#000000\">2</text>\n</g>\n<!-- 26&#45;&gt;27 -->\n<g id=\"edge27\" class=\"edge\">\n<title>26&#45;&gt;27</title>\n<path fill=\"none\" stroke=\"#000000\" d=\"M2173.5,-99.7647C2173.5,-91.4537 2173.5,-82.6472 2173.5,-74.2305\"/>\n<polygon fill=\"#000000\" stroke=\"#000000\" points=\"2177.0001,-74.2168 2173.5,-64.2169 2170.0001,-74.2169 2177.0001,-74.2168\"/>\n</g>\n<!-- 28 -->\n<g id=\"node29\" class=\"node\">\n<title>28</title>\n<path fill=\"#eeab7b\" stroke=\"#000000\" d=\"M2408,-64C2408,-64 2277,-64 2277,-64 2271,-64 2265,-58 2265,-52 2265,-52 2265,-12 2265,-12 2265,-6 2271,0 2277,0 2277,0 2408,0 2408,0 2414,0 2420,-6 2420,-12 2420,-12 2420,-52 2420,-52 2420,-58 2414,-64 2408,-64\"/>\n<text text-anchor=\"start\" x=\"2304.5\" y=\"-49.8\" font-family=\"Helvetica,sans-Serif\" font-size=\"14.00\" fill=\"#000000\">gini = 0.375</text>\n<text text-anchor=\"start\" x=\"2298.5\" y=\"-35.8\" font-family=\"Helvetica,sans-Serif\" font-size=\"14.00\" fill=\"#000000\">samples = 36</text>\n<text text-anchor=\"start\" x=\"2273\" y=\"-21.8\" font-family=\"Helvetica,sans-Serif\" font-size=\"14.00\" fill=\"#000000\">value = [27, 0, 9, 0, 0]</text>\n<text text-anchor=\"start\" x=\"2310\" y=\"-7.8\" font-family=\"Helvetica,sans-Serif\" font-size=\"14.00\" fill=\"#000000\">class = y</text>\n<text text-anchor=\"start\" x=\"2368\" y=\"-7.8\" font-family=\"Helvetica,sans-Serif\" baseline-shift=\"sub\" font-size=\"14.00\" fill=\"#000000\">0</text>\n</g>\n<!-- 26&#45;&gt;28 -->\n<g id=\"edge28\" class=\"edge\">\n<title>26&#45;&gt;28</title>\n<path fill=\"none\" stroke=\"#000000\" d=\"M2235.4697,-99.7647C2251.1282,-89.8508 2267.9002,-79.2318 2283.4125,-69.4105\"/>\n<polygon fill=\"#000000\" stroke=\"#000000\" points=\"2285.309,-72.3523 2291.8857,-64.0458 2281.5644,-66.438 2285.309,-72.3523\"/>\n</g>\n</g>\n</svg>\n"
          },
          "metadata": {
            "tags": []
          },
          "execution_count": 35
        }
      ]
    },
    {
      "cell_type": "markdown",
      "metadata": {
        "id": "9WAmns5vXYYQ"
      },
      "source": [
        "# Decision Tree Classifier with criterion entropy "
      ]
    },
    {
      "cell_type": "code",
      "metadata": {
        "colab": {
          "base_uri": "https://localhost:8080/"
        },
        "id": "VyWhyFU4XZo4",
        "outputId": "01e5a740-d8a6-4b7e-cd72-e6dee247154c"
      },
      "source": [
        "# instantiate the DecisionTreeClassifier model with criterion entropy\n",
        "\n",
        "clf_en = DecisionTreeClassifier(criterion='entropy', max_depth=4, random_state=0)\n",
        "\n",
        "\n",
        "# fit the model\n",
        "clf_en.fit(X_train, y_train)"
      ],
      "execution_count": null,
      "outputs": [
        {
          "output_type": "execute_result",
          "data": {
            "text/plain": [
              "DecisionTreeClassifier(ccp_alpha=0.0, class_weight=None, criterion='entropy',\n",
              "                       max_depth=4, max_features=None, max_leaf_nodes=None,\n",
              "                       min_impurity_decrease=0.0, min_impurity_split=None,\n",
              "                       min_samples_leaf=1, min_samples_split=2,\n",
              "                       min_weight_fraction_leaf=0.0, presort='deprecated',\n",
              "                       random_state=0, splitter='best')"
            ]
          },
          "metadata": {
            "tags": []
          },
          "execution_count": 36
        }
      ]
    },
    {
      "cell_type": "markdown",
      "metadata": {
        "id": "eQ7HN1q2Xnh_"
      },
      "source": [
        "Predict the Test set results with criterion entropy"
      ]
    },
    {
      "cell_type": "code",
      "metadata": {
        "id": "hBFmY5gaXoEk"
      },
      "source": [
        "y_pred_en = clf_en.predict(X_test)"
      ],
      "execution_count": null,
      "outputs": []
    },
    {
      "cell_type": "markdown",
      "metadata": {
        "id": "ukNIXa8dXtXN"
      },
      "source": [
        "Check accuracy score with criterion entropy"
      ]
    },
    {
      "cell_type": "code",
      "metadata": {
        "colab": {
          "base_uri": "https://localhost:8080/"
        },
        "id": "HULMUHr-XuXi",
        "outputId": "5954dbee-c3d4-48a9-fc3b-c1be301a658c"
      },
      "source": [
        "from sklearn.metrics import accuracy_score\n",
        "\n",
        "print('Model accuracy score with criterion entropy: {0:0.4f}'. format(accuracy_score(y_test, y_pred_en)))"
      ],
      "execution_count": null,
      "outputs": [
        {
          "output_type": "stream",
          "text": [
            "Model accuracy score with criterion entropy: 0.8325\n"
          ],
          "name": "stdout"
        }
      ]
    },
    {
      "cell_type": "markdown",
      "metadata": {
        "id": "t3EoUDT1X3ij"
      },
      "source": [
        "Compare the train-set and test-set accuracy"
      ]
    },
    {
      "cell_type": "code",
      "metadata": {
        "colab": {
          "base_uri": "https://localhost:8080/"
        },
        "id": "cYxRA2k0X4My",
        "outputId": "93d61e40-a7c4-431f-d496-81132b71c0ee"
      },
      "source": [
        "y_pred_train_en = clf_en.predict(X_train)\n",
        "\n",
        "y_pred_train_en"
      ],
      "execution_count": null,
      "outputs": [
        {
          "output_type": "execute_result",
          "data": {
            "text/plain": [
              "array(['Poor', 'Satisfactory', 'Poor', 'Satisfactory', 'Poor', 'Poor',\n",
              "       'Satisfactory', 'Satisfactory', 'Poor', 'Poor', 'Poor', 'Good',\n",
              "       'Poor', 'Poor', 'Good', 'Poor', 'Satisfactory', 'Satisfactory',\n",
              "       'Excellent', 'Poor', 'Good', 'Good', 'Satisfactory',\n",
              "       'Satisfactory', 'Poor', 'Poor', 'Satisfactory', 'Poor', 'Poor',\n",
              "       'Poor', 'Poor', 'Satisfactory', 'Poor', 'Poor', 'Satisfactory',\n",
              "       'Poor', 'Excellent', 'Satisfactory', 'Poor', 'Satisfactory',\n",
              "       'Good', 'Poor', 'Poor', 'Satisfactory', 'Poor', 'Poor',\n",
              "       'Satisfactory', 'Poor', 'Satisfactory', 'Satisfactory', 'Poor',\n",
              "       'Good', 'Poor', 'Satisfactory', 'Poor', 'Good', 'Good',\n",
              "       'Satisfactory', 'Poor', 'Poor', 'Satisfactory', 'Satisfactory',\n",
              "       'Satisfactory', 'Satisfactory', 'Satisfactory', 'Good', 'Good',\n",
              "       'Satisfactory', 'Poor', 'Poor', 'Poor', 'Satisfactory', 'Poor',\n",
              "       'Satisfactory', 'Satisfactory', 'Excellent', 'Satisfactory',\n",
              "       'Satisfactory', 'Poor', 'Poor', 'Satisfactory', 'Poor',\n",
              "       'Excellent', 'Good', 'Satisfactory', 'Good', 'Satisfactory',\n",
              "       'Satisfactory', 'Satisfactory', 'Satisfactory', 'Satisfactory',\n",
              "       'Good', 'Poor', 'Good', 'Satisfactory', 'Poor', 'Satisfactory',\n",
              "       'Excellent', 'Satisfactory', 'Failure', 'Poor', 'Poor', 'Poor',\n",
              "       'Satisfactory', 'Satisfactory', 'Poor', 'Satisfactory',\n",
              "       'Satisfactory', 'Good', 'Satisfactory', 'Satisfactory', 'Good',\n",
              "       'Poor', 'Good', 'Poor', 'Poor', 'Satisfactory', 'Poor', 'Poor',\n",
              "       'Satisfactory', 'Poor', 'Satisfactory', 'Good', 'Good',\n",
              "       'Satisfactory', 'Poor', 'Excellent', 'Satisfactory', 'Poor',\n",
              "       'Satisfactory', 'Satisfactory', 'Satisfactory', 'Poor', 'Failure',\n",
              "       'Satisfactory', 'Good', 'Satisfactory', 'Poor', 'Poor', 'Poor',\n",
              "       'Satisfactory', 'Satisfactory', 'Poor', 'Poor', 'Poor', 'Poor',\n",
              "       'Satisfactory', 'Satisfactory', 'Poor', 'Good', 'Good', 'Poor',\n",
              "       'Satisfactory', 'Poor', 'Satisfactory', 'Satisfactory', 'Poor',\n",
              "       'Poor', 'Satisfactory', 'Satisfactory', 'Satisfactory', 'Good',\n",
              "       'Poor', 'Satisfactory', 'Poor', 'Poor', 'Satisfactory', 'Poor',\n",
              "       'Satisfactory', 'Poor', 'Satisfactory', 'Satisfactory', 'Poor',\n",
              "       'Poor', 'Excellent', 'Satisfactory', 'Poor', 'Good', 'Poor',\n",
              "       'Satisfactory', 'Good', 'Poor', 'Poor', 'Poor', 'Failure', 'Poor',\n",
              "       'Excellent', 'Satisfactory', 'Poor', 'Poor', 'Poor', 'Poor',\n",
              "       'Poor', 'Poor', 'Poor', 'Satisfactory', 'Poor', 'Good',\n",
              "       'Satisfactory', 'Satisfactory', 'Good', 'Poor', 'Good', 'Good',\n",
              "       'Poor', 'Satisfactory', 'Satisfactory', 'Satisfactory',\n",
              "       'Satisfactory', 'Satisfactory', 'Good', 'Good', 'Satisfactory',\n",
              "       'Poor', 'Satisfactory', 'Good', 'Good', 'Poor', 'Poor', 'Poor',\n",
              "       'Satisfactory', 'Excellent', 'Poor', 'Good', 'Satisfactory',\n",
              "       'Poor', 'Failure', 'Satisfactory', 'Satisfactory', 'Poor',\n",
              "       'Satisfactory', 'Poor', 'Satisfactory', 'Poor', 'Satisfactory',\n",
              "       'Poor', 'Good', 'Poor', 'Satisfactory', 'Satisfactory',\n",
              "       'Satisfactory', 'Satisfactory', 'Poor', 'Poor', 'Poor', 'Poor',\n",
              "       'Satisfactory', 'Satisfactory', 'Satisfactory', 'Poor',\n",
              "       'Satisfactory', 'Satisfactory', 'Satisfactory', 'Satisfactory',\n",
              "       'Poor', 'Satisfactory', 'Satisfactory', 'Poor', 'Satisfactory',\n",
              "       'Good', 'Good', 'Poor', 'Satisfactory', 'Poor', 'Satisfactory',\n",
              "       'Satisfactory', 'Excellent', 'Poor', 'Satisfactory', 'Poor',\n",
              "       'Poor', 'Satisfactory', 'Satisfactory', 'Poor', 'Poor', 'Poor',\n",
              "       'Satisfactory', 'Satisfactory', 'Satisfactory', 'Poor', 'Good',\n",
              "       'Satisfactory', 'Poor', 'Satisfactory', 'Good', 'Poor', 'Poor',\n",
              "       'Good', 'Satisfactory', 'Good', 'Poor', 'Good', 'Satisfactory',\n",
              "       'Poor', 'Good', 'Satisfactory', 'Satisfactory', 'Poor', 'Poor',\n",
              "       'Poor', 'Satisfactory', 'Satisfactory', 'Satisfactory', 'Good',\n",
              "       'Poor', 'Satisfactory', 'Satisfactory', 'Good', 'Satisfactory',\n",
              "       'Excellent', 'Satisfactory', 'Poor', 'Poor', 'Poor', 'Poor',\n",
              "       'Satisfactory', 'Poor', 'Satisfactory', 'Poor', 'Satisfactory',\n",
              "       'Satisfactory', 'Satisfactory', 'Failure', 'Excellent', 'Poor',\n",
              "       'Satisfactory', 'Excellent', 'Poor', 'Satisfactory',\n",
              "       'Satisfactory', 'Satisfactory', 'Failure', 'Satisfactory',\n",
              "       'Satisfactory', 'Satisfactory', 'Satisfactory', 'Good', 'Poor',\n",
              "       'Good', 'Poor', 'Poor', 'Failure', 'Poor', 'Good', 'Satisfactory',\n",
              "       'Satisfactory', 'Satisfactory', 'Poor', 'Satisfactory',\n",
              "       'Satisfactory', 'Satisfactory', 'Satisfactory', 'Good', 'Good',\n",
              "       'Poor', 'Poor', 'Satisfactory', 'Satisfactory', 'Poor',\n",
              "       'Satisfactory', 'Satisfactory', 'Satisfactory', 'Poor', 'Failure',\n",
              "       'Poor', 'Satisfactory', 'Failure', 'Good', 'Satisfactory', 'Good',\n",
              "       'Satisfactory', 'Poor', 'Failure', 'Satisfactory', 'Poor', 'Poor',\n",
              "       'Satisfactory', 'Satisfactory', 'Poor', 'Satisfactory',\n",
              "       'Satisfactory', 'Good', 'Poor', 'Satisfactory', 'Poor',\n",
              "       'Satisfactory', 'Good', 'Satisfactory', 'Satisfactory',\n",
              "       'Satisfactory', 'Satisfactory', 'Poor', 'Satisfactory', 'Poor',\n",
              "       'Poor', 'Poor', 'Poor', 'Poor', 'Satisfactory', 'Poor', 'Failure',\n",
              "       'Satisfactory', 'Satisfactory', 'Poor', 'Satisfactory',\n",
              "       'Satisfactory', 'Poor', 'Poor', 'Failure', 'Poor', 'Satisfactory',\n",
              "       'Failure', 'Good', 'Good', 'Poor', 'Poor', 'Poor', 'Poor', 'Poor',\n",
              "       'Excellent', 'Satisfactory', 'Poor', 'Poor', 'Poor',\n",
              "       'Satisfactory', 'Satisfactory', 'Satisfactory', 'Satisfactory',\n",
              "       'Satisfactory', 'Poor', 'Satisfactory', 'Good', 'Satisfactory',\n",
              "       'Poor', 'Satisfactory', 'Poor', 'Poor', 'Poor', 'Satisfactory',\n",
              "       'Poor', 'Good', 'Satisfactory', 'Poor', 'Poor', 'Excellent',\n",
              "       'Good', 'Poor', 'Poor', 'Satisfactory', 'Good', 'Poor', 'Good',\n",
              "       'Failure', 'Poor', 'Satisfactory', 'Poor', 'Poor', 'Poor', 'Poor',\n",
              "       'Poor', 'Poor', 'Satisfactory', 'Poor', 'Good', 'Satisfactory',\n",
              "       'Poor', 'Satisfactory', 'Poor', 'Poor', 'Poor', 'Good',\n",
              "       'Satisfactory', 'Satisfactory', 'Good', 'Satisfactory', 'Good',\n",
              "       'Poor', 'Poor', 'Satisfactory', 'Good', 'Excellent', 'Poor',\n",
              "       'Satisfactory', 'Satisfactory', 'Good', 'Satisfactory',\n",
              "       'Satisfactory', 'Satisfactory', 'Satisfactory', 'Poor', 'Good',\n",
              "       'Poor', 'Poor', 'Poor', 'Poor', 'Satisfactory', 'Good', 'Good',\n",
              "       'Good', 'Poor', 'Poor', 'Poor', 'Poor', 'Satisfactory',\n",
              "       'Satisfactory', 'Poor', 'Good', 'Poor', 'Good', 'Poor', 'Good',\n",
              "       'Good', 'Satisfactory', 'Poor', 'Poor', 'Poor', 'Poor',\n",
              "       'Satisfactory', 'Good', 'Satisfactory', 'Excellent',\n",
              "       'Satisfactory', 'Poor', 'Excellent', 'Poor', 'Satisfactory',\n",
              "       'Poor', 'Satisfactory', 'Poor', 'Poor', 'Satisfactory', 'Good',\n",
              "       'Satisfactory', 'Good', 'Satisfactory', 'Excellent', 'Good',\n",
              "       'Satisfactory', 'Poor', 'Satisfactory', 'Satisfactory',\n",
              "       'Satisfactory', 'Poor', 'Satisfactory', 'Poor', 'Satisfactory',\n",
              "       'Satisfactory', 'Good', 'Satisfactory', 'Good', 'Satisfactory',\n",
              "       'Poor', 'Satisfactory', 'Satisfactory', 'Satisfactory',\n",
              "       'Satisfactory', 'Poor', 'Satisfactory', 'Poor', 'Poor',\n",
              "       'Excellent', 'Poor', 'Satisfactory', 'Poor', 'Poor', 'Poor',\n",
              "       'Satisfactory', 'Satisfactory', 'Satisfactory', 'Poor',\n",
              "       'Satisfactory', 'Excellent', 'Satisfactory', 'Poor', 'Poor',\n",
              "       'Satisfactory', 'Excellent', 'Satisfactory', 'Satisfactory',\n",
              "       'Satisfactory', 'Satisfactory', 'Poor', 'Poor', 'Good',\n",
              "       'Satisfactory', 'Poor', 'Poor', 'Satisfactory', 'Good',\n",
              "       'Satisfactory', 'Poor', 'Satisfactory', 'Good', 'Satisfactory',\n",
              "       'Good', 'Poor', 'Good', 'Good', 'Satisfactory', 'Excellent',\n",
              "       'Good', 'Satisfactory', 'Satisfactory', 'Satisfactory',\n",
              "       'Satisfactory', 'Good', 'Satisfactory', 'Poor', 'Poor',\n",
              "       'Satisfactory', 'Satisfactory', 'Poor', 'Good', 'Satisfactory',\n",
              "       'Satisfactory', 'Good', 'Satisfactory', 'Poor', 'Good', 'Poor',\n",
              "       'Satisfactory', 'Good', 'Satisfactory', 'Poor', 'Poor', 'Good',\n",
              "       'Poor', 'Satisfactory', 'Satisfactory', 'Excellent', 'Poor',\n",
              "       'Satisfactory', 'Poor', 'Satisfactory', 'Satisfactory', 'Good',\n",
              "       'Satisfactory', 'Satisfactory', 'Failure', 'Good', 'Satisfactory',\n",
              "       'Poor', 'Satisfactory', 'Poor', 'Poor', 'Satisfactory',\n",
              "       'Satisfactory', 'Good', 'Good', 'Poor', 'Satisfactory', 'Good',\n",
              "       'Good', 'Poor', 'Excellent', 'Good', 'Good', 'Satisfactory',\n",
              "       'Poor', 'Good', 'Satisfactory', 'Excellent', 'Satisfactory',\n",
              "       'Good', 'Satisfactory', 'Good', 'Failure', 'Poor', 'Satisfactory',\n",
              "       'Satisfactory', 'Satisfactory', 'Poor', 'Satisfactory',\n",
              "       'Satisfactory', 'Excellent', 'Satisfactory', 'Satisfactory',\n",
              "       'Poor', 'Excellent', 'Poor', 'Failure', 'Satisfactory',\n",
              "       'Satisfactory', 'Good', 'Satisfactory', 'Poor', 'Poor', 'Poor',\n",
              "       'Good', 'Good', 'Poor', 'Poor', 'Good', 'Poor', 'Satisfactory',\n",
              "       'Satisfactory', 'Good', 'Poor', 'Satisfactory', 'Poor', 'Good',\n",
              "       'Poor', 'Satisfactory', 'Satisfactory', 'Poor', 'Satisfactory',\n",
              "       'Poor', 'Good', 'Poor', 'Satisfactory', 'Poor', 'Good', 'Poor',\n",
              "       'Satisfactory', 'Good', 'Poor', 'Poor', 'Excellent',\n",
              "       'Satisfactory', 'Satisfactory', 'Satisfactory', 'Satisfactory',\n",
              "       'Satisfactory', 'Poor', 'Satisfactory', 'Excellent', 'Failure',\n",
              "       'Poor', 'Satisfactory', 'Good', 'Satisfactory', 'Poor', 'Poor',\n",
              "       'Satisfactory', 'Poor', 'Poor', 'Poor', 'Satisfactory', 'Good',\n",
              "       'Satisfactory', 'Failure', 'Poor', 'Poor', 'Poor', 'Good', 'Poor',\n",
              "       'Satisfactory', 'Satisfactory', 'Satisfactory', 'Satisfactory',\n",
              "       'Satisfactory', 'Poor', 'Good', 'Satisfactory', 'Good',\n",
              "       'Satisfactory', 'Poor', 'Excellent', 'Good', 'Poor', 'Good',\n",
              "       'Satisfactory', 'Satisfactory', 'Satisfactory', 'Good', 'Poor',\n",
              "       'Satisfactory', 'Poor', 'Satisfactory', 'Good', 'Satisfactory',\n",
              "       'Satisfactory', 'Satisfactory', 'Poor', 'Poor', 'Good',\n",
              "       'Satisfactory', 'Satisfactory', 'Poor', 'Satisfactory', 'Poor',\n",
              "       'Satisfactory', 'Satisfactory', 'Poor', 'Excellent', 'Failure',\n",
              "       'Poor', 'Satisfactory', 'Satisfactory', 'Satisfactory', 'Poor',\n",
              "       'Satisfactory', 'Good', 'Poor', 'Poor', 'Poor', 'Failure',\n",
              "       'Excellent', 'Satisfactory', 'Poor', 'Satisfactory', 'Poor',\n",
              "       'Satisfactory', 'Satisfactory', 'Poor', 'Satisfactory',\n",
              "       'Satisfactory', 'Excellent', 'Satisfactory', 'Excellent', 'Poor',\n",
              "       'Poor', 'Poor', 'Satisfactory', 'Poor', 'Poor', 'Satisfactory',\n",
              "       'Good', 'Poor', 'Poor', 'Poor', 'Poor', 'Good', 'Satisfactory',\n",
              "       'Satisfactory', 'Poor', 'Satisfactory', 'Satisfactory', 'Poor',\n",
              "       'Good', 'Good', 'Poor', 'Excellent', 'Poor', 'Poor'], dtype=object)"
            ]
          },
          "metadata": {
            "tags": []
          },
          "execution_count": 39
        }
      ]
    },
    {
      "cell_type": "code",
      "metadata": {
        "colab": {
          "base_uri": "https://localhost:8080/"
        },
        "id": "mMt-aymuX9hY",
        "outputId": "bed331d0-8457-498e-8a4d-4d9e5318c8e2"
      },
      "source": [
        "print('Training-set accuracy score: {0:0.4f}'. format(accuracy_score(y_train, y_pred_train_en)))"
      ],
      "execution_count": null,
      "outputs": [
        {
          "output_type": "stream",
          "text": [
            "Training-set accuracy score: 0.8419\n"
          ],
          "name": "stdout"
        }
      ]
    },
    {
      "cell_type": "markdown",
      "metadata": {
        "id": "11vHd0S9YR34"
      },
      "source": [
        "Check for overfitting and underfitting"
      ]
    },
    {
      "cell_type": "code",
      "metadata": {
        "colab": {
          "base_uri": "https://localhost:8080/"
        },
        "id": "rWxbpuxuYSjE",
        "outputId": "25fa6482-af19-49fe-9904-20ee5c495708"
      },
      "source": [
        "# print the scores on training and test set\n",
        "\n",
        "print('Training set score: {:.4f}'.format(clf_en.score(X_train, y_train)))\n",
        "\n",
        "print('Test set score: {:.4f}'.format(clf_en.score(X_test, y_test)))"
      ],
      "execution_count": null,
      "outputs": [
        {
          "output_type": "stream",
          "text": [
            "Training set score: 0.8419\n",
            "Test set score: 0.8325\n"
          ],
          "name": "stdout"
        }
      ]
    },
    {
      "cell_type": "markdown",
      "metadata": {
        "id": "0HDUFYeiYYy0"
      },
      "source": [
        "Visualize decision-trees"
      ]
    },
    {
      "cell_type": "code",
      "metadata": {
        "colab": {
          "base_uri": "https://localhost:8080/",
          "height": 1000
        },
        "id": "o3JhkwniYZbb",
        "outputId": "b150411e-95f6-4ca8-8d0b-45202e8a299b"
      },
      "source": [
        "plt.figure(figsize=(38,20))\n",
        "\n",
        "from sklearn import tree\n",
        "\n",
        "tree.plot_tree(clf_en.fit(X_train, y_train),fontsize=15) "
      ],
      "execution_count": null,
      "outputs": [
        {
          "output_type": "execute_result",
          "data": {
            "text/plain": [
              "[Text(968.803448275862, 978.48, 'X[31] <= 10.5\\nentropy = 1.874\\nsamples = 835\\nvalue = [28, 50, 131, 262, 364]'),\n",
              " Text(402.1448275862069, 761.0400000000001, 'X[29] <= 0.5\\nentropy = 1.205\\nsamples = 342\\nvalue = [0, 50, 1, 239, 52]'),\n",
              " Text(146.2344827586207, 543.6, 'X[31] <= 5.5\\nentropy = 1.489\\nsamples = 113\\nvalue = [0, 44, 1, 53, 15]'),\n",
              " Text(73.11724137931034, 326.1600000000001, 'entropy = 0.0\\nsamples = 21\\nvalue = [0, 21, 0, 0, 0]'),\n",
              " Text(219.35172413793103, 326.1600000000001, 'X[31] <= 8.5\\nentropy = 1.456\\nsamples = 92\\nvalue = [0, 23, 1, 53, 15]'),\n",
              " Text(146.2344827586207, 108.72000000000003, 'entropy = 1.156\\nsamples = 34\\nvalue = [0, 15, 0, 18, 1]'),\n",
              " Text(292.4689655172414, 108.72000000000003, 'entropy = 1.43\\nsamples = 58\\nvalue = [0, 8, 1, 35, 14]'),\n",
              " Text(658.0551724137931, 543.6, 'X[31] <= 9.5\\nentropy = 0.806\\nsamples = 229\\nvalue = [0, 6, 0, 186, 37]'),\n",
              " Text(511.8206896551724, 326.1600000000001, 'X[31] <= 7.5\\nentropy = 0.487\\nsamples = 160\\nvalue = [0, 6, 0, 147, 7]'),\n",
              " Text(438.70344827586206, 108.72000000000003, 'entropy = 0.527\\nsamples = 42\\nvalue = [0, 5, 0, 37, 0]'),\n",
              " Text(584.9379310344827, 108.72000000000003, 'entropy = 0.394\\nsamples = 118\\nvalue = [0, 1, 0, 110, 7]'),\n",
              " Text(804.2896551724137, 326.1600000000001, 'X[30] <= 11.5\\nentropy = 0.988\\nsamples = 69\\nvalue = [0, 0, 0, 39, 30]'),\n",
              " Text(731.1724137931035, 108.72000000000003, 'entropy = 0.943\\nsamples = 61\\nvalue = [0, 0, 0, 39, 22]'),\n",
              " Text(877.4068965517241, 108.72000000000003, 'entropy = 0.0\\nsamples = 8\\nvalue = [0, 0, 0, 0, 8]'),\n",
              " Text(1535.4620689655171, 761.0400000000001, 'X[35] <= 2.5\\nentropy = 1.366\\nsamples = 493\\nvalue = [28, 0, 130, 23, 312]'),\n",
              " Text(1242.9931034482759, 543.6, 'X[31] <= 13.5\\nentropy = 0.726\\nsamples = 362\\nvalue = [0, 0, 28, 23, 311]'),\n",
              " Text(1096.7586206896551, 326.1600000000001, 'X[30] <= 11.5\\nentropy = 0.486\\nsamples = 304\\nvalue = [0, 0, 4, 23, 277]'),\n",
              " Text(1023.6413793103447, 108.72000000000003, 'entropy = 0.641\\nsamples = 135\\nvalue = [0, 0, 0, 22, 113]'),\n",
              " Text(1169.8758620689655, 108.72000000000003, 'entropy = 0.214\\nsamples = 169\\nvalue = [0, 0, 4, 1, 164]'),\n",
              " Text(1389.2275862068966, 326.1600000000001, 'X[30] <= 13.5\\nentropy = 0.978\\nsamples = 58\\nvalue = [0, 0, 24, 0, 34]'),\n",
              " Text(1316.1103448275862, 108.72000000000003, 'entropy = 0.738\\nsamples = 24\\nvalue = [0, 0, 5, 0, 19]'),\n",
              " Text(1462.344827586207, 108.72000000000003, 'entropy = 0.99\\nsamples = 34\\nvalue = [0, 0, 19, 0, 15]'),\n",
              " Text(1827.9310344827586, 543.6, 'X[31] <= 16.5\\nentropy = 0.811\\nsamples = 131\\nvalue = [28, 0, 102, 0, 1]'),\n",
              " Text(1681.6965517241379, 326.1600000000001, 'X[23] <= 4.5\\nentropy = 0.176\\nsamples = 90\\nvalue = [1, 0, 88, 0, 1]'),\n",
              " Text(1608.5793103448275, 108.72000000000003, 'entropy = 0.0\\nsamples = 70\\nvalue = [0, 0, 70, 0, 0]'),\n",
              " Text(1754.8137931034482, 108.72000000000003, 'entropy = 0.569\\nsamples = 20\\nvalue = [1, 0, 18, 0, 1]'),\n",
              " Text(1974.1655172413793, 326.1600000000001, 'X[30] <= 15.5\\nentropy = 0.926\\nsamples = 41\\nvalue = [27, 0, 14, 0, 0]'),\n",
              " Text(1901.048275862069, 108.72000000000003, 'entropy = 0.0\\nsamples = 5\\nvalue = [0, 0, 5, 0, 0]'),\n",
              " Text(2047.2827586206895, 108.72000000000003, 'entropy = 0.811\\nsamples = 36\\nvalue = [27, 0, 9, 0, 0]')]"
            ]
          },
          "metadata": {
            "tags": []
          },
          "execution_count": 42
        },
        {
          "output_type": "display_data",
          "data": {
            "image/png": "[encoded data removed]",
            "text/plain": [
              "<Figure size 2736x1440 with 1 Axes>"
            ]
          },
          "metadata": {
            "tags": [],
            "needs_background": "light"
          }
        }
      ]
    },
    {
      "cell_type": "code",
      "metadata": {
        "colab": {
          "base_uri": "https://localhost:8080/"
        },
        "id": "N9JFEFHpAnGB",
        "outputId": "8063d797-d39e-4dd9-c122-33dec5ebdafd"
      },
      "source": [
        "y.unique()"
      ],
      "execution_count": null,
      "outputs": [
        {
          "output_type": "execute_result",
          "data": {
            "text/plain": [
              "array(['Poor', 'Good', 'Satisfactory', 'Excellent', 'Failure'],\n",
              "      dtype=object)"
            ]
          },
          "metadata": {
            "tags": []
          },
          "execution_count": 43
        }
      ]
    },
    {
      "cell_type": "code",
      "metadata": {
        "colab": {
          "base_uri": "https://localhost:8080/",
          "height": 745
        },
        "id": "OEngvKvnYn31",
        "outputId": "147c2973-d422-4434-f87f-7140944ff31f"
      },
      "source": [
        "import graphviz \n",
        "dot_data = tree.export_graphviz(clf_en, out_file=None, \n",
        "                              feature_names=X_train.columns,  \n",
        "                              class_names=True,  \n",
        "                              filled=True, rounded=True,  \n",
        "                              special_characters=True)\n",
        "\n",
        "graph = graphviz.Source(dot_data) \n",
        "\n",
        "graph "
      ],
      "execution_count": null,
      "outputs": [
        {
          "output_type": "execute_result",
          "data": {
            "text/plain": [
              "<graphviz.files.Source at 0x7f342b1e4350>"
            ],
            "image/svg+xml": "<?xml version=\"1.0\" encoding=\"UTF-8\" standalone=\"no\"?>\n<!DOCTYPE svg PUBLIC \"-//W3C//DTD SVG 1.1//EN\"\n \"http://www.w3.org/Graphics/SVG/1.1/DTD/svg11.dtd\">\n<!-- Generated by graphviz version 2.40.1 (20161225.0304)\n -->\n<!-- Title: Tree Pages: 1 -->\n<svg width=\"2460pt\" height=\"528pt\"\n viewBox=\"0.00 0.00 2460.00 528.00\" xmlns=\"http://www.w3.org/2000/svg\" xmlns:xlink=\"http://www.w3.org/1999/xlink\">\n<g id=\"graph0\" class=\"graph\" transform=\"scale(1 1) rotate(0) translate(4 524)\">\n<title>Tree</title>\n<polygon fill=\"#ffffff\" stroke=\"transparent\" points=\"-4,4 -4,-524 2456,-524 2456,4 -4,4\"/>\n<!-- 0 -->\n<g id=\"node1\" class=\"node\">\n<title>0</title>\n<path fill=\"#fadcf4\" stroke=\"#000000\" d=\"M1154.5,-520C1154.5,-520 966.5,-520 966.5,-520 960.5,-520 954.5,-514 954.5,-508 954.5,-508 954.5,-454 954.5,-454 954.5,-448 960.5,-442 966.5,-442 966.5,-442 1154.5,-442 1154.5,-442 1160.5,-442 1166.5,-448 1166.5,-454 1166.5,-454 1166.5,-508 1166.5,-508 1166.5,-514 1160.5,-520 1154.5,-520\"/>\n<text text-anchor=\"start\" x=\"1028.5\" y=\"-505.8\" font-family=\"Helvetica,sans-Serif\" font-size=\"14.00\" fill=\"#000000\">G2 ≤ 10.5</text>\n<text text-anchor=\"start\" x=\"1009.5\" y=\"-491.8\" font-family=\"Helvetica,sans-Serif\" font-size=\"14.00\" fill=\"#000000\">entropy = 1.874</text>\n<text text-anchor=\"start\" x=\"1012.5\" y=\"-477.8\" font-family=\"Helvetica,sans-Serif\" font-size=\"14.00\" fill=\"#000000\">samples = 835</text>\n<text text-anchor=\"start\" x=\"962.5\" y=\"-463.8\" font-family=\"Helvetica,sans-Serif\" font-size=\"14.00\" fill=\"#000000\">value = [28, 50, 131, 262, 364]</text>\n<text text-anchor=\"start\" x=\"1028\" y=\"-449.8\" font-family=\"Helvetica,sans-Serif\" font-size=\"14.00\" fill=\"#000000\">class = y</text>\n<text text-anchor=\"start\" x=\"1086\" y=\"-449.8\" font-family=\"Helvetica,sans-Serif\" baseline-shift=\"sub\" font-size=\"14.00\" fill=\"#000000\">4</text>\n</g>\n<!-- 1 -->\n<g id=\"node2\" class=\"node\">\n<title>1</title>\n<path fill=\"#817fee\" stroke=\"#000000\" d=\"M784,-406C784,-406 629,-406 629,-406 623,-406 617,-400 617,-394 617,-394 617,-340 617,-340 617,-334 623,-328 629,-328 629,-328 784,-328 784,-328 790,-328 796,-334 796,-340 796,-340 796,-394 796,-394 796,-400 790,-406 784,-406\"/>\n<text text-anchor=\"start\" x=\"656.5\" y=\"-391.8\" font-family=\"Helvetica,sans-Serif\" font-size=\"14.00\" fill=\"#000000\">absences ≤ 0.5</text>\n<text text-anchor=\"start\" x=\"655.5\" y=\"-377.8\" font-family=\"Helvetica,sans-Serif\" font-size=\"14.00\" fill=\"#000000\">entropy = 1.205</text>\n<text text-anchor=\"start\" x=\"658.5\" y=\"-363.8\" font-family=\"Helvetica,sans-Serif\" font-size=\"14.00\" fill=\"#000000\">samples = 342</text>\n<text text-anchor=\"start\" x=\"625\" y=\"-349.8\" font-family=\"Helvetica,sans-Serif\" font-size=\"14.00\" fill=\"#000000\">value = [0, 50, 1, 239, 52]</text>\n<text text-anchor=\"start\" x=\"674\" y=\"-335.8\" font-family=\"Helvetica,sans-Serif\" font-size=\"14.00\" fill=\"#000000\">class = y</text>\n<text text-anchor=\"start\" x=\"732\" y=\"-335.8\" font-family=\"Helvetica,sans-Serif\" baseline-shift=\"sub\" font-size=\"14.00\" fill=\"#000000\">3</text>\n</g>\n<!-- 0&#45;&gt;1 -->\n<g id=\"edge1\" class=\"edge\">\n<title>0&#45;&gt;1</title>\n<path fill=\"none\" stroke=\"#000000\" d=\"M954.2883,-446.7962C907.2302,-431.6419 852.1796,-413.9138 805.9347,-399.0214\"/>\n<polygon fill=\"#000000\" stroke=\"#000000\" points=\"806.7978,-395.6223 796.2063,-395.8885 804.652,-402.2854 806.7978,-395.6223\"/>\n<text text-anchor=\"middle\" x=\"807.6142\" y=\"-414.4339\" font-family=\"Helvetica,sans-Serif\" font-size=\"14.00\" fill=\"#000000\">True</text>\n</g>\n<!-- 14 -->\n<g id=\"node15\" class=\"node\">\n<title>14</title>\n<path fill=\"#f29cdf\" stroke=\"#000000\" d=\"M1506.5,-406C1506.5,-406 1334.5,-406 1334.5,-406 1328.5,-406 1322.5,-400 1322.5,-394 1322.5,-394 1322.5,-340 1322.5,-340 1322.5,-334 1328.5,-328 1334.5,-328 1334.5,-328 1506.5,-328 1506.5,-328 1512.5,-328 1518.5,-334 1518.5,-340 1518.5,-340 1518.5,-394 1518.5,-394 1518.5,-400 1512.5,-406 1506.5,-406\"/>\n<text text-anchor=\"start\" x=\"1372.5\" y=\"-391.8\" font-family=\"Helvetica,sans-Serif\" font-size=\"14.00\" fill=\"#000000\">GradeG2 ≤ 2.5</text>\n<text text-anchor=\"start\" x=\"1369.5\" y=\"-377.8\" font-family=\"Helvetica,sans-Serif\" font-size=\"14.00\" fill=\"#000000\">entropy = 1.366</text>\n<text text-anchor=\"start\" x=\"1372.5\" y=\"-363.8\" font-family=\"Helvetica,sans-Serif\" font-size=\"14.00\" fill=\"#000000\">samples = 493</text>\n<text text-anchor=\"start\" x=\"1330.5\" y=\"-349.8\" font-family=\"Helvetica,sans-Serif\" font-size=\"14.00\" fill=\"#000000\">value = [28, 0, 130, 23, 312]</text>\n<text text-anchor=\"start\" x=\"1388\" y=\"-335.8\" font-family=\"Helvetica,sans-Serif\" font-size=\"14.00\" fill=\"#000000\">class = y</text>\n<text text-anchor=\"start\" x=\"1446\" y=\"-335.8\" font-family=\"Helvetica,sans-Serif\" baseline-shift=\"sub\" font-size=\"14.00\" fill=\"#000000\">4</text>\n</g>\n<!-- 0&#45;&gt;14 -->\n<g id=\"edge14\" class=\"edge\">\n<title>0&#45;&gt;14</title>\n<path fill=\"none\" stroke=\"#000000\" d=\"M1166.5648,-447.4128C1212.5522,-432.8501 1266.3328,-415.8196 1312.5319,-401.1899\"/>\n<polygon fill=\"#000000\" stroke=\"#000000\" points=\"1313.7929,-404.462 1322.2697,-398.1063 1311.6796,-397.7886 1313.7929,-404.462\"/>\n<text text-anchor=\"middle\" x=\"1310.7535\" y=\"-416.5959\" font-family=\"Helvetica,sans-Serif\" font-size=\"14.00\" fill=\"#000000\">False</text>\n</g>\n<!-- 2 -->\n<g id=\"node3\" class=\"node\">\n<title>2</title>\n<path fill=\"#e6e5fc\" stroke=\"#000000\" d=\"M336,-292C336,-292 189,-292 189,-292 183,-292 177,-286 177,-280 177,-280 177,-226 177,-226 177,-220 183,-214 189,-214 189,-214 336,-214 336,-214 342,-214 348,-220 348,-226 348,-226 348,-280 348,-280 348,-286 342,-292 336,-292\"/>\n<text text-anchor=\"start\" x=\"235\" y=\"-277.8\" font-family=\"Helvetica,sans-Serif\" font-size=\"14.00\" fill=\"#000000\">G2 ≤ 5.5</text>\n<text text-anchor=\"start\" x=\"211.5\" y=\"-263.8\" font-family=\"Helvetica,sans-Serif\" font-size=\"14.00\" fill=\"#000000\">entropy = 1.489</text>\n<text text-anchor=\"start\" x=\"214.5\" y=\"-249.8\" font-family=\"Helvetica,sans-Serif\" font-size=\"14.00\" fill=\"#000000\">samples = 113</text>\n<text text-anchor=\"start\" x=\"185\" y=\"-235.8\" font-family=\"Helvetica,sans-Serif\" font-size=\"14.00\" fill=\"#000000\">value = [0, 44, 1, 53, 15]</text>\n<text text-anchor=\"start\" x=\"230\" y=\"-221.8\" font-family=\"Helvetica,sans-Serif\" font-size=\"14.00\" fill=\"#000000\">class = y</text>\n<text text-anchor=\"start\" x=\"288\" y=\"-221.8\" font-family=\"Helvetica,sans-Serif\" baseline-shift=\"sub\" font-size=\"14.00\" fill=\"#000000\">3</text>\n</g>\n<!-- 1&#45;&gt;2 -->\n<g id=\"edge2\" class=\"edge\">\n<title>1&#45;&gt;2</title>\n<path fill=\"none\" stroke=\"#000000\" d=\"M616.9172,-343.999C541.8852,-324.734 435.0505,-297.3035 358.3219,-277.6029\"/>\n<polygon fill=\"#000000\" stroke=\"#000000\" points=\"358.731,-274.0945 348.1747,-274.9976 356.9901,-280.8746 358.731,-274.0945\"/>\n</g>\n<!-- 7 -->\n<g id=\"node8\" class=\"node\">\n<title>7</title>\n<path fill=\"#6865eb\" stroke=\"#000000\" d=\"M780,-292C780,-292 633,-292 633,-292 627,-292 621,-286 621,-280 621,-280 621,-226 621,-226 621,-220 627,-214 633,-214 633,-214 780,-214 780,-214 786,-214 792,-220 792,-226 792,-226 792,-280 792,-280 792,-286 786,-292 780,-292\"/>\n<text text-anchor=\"start\" x=\"679\" y=\"-277.8\" font-family=\"Helvetica,sans-Serif\" font-size=\"14.00\" fill=\"#000000\">G2 ≤ 9.5</text>\n<text text-anchor=\"start\" x=\"655.5\" y=\"-263.8\" font-family=\"Helvetica,sans-Serif\" font-size=\"14.00\" fill=\"#000000\">entropy = 0.806</text>\n<text text-anchor=\"start\" x=\"658.5\" y=\"-249.8\" font-family=\"Helvetica,sans-Serif\" font-size=\"14.00\" fill=\"#000000\">samples = 229</text>\n<text text-anchor=\"start\" x=\"629\" y=\"-235.8\" font-family=\"Helvetica,sans-Serif\" font-size=\"14.00\" fill=\"#000000\">value = [0, 6, 0, 186, 37]</text>\n<text text-anchor=\"start\" x=\"674\" y=\"-221.8\" font-family=\"Helvetica,sans-Serif\" font-size=\"14.00\" fill=\"#000000\">class = y</text>\n<text text-anchor=\"start\" x=\"732\" y=\"-221.8\" font-family=\"Helvetica,sans-Serif\" baseline-shift=\"sub\" font-size=\"14.00\" fill=\"#000000\">3</text>\n</g>\n<!-- 1&#45;&gt;7 -->\n<g id=\"edge7\" class=\"edge\">\n<title>1&#45;&gt;7</title>\n<path fill=\"none\" stroke=\"#000000\" d=\"M706.5,-327.7677C706.5,-319.6172 706.5,-310.9283 706.5,-302.4649\"/>\n<polygon fill=\"#000000\" stroke=\"#000000\" points=\"710.0001,-302.3046 706.5,-292.3046 703.0001,-302.3047 710.0001,-302.3046\"/>\n</g>\n<!-- 3 -->\n<g id=\"node4\" class=\"node\">\n<title>3</title>\n<path fill=\"#7be539\" stroke=\"#000000\" d=\"M147,-171C147,-171 16,-171 16,-171 10,-171 4,-165 4,-159 4,-159 4,-119 4,-119 4,-113 10,-107 16,-107 16,-107 147,-107 147,-107 153,-107 159,-113 159,-119 159,-119 159,-159 159,-159 159,-165 153,-171 147,-171\"/>\n<text text-anchor=\"start\" x=\"39\" y=\"-156.8\" font-family=\"Helvetica,sans-Serif\" font-size=\"14.00\" fill=\"#000000\">entropy = 0.0</text>\n<text text-anchor=\"start\" x=\"37.5\" y=\"-142.8\" font-family=\"Helvetica,sans-Serif\" font-size=\"14.00\" fill=\"#000000\">samples = 21</text>\n<text text-anchor=\"start\" x=\"12\" y=\"-128.8\" font-family=\"Helvetica,sans-Serif\" font-size=\"14.00\" fill=\"#000000\">value = [0, 21, 0, 0, 0]</text>\n<text text-anchor=\"start\" x=\"49\" y=\"-114.8\" font-family=\"Helvetica,sans-Serif\" font-size=\"14.00\" fill=\"#000000\">class = y</text>\n<text text-anchor=\"start\" x=\"107\" y=\"-114.8\" font-family=\"Helvetica,sans-Serif\" baseline-shift=\"sub\" font-size=\"14.00\" fill=\"#000000\">1</text>\n</g>\n<!-- 2&#45;&gt;3 -->\n<g id=\"edge3\" class=\"edge\">\n<title>2&#45;&gt;3</title>\n<path fill=\"none\" stroke=\"#000000\" d=\"M200.4633,-213.9272C181.2058,-201.7981 160.034,-188.4634 140.9563,-176.4476\"/>\n<polygon fill=\"#000000\" stroke=\"#000000\" points=\"142.6796,-173.3966 132.3527,-171.0288 138.949,-179.3197 142.6796,-173.3966\"/>\n</g>\n<!-- 4 -->\n<g id=\"node5\" class=\"node\">\n<title>4</title>\n<path fill=\"#aaa9f4\" stroke=\"#000000\" d=\"M336,-178C336,-178 189,-178 189,-178 183,-178 177,-172 177,-166 177,-166 177,-112 177,-112 177,-106 183,-100 189,-100 189,-100 336,-100 336,-100 342,-100 348,-106 348,-112 348,-112 348,-166 348,-166 348,-172 342,-178 336,-178\"/>\n<text text-anchor=\"start\" x=\"235\" y=\"-163.8\" font-family=\"Helvetica,sans-Serif\" font-size=\"14.00\" fill=\"#000000\">G2 ≤ 8.5</text>\n<text text-anchor=\"start\" x=\"211.5\" y=\"-149.8\" font-family=\"Helvetica,sans-Serif\" font-size=\"14.00\" fill=\"#000000\">entropy = 1.456</text>\n<text text-anchor=\"start\" x=\"218.5\" y=\"-135.8\" font-family=\"Helvetica,sans-Serif\" font-size=\"14.00\" fill=\"#000000\">samples = 92</text>\n<text text-anchor=\"start\" x=\"185\" y=\"-121.8\" font-family=\"Helvetica,sans-Serif\" font-size=\"14.00\" fill=\"#000000\">value = [0, 23, 1, 53, 15]</text>\n<text text-anchor=\"start\" x=\"230\" y=\"-107.8\" font-family=\"Helvetica,sans-Serif\" font-size=\"14.00\" fill=\"#000000\">class = y</text>\n<text text-anchor=\"start\" x=\"288\" y=\"-107.8\" font-family=\"Helvetica,sans-Serif\" baseline-shift=\"sub\" font-size=\"14.00\" fill=\"#000000\">3</text>\n</g>\n<!-- 2&#45;&gt;4 -->\n<g id=\"edge4\" class=\"edge\">\n<title>2&#45;&gt;4</title>\n<path fill=\"none\" stroke=\"#000000\" d=\"M262.5,-213.7677C262.5,-205.6172 262.5,-196.9283 262.5,-188.4649\"/>\n<polygon fill=\"#000000\" stroke=\"#000000\" points=\"266.0001,-188.3046 262.5,-178.3046 259.0001,-188.3047 266.0001,-188.3046\"/>\n</g>\n<!-- 5 -->\n<g id=\"node6\" class=\"node\">\n<title>5</title>\n<path fill=\"#e0e0fb\" stroke=\"#000000\" d=\"M151,-64C151,-64 12,-64 12,-64 6,-64 0,-58 0,-52 0,-52 0,-12 0,-12 0,-6 6,0 12,0 12,0 151,0 151,0 157,0 163,-6 163,-12 163,-12 163,-52 163,-52 163,-58 157,-64 151,-64\"/>\n<text text-anchor=\"start\" x=\"30.5\" y=\"-49.8\" font-family=\"Helvetica,sans-Serif\" font-size=\"14.00\" fill=\"#000000\">entropy = 1.156</text>\n<text text-anchor=\"start\" x=\"37.5\" y=\"-35.8\" font-family=\"Helvetica,sans-Serif\" font-size=\"14.00\" fill=\"#000000\">samples = 34</text>\n<text text-anchor=\"start\" x=\"8\" y=\"-21.8\" font-family=\"Helvetica,sans-Serif\" font-size=\"14.00\" fill=\"#000000\">value = [0, 15, 0, 18, 1]</text>\n<text text-anchor=\"start\" x=\"49\" y=\"-7.8\" font-family=\"Helvetica,sans-Serif\" font-size=\"14.00\" fill=\"#000000\">class = y</text>\n<text text-anchor=\"start\" x=\"107\" y=\"-7.8\" font-family=\"Helvetica,sans-Serif\" baseline-shift=\"sub\" font-size=\"14.00\" fill=\"#000000\">3</text>\n</g>\n<!-- 4&#45;&gt;5 -->\n<g id=\"edge5\" class=\"edge\">\n<title>4&#45;&gt;5</title>\n<path fill=\"none\" stroke=\"#000000\" d=\"M196.3865,-99.9163C179.4453,-89.9013 161.2719,-79.158 144.4927,-69.2388\"/>\n<polygon fill=\"#000000\" stroke=\"#000000\" points=\"146.2486,-66.211 135.8592,-64.135 142.6864,-72.2368 146.2486,-66.211\"/>\n</g>\n<!-- 6 -->\n<g id=\"node7\" class=\"node\">\n<title>6</title>\n<path fill=\"#a2a0f3\" stroke=\"#000000\" d=\"M332,-64C332,-64 193,-64 193,-64 187,-64 181,-58 181,-52 181,-52 181,-12 181,-12 181,-6 187,0 193,0 193,0 332,0 332,0 338,0 344,-6 344,-12 344,-12 344,-52 344,-52 344,-58 338,-64 332,-64\"/>\n<text text-anchor=\"start\" x=\"215.5\" y=\"-49.8\" font-family=\"Helvetica,sans-Serif\" font-size=\"14.00\" fill=\"#000000\">entropy = 1.43</text>\n<text text-anchor=\"start\" x=\"218.5\" y=\"-35.8\" font-family=\"Helvetica,sans-Serif\" font-size=\"14.00\" fill=\"#000000\">samples = 58</text>\n<text text-anchor=\"start\" x=\"189\" y=\"-21.8\" font-family=\"Helvetica,sans-Serif\" font-size=\"14.00\" fill=\"#000000\">value = [0, 8, 1, 35, 14]</text>\n<text text-anchor=\"start\" x=\"230\" y=\"-7.8\" font-family=\"Helvetica,sans-Serif\" font-size=\"14.00\" fill=\"#000000\">class = y</text>\n<text text-anchor=\"start\" x=\"288\" y=\"-7.8\" font-family=\"Helvetica,sans-Serif\" baseline-shift=\"sub\" font-size=\"14.00\" fill=\"#000000\">3</text>\n</g>\n<!-- 4&#45;&gt;6 -->\n<g id=\"edge6\" class=\"edge\">\n<title>4&#45;&gt;6</title>\n<path fill=\"none\" stroke=\"#000000\" d=\"M262.5,-99.7647C262.5,-91.4537 262.5,-82.6472 262.5,-74.2305\"/>\n<polygon fill=\"#000000\" stroke=\"#000000\" points=\"266.0001,-74.2168 262.5,-64.2169 259.0001,-74.2169 266.0001,-74.2168\"/>\n</g>\n<!-- 8 -->\n<g id=\"node9\" class=\"node\">\n<title>8</title>\n<path fill=\"#4d4ae7\" stroke=\"#000000\" d=\"M686,-178C686,-178 547,-178 547,-178 541,-178 535,-172 535,-166 535,-166 535,-112 535,-112 535,-106 541,-100 547,-100 547,-100 686,-100 686,-100 692,-100 698,-106 698,-112 698,-112 698,-166 698,-166 698,-172 692,-178 686,-178\"/>\n<text text-anchor=\"start\" x=\"589\" y=\"-163.8\" font-family=\"Helvetica,sans-Serif\" font-size=\"14.00\" fill=\"#000000\">G2 ≤ 7.5</text>\n<text text-anchor=\"start\" x=\"565.5\" y=\"-149.8\" font-family=\"Helvetica,sans-Serif\" font-size=\"14.00\" fill=\"#000000\">entropy = 0.487</text>\n<text text-anchor=\"start\" x=\"568.5\" y=\"-135.8\" font-family=\"Helvetica,sans-Serif\" font-size=\"14.00\" fill=\"#000000\">samples = 160</text>\n<text text-anchor=\"start\" x=\"543\" y=\"-121.8\" font-family=\"Helvetica,sans-Serif\" font-size=\"14.00\" fill=\"#000000\">value = [0, 6, 0, 147, 7]</text>\n<text text-anchor=\"start\" x=\"584\" y=\"-107.8\" font-family=\"Helvetica,sans-Serif\" font-size=\"14.00\" fill=\"#000000\">class = y</text>\n<text text-anchor=\"start\" x=\"642\" y=\"-107.8\" font-family=\"Helvetica,sans-Serif\" baseline-shift=\"sub\" font-size=\"14.00\" fill=\"#000000\">3</text>\n</g>\n<!-- 7&#45;&gt;8 -->\n<g id=\"edge8\" class=\"edge\">\n<title>7&#45;&gt;8</title>\n<path fill=\"none\" stroke=\"#000000\" d=\"M675.5271,-213.7677C668.5269,-204.9007 661.0234,-195.3964 653.7936,-186.2385\"/>\n<polygon fill=\"#000000\" stroke=\"#000000\" points=\"656.4736,-183.9847 647.53,-178.3046 650.9794,-188.3223 656.4736,-183.9847\"/>\n</g>\n<!-- 11 -->\n<g id=\"node12\" class=\"node\">\n<title>11</title>\n<path fill=\"#d2d1f9\" stroke=\"#000000\" d=\"M867,-178C867,-178 728,-178 728,-178 722,-178 716,-172 716,-166 716,-166 716,-112 716,-112 716,-106 722,-100 728,-100 728,-100 867,-100 867,-100 873,-100 879,-106 879,-112 879,-112 879,-166 879,-166 879,-172 873,-178 867,-178\"/>\n<text text-anchor=\"start\" x=\"765.5\" y=\"-163.8\" font-family=\"Helvetica,sans-Serif\" font-size=\"14.00\" fill=\"#000000\">G1 ≤ 11.5</text>\n<text text-anchor=\"start\" x=\"746.5\" y=\"-149.8\" font-family=\"Helvetica,sans-Serif\" font-size=\"14.00\" fill=\"#000000\">entropy = 0.988</text>\n<text text-anchor=\"start\" x=\"753.5\" y=\"-135.8\" font-family=\"Helvetica,sans-Serif\" font-size=\"14.00\" fill=\"#000000\">samples = 69</text>\n<text text-anchor=\"start\" x=\"724\" y=\"-121.8\" font-family=\"Helvetica,sans-Serif\" font-size=\"14.00\" fill=\"#000000\">value = [0, 0, 0, 39, 30]</text>\n<text text-anchor=\"start\" x=\"765\" y=\"-107.8\" font-family=\"Helvetica,sans-Serif\" font-size=\"14.00\" fill=\"#000000\">class = y</text>\n<text text-anchor=\"start\" x=\"823\" y=\"-107.8\" font-family=\"Helvetica,sans-Serif\" baseline-shift=\"sub\" font-size=\"14.00\" fill=\"#000000\">3</text>\n</g>\n<!-- 7&#45;&gt;11 -->\n<g id=\"edge11\" class=\"edge\">\n<title>7&#45;&gt;11</title>\n<path fill=\"none\" stroke=\"#000000\" d=\"M737.817,-213.7677C744.8951,-204.9007 752.4818,-195.3964 759.7921,-186.2385\"/>\n<polygon fill=\"#000000\" stroke=\"#000000\" points=\"762.622,-188.3036 766.1252,-178.3046 757.1512,-183.9365 762.622,-188.3036\"/>\n</g>\n<!-- 9 -->\n<g id=\"node10\" class=\"node\">\n<title>9</title>\n<path fill=\"#5654e9\" stroke=\"#000000\" d=\"M505,-64C505,-64 374,-64 374,-64 368,-64 362,-58 362,-52 362,-52 362,-12 362,-12 362,-6 368,0 374,0 374,0 505,0 505,0 511,0 517,-6 517,-12 517,-12 517,-52 517,-52 517,-58 511,-64 505,-64\"/>\n<text text-anchor=\"start\" x=\"388.5\" y=\"-49.8\" font-family=\"Helvetica,sans-Serif\" font-size=\"14.00\" fill=\"#000000\">entropy = 0.527</text>\n<text text-anchor=\"start\" x=\"395.5\" y=\"-35.8\" font-family=\"Helvetica,sans-Serif\" font-size=\"14.00\" fill=\"#000000\">samples = 42</text>\n<text text-anchor=\"start\" x=\"370\" y=\"-21.8\" font-family=\"Helvetica,sans-Serif\" font-size=\"14.00\" fill=\"#000000\">value = [0, 5, 0, 37, 0]</text>\n<text text-anchor=\"start\" x=\"407\" y=\"-7.8\" font-family=\"Helvetica,sans-Serif\" font-size=\"14.00\" fill=\"#000000\">class = y</text>\n<text text-anchor=\"start\" x=\"465\" y=\"-7.8\" font-family=\"Helvetica,sans-Serif\" baseline-shift=\"sub\" font-size=\"14.00\" fill=\"#000000\">3</text>\n</g>\n<!-- 8&#45;&gt;9 -->\n<g id=\"edge9\" class=\"edge\">\n<title>8&#45;&gt;9</title>\n<path fill=\"none\" stroke=\"#000000\" d=\"M551.8476,-99.9163C535.4327,-89.9932 517.835,-79.3551 501.5525,-69.512\"/>\n<polygon fill=\"#000000\" stroke=\"#000000\" points=\"503.0264,-66.3131 492.6579,-64.135 499.405,-72.3036 503.0264,-66.3131\"/>\n</g>\n<!-- 10 -->\n<g id=\"node11\" class=\"node\">\n<title>10</title>\n<path fill=\"#4a47e7\" stroke=\"#000000\" d=\"M686,-64C686,-64 547,-64 547,-64 541,-64 535,-58 535,-52 535,-52 535,-12 535,-12 535,-6 541,0 547,0 547,0 686,0 686,0 692,0 698,-6 698,-12 698,-12 698,-52 698,-52 698,-58 692,-64 686,-64\"/>\n<text text-anchor=\"start\" x=\"565.5\" y=\"-49.8\" font-family=\"Helvetica,sans-Serif\" font-size=\"14.00\" fill=\"#000000\">entropy = 0.394</text>\n<text text-anchor=\"start\" x=\"568.5\" y=\"-35.8\" font-family=\"Helvetica,sans-Serif\" font-size=\"14.00\" fill=\"#000000\">samples = 118</text>\n<text text-anchor=\"start\" x=\"543\" y=\"-21.8\" font-family=\"Helvetica,sans-Serif\" font-size=\"14.00\" fill=\"#000000\">value = [0, 1, 0, 110, 7]</text>\n<text text-anchor=\"start\" x=\"584\" y=\"-7.8\" font-family=\"Helvetica,sans-Serif\" font-size=\"14.00\" fill=\"#000000\">class = y</text>\n<text text-anchor=\"start\" x=\"642\" y=\"-7.8\" font-family=\"Helvetica,sans-Serif\" baseline-shift=\"sub\" font-size=\"14.00\" fill=\"#000000\">3</text>\n</g>\n<!-- 8&#45;&gt;10 -->\n<g id=\"edge10\" class=\"edge\">\n<title>8&#45;&gt;10</title>\n<path fill=\"none\" stroke=\"#000000\" d=\"M616.5,-99.7647C616.5,-91.4537 616.5,-82.6472 616.5,-74.2305\"/>\n<polygon fill=\"#000000\" stroke=\"#000000\" points=\"620.0001,-74.2168 616.5,-64.2169 613.0001,-74.2169 620.0001,-74.2168\"/>\n</g>\n<!-- 12 -->\n<g id=\"node13\" class=\"node\">\n<title>12</title>\n<path fill=\"#aaa9f4\" stroke=\"#000000\" d=\"M867,-64C867,-64 728,-64 728,-64 722,-64 716,-58 716,-52 716,-52 716,-12 716,-12 716,-6 722,0 728,0 728,0 867,0 867,0 873,0 879,-6 879,-12 879,-12 879,-52 879,-52 879,-58 873,-64 867,-64\"/>\n<text text-anchor=\"start\" x=\"746.5\" y=\"-49.8\" font-family=\"Helvetica,sans-Serif\" font-size=\"14.00\" fill=\"#000000\">entropy = 0.943</text>\n<text text-anchor=\"start\" x=\"753.5\" y=\"-35.8\" font-family=\"Helvetica,sans-Serif\" font-size=\"14.00\" fill=\"#000000\">samples = 61</text>\n<text text-anchor=\"start\" x=\"724\" y=\"-21.8\" font-family=\"Helvetica,sans-Serif\" font-size=\"14.00\" fill=\"#000000\">value = [0, 0, 0, 39, 22]</text>\n<text text-anchor=\"start\" x=\"765\" y=\"-7.8\" font-family=\"Helvetica,sans-Serif\" font-size=\"14.00\" fill=\"#000000\">class = y</text>\n<text text-anchor=\"start\" x=\"823\" y=\"-7.8\" font-family=\"Helvetica,sans-Serif\" baseline-shift=\"sub\" font-size=\"14.00\" fill=\"#000000\">3</text>\n</g>\n<!-- 11&#45;&gt;12 -->\n<g id=\"edge12\" class=\"edge\">\n<title>11&#45;&gt;12</title>\n<path fill=\"none\" stroke=\"#000000\" d=\"M797.5,-99.7647C797.5,-91.4537 797.5,-82.6472 797.5,-74.2305\"/>\n<polygon fill=\"#000000\" stroke=\"#000000\" points=\"801.0001,-74.2168 797.5,-64.2169 794.0001,-74.2169 801.0001,-74.2168\"/>\n</g>\n<!-- 13 -->\n<g id=\"node14\" class=\"node\">\n<title>13</title>\n<path fill=\"#e539c0\" stroke=\"#000000\" d=\"M1031.5,-64C1031.5,-64 909.5,-64 909.5,-64 903.5,-64 897.5,-58 897.5,-52 897.5,-52 897.5,-12 897.5,-12 897.5,-6 903.5,0 909.5,0 909.5,0 1031.5,0 1031.5,0 1037.5,0 1043.5,-6 1043.5,-12 1043.5,-12 1043.5,-52 1043.5,-52 1043.5,-58 1037.5,-64 1031.5,-64\"/>\n<text text-anchor=\"start\" x=\"928\" y=\"-49.8\" font-family=\"Helvetica,sans-Serif\" font-size=\"14.00\" fill=\"#000000\">entropy = 0.0</text>\n<text text-anchor=\"start\" x=\"931\" y=\"-35.8\" font-family=\"Helvetica,sans-Serif\" font-size=\"14.00\" fill=\"#000000\">samples = 8</text>\n<text text-anchor=\"start\" x=\"905.5\" y=\"-21.8\" font-family=\"Helvetica,sans-Serif\" font-size=\"14.00\" fill=\"#000000\">value = [0, 0, 0, 0, 8]</text>\n<text text-anchor=\"start\" x=\"938\" y=\"-7.8\" font-family=\"Helvetica,sans-Serif\" font-size=\"14.00\" fill=\"#000000\">class = y</text>\n<text text-anchor=\"start\" x=\"996\" y=\"-7.8\" font-family=\"Helvetica,sans-Serif\" baseline-shift=\"sub\" font-size=\"14.00\" fill=\"#000000\">4</text>\n</g>\n<!-- 11&#45;&gt;13 -->\n<g id=\"edge13\" class=\"edge\">\n<title>11&#45;&gt;13</title>\n<path fill=\"none\" stroke=\"#000000\" d=\"M860.9365,-99.7647C876.9656,-89.8508 894.1346,-79.2318 910.0139,-69.4105\"/>\n<polygon fill=\"#000000\" stroke=\"#000000\" points=\"912.024,-72.2826 918.6877,-64.0458 908.3419,-66.3293 912.024,-72.2826\"/>\n</g>\n<!-- 15 -->\n<g id=\"node16\" class=\"node\">\n<title>15</title>\n<path fill=\"#e957ca\" stroke=\"#000000\" d=\"M1498,-292C1498,-292 1343,-292 1343,-292 1337,-292 1331,-286 1331,-280 1331,-280 1331,-226 1331,-226 1331,-220 1337,-214 1343,-214 1343,-214 1498,-214 1498,-214 1504,-214 1510,-220 1510,-226 1510,-226 1510,-280 1510,-280 1510,-286 1504,-292 1498,-292\"/>\n<text text-anchor=\"start\" x=\"1388.5\" y=\"-277.8\" font-family=\"Helvetica,sans-Serif\" font-size=\"14.00\" fill=\"#000000\">G2 ≤ 13.5</text>\n<text text-anchor=\"start\" x=\"1369.5\" y=\"-263.8\" font-family=\"Helvetica,sans-Serif\" font-size=\"14.00\" fill=\"#000000\">entropy = 0.726</text>\n<text text-anchor=\"start\" x=\"1372.5\" y=\"-249.8\" font-family=\"Helvetica,sans-Serif\" font-size=\"14.00\" fill=\"#000000\">samples = 362</text>\n<text text-anchor=\"start\" x=\"1339\" y=\"-235.8\" font-family=\"Helvetica,sans-Serif\" font-size=\"14.00\" fill=\"#000000\">value = [0, 0, 28, 23, 311]</text>\n<text text-anchor=\"start\" x=\"1388\" y=\"-221.8\" font-family=\"Helvetica,sans-Serif\" font-size=\"14.00\" fill=\"#000000\">class = y</text>\n<text text-anchor=\"start\" x=\"1446\" y=\"-221.8\" font-family=\"Helvetica,sans-Serif\" baseline-shift=\"sub\" font-size=\"14.00\" fill=\"#000000\">4</text>\n</g>\n<!-- 14&#45;&gt;15 -->\n<g id=\"edge15\" class=\"edge\">\n<title>14&#45;&gt;15</title>\n<path fill=\"none\" stroke=\"#000000\" d=\"M1420.5,-327.7677C1420.5,-319.6172 1420.5,-310.9283 1420.5,-302.4649\"/>\n<polygon fill=\"#000000\" stroke=\"#000000\" points=\"1424.0001,-302.3046 1420.5,-292.3046 1417.0001,-302.3047 1424.0001,-302.3046\"/>\n</g>\n<!-- 22 -->\n<g id=\"node23\" class=\"node\">\n<title>22</title>\n<path fill=\"#71ecd5\" stroke=\"#000000\" d=\"M2019,-292C2019,-292 1872,-292 1872,-292 1866,-292 1860,-286 1860,-280 1860,-280 1860,-226 1860,-226 1860,-220 1866,-214 1872,-214 1872,-214 2019,-214 2019,-214 2025,-214 2031,-220 2031,-226 2031,-226 2031,-280 2031,-280 2031,-286 2025,-292 2019,-292\"/>\n<text text-anchor=\"start\" x=\"1913.5\" y=\"-277.8\" font-family=\"Helvetica,sans-Serif\" font-size=\"14.00\" fill=\"#000000\">G2 ≤ 16.5</text>\n<text text-anchor=\"start\" x=\"1894.5\" y=\"-263.8\" font-family=\"Helvetica,sans-Serif\" font-size=\"14.00\" fill=\"#000000\">entropy = 0.811</text>\n<text text-anchor=\"start\" x=\"1897.5\" y=\"-249.8\" font-family=\"Helvetica,sans-Serif\" font-size=\"14.00\" fill=\"#000000\">samples = 131</text>\n<text text-anchor=\"start\" x=\"1868\" y=\"-235.8\" font-family=\"Helvetica,sans-Serif\" font-size=\"14.00\" fill=\"#000000\">value = [28, 0, 102, 0, 1]</text>\n<text text-anchor=\"start\" x=\"1913\" y=\"-221.8\" font-family=\"Helvetica,sans-Serif\" font-size=\"14.00\" fill=\"#000000\">class = y</text>\n<text text-anchor=\"start\" x=\"1971\" y=\"-221.8\" font-family=\"Helvetica,sans-Serif\" baseline-shift=\"sub\" font-size=\"14.00\" fill=\"#000000\">2</text>\n</g>\n<!-- 14&#45;&gt;22 -->\n<g id=\"edge22\" class=\"edge\">\n<title>14&#45;&gt;22</title>\n<path fill=\"none\" stroke=\"#000000\" d=\"M1518.6326,-345.6912C1613.3675,-325.1202 1755.8947,-294.1714 1849.8005,-273.7805\"/>\n<polygon fill=\"#000000\" stroke=\"#000000\" points=\"1850.5538,-277.1985 1859.5834,-271.6562 1849.0684,-270.3579 1850.5538,-277.1985\"/>\n</g>\n<!-- 16 -->\n<g id=\"node17\" class=\"node\">\n<title>16</title>\n<path fill=\"#e74cc6\" stroke=\"#000000\" d=\"M1402,-178C1402,-178 1255,-178 1255,-178 1249,-178 1243,-172 1243,-166 1243,-166 1243,-112 1243,-112 1243,-106 1249,-100 1255,-100 1255,-100 1402,-100 1402,-100 1408,-100 1414,-106 1414,-112 1414,-112 1414,-166 1414,-166 1414,-172 1408,-178 1402,-178\"/>\n<text text-anchor=\"start\" x=\"1296.5\" y=\"-163.8\" font-family=\"Helvetica,sans-Serif\" font-size=\"14.00\" fill=\"#000000\">G1 ≤ 11.5</text>\n<text text-anchor=\"start\" x=\"1277.5\" y=\"-149.8\" font-family=\"Helvetica,sans-Serif\" font-size=\"14.00\" fill=\"#000000\">entropy = 0.486</text>\n<text text-anchor=\"start\" x=\"1280.5\" y=\"-135.8\" font-family=\"Helvetica,sans-Serif\" font-size=\"14.00\" fill=\"#000000\">samples = 304</text>\n<text text-anchor=\"start\" x=\"1251\" y=\"-121.8\" font-family=\"Helvetica,sans-Serif\" font-size=\"14.00\" fill=\"#000000\">value = [0, 0, 4, 23, 277]</text>\n<text text-anchor=\"start\" x=\"1296\" y=\"-107.8\" font-family=\"Helvetica,sans-Serif\" font-size=\"14.00\" fill=\"#000000\">class = y</text>\n<text text-anchor=\"start\" x=\"1354\" y=\"-107.8\" font-family=\"Helvetica,sans-Serif\" baseline-shift=\"sub\" font-size=\"14.00\" fill=\"#000000\">4</text>\n</g>\n<!-- 15&#45;&gt;16 -->\n<g id=\"edge16\" class=\"edge\">\n<title>15&#45;&gt;16</title>\n<path fill=\"none\" stroke=\"#000000\" d=\"M1388.8388,-213.7677C1381.683,-204.9007 1374.0129,-195.3964 1366.6223,-186.2385\"/>\n<polygon fill=\"#000000\" stroke=\"#000000\" points=\"1369.2235,-183.8886 1360.2195,-178.3046 1363.7761,-188.2847 1369.2235,-183.8886\"/>\n</g>\n<!-- 19 -->\n<g id=\"node20\" class=\"node\">\n<title>19</title>\n<path fill=\"#f7c5ec\" stroke=\"#000000\" d=\"M1583,-178C1583,-178 1444,-178 1444,-178 1438,-178 1432,-172 1432,-166 1432,-166 1432,-112 1432,-112 1432,-106 1438,-100 1444,-100 1444,-100 1583,-100 1583,-100 1589,-100 1595,-106 1595,-112 1595,-112 1595,-166 1595,-166 1595,-172 1589,-178 1583,-178\"/>\n<text text-anchor=\"start\" x=\"1481.5\" y=\"-163.8\" font-family=\"Helvetica,sans-Serif\" font-size=\"14.00\" fill=\"#000000\">G1 ≤ 13.5</text>\n<text text-anchor=\"start\" x=\"1462.5\" y=\"-149.8\" font-family=\"Helvetica,sans-Serif\" font-size=\"14.00\" fill=\"#000000\">entropy = 0.978</text>\n<text text-anchor=\"start\" x=\"1469.5\" y=\"-135.8\" font-family=\"Helvetica,sans-Serif\" font-size=\"14.00\" fill=\"#000000\">samples = 58</text>\n<text text-anchor=\"start\" x=\"1440\" y=\"-121.8\" font-family=\"Helvetica,sans-Serif\" font-size=\"14.00\" fill=\"#000000\">value = [0, 0, 24, 0, 34]</text>\n<text text-anchor=\"start\" x=\"1481\" y=\"-107.8\" font-family=\"Helvetica,sans-Serif\" font-size=\"14.00\" fill=\"#000000\">class = y</text>\n<text text-anchor=\"start\" x=\"1539\" y=\"-107.8\" font-family=\"Helvetica,sans-Serif\" baseline-shift=\"sub\" font-size=\"14.00\" fill=\"#000000\">4</text>\n</g>\n<!-- 15&#45;&gt;19 -->\n<g id=\"edge19\" class=\"edge\">\n<title>15&#45;&gt;19</title>\n<path fill=\"none\" stroke=\"#000000\" d=\"M1452.5053,-213.7677C1459.7389,-204.9007 1467.4924,-195.3964 1474.9633,-186.2385\"/>\n<polygon fill=\"#000000\" stroke=\"#000000\" points=\"1477.8264,-188.2658 1481.4357,-178.3046 1472.4023,-183.8409 1477.8264,-188.2658\"/>\n</g>\n<!-- 17 -->\n<g id=\"node18\" class=\"node\">\n<title>17</title>\n<path fill=\"#ea60cc\" stroke=\"#000000\" d=\"M1221,-64C1221,-64 1074,-64 1074,-64 1068,-64 1062,-58 1062,-52 1062,-52 1062,-12 1062,-12 1062,-6 1068,0 1074,0 1074,0 1221,0 1221,0 1227,0 1233,-6 1233,-12 1233,-12 1233,-52 1233,-52 1233,-58 1227,-64 1221,-64\"/>\n<text text-anchor=\"start\" x=\"1096.5\" y=\"-49.8\" font-family=\"Helvetica,sans-Serif\" font-size=\"14.00\" fill=\"#000000\">entropy = 0.641</text>\n<text text-anchor=\"start\" x=\"1099.5\" y=\"-35.8\" font-family=\"Helvetica,sans-Serif\" font-size=\"14.00\" fill=\"#000000\">samples = 135</text>\n<text text-anchor=\"start\" x=\"1070\" y=\"-21.8\" font-family=\"Helvetica,sans-Serif\" font-size=\"14.00\" fill=\"#000000\">value = [0, 0, 0, 22, 113]</text>\n<text text-anchor=\"start\" x=\"1115\" y=\"-7.8\" font-family=\"Helvetica,sans-Serif\" font-size=\"14.00\" fill=\"#000000\">class = y</text>\n<text text-anchor=\"start\" x=\"1173\" y=\"-7.8\" font-family=\"Helvetica,sans-Serif\" baseline-shift=\"sub\" font-size=\"14.00\" fill=\"#000000\">4</text>\n</g>\n<!-- 16&#45;&gt;17 -->\n<g id=\"edge17\" class=\"edge\">\n<title>16&#45;&gt;17</title>\n<path fill=\"none\" stroke=\"#000000\" d=\"M1262.3865,-99.9163C1245.4453,-89.9013 1227.2719,-79.158 1210.4927,-69.2388\"/>\n<polygon fill=\"#000000\" stroke=\"#000000\" points=\"1212.2486,-66.211 1201.8592,-64.135 1208.6864,-72.2368 1212.2486,-66.211\"/>\n</g>\n<!-- 18 -->\n<g id=\"node19\" class=\"node\">\n<title>18</title>\n<path fill=\"#e63fc2\" stroke=\"#000000\" d=\"M1402,-64C1402,-64 1263,-64 1263,-64 1257,-64 1251,-58 1251,-52 1251,-52 1251,-12 1251,-12 1251,-6 1257,0 1263,0 1263,0 1402,0 1402,0 1408,0 1414,-6 1414,-12 1414,-12 1414,-52 1414,-52 1414,-58 1408,-64 1402,-64\"/>\n<text text-anchor=\"start\" x=\"1281.5\" y=\"-49.8\" font-family=\"Helvetica,sans-Serif\" font-size=\"14.00\" fill=\"#000000\">entropy = 0.214</text>\n<text text-anchor=\"start\" x=\"1284.5\" y=\"-35.8\" font-family=\"Helvetica,sans-Serif\" font-size=\"14.00\" fill=\"#000000\">samples = 169</text>\n<text text-anchor=\"start\" x=\"1259\" y=\"-21.8\" font-family=\"Helvetica,sans-Serif\" font-size=\"14.00\" fill=\"#000000\">value = [0, 0, 4, 1, 164]</text>\n<text text-anchor=\"start\" x=\"1300\" y=\"-7.8\" font-family=\"Helvetica,sans-Serif\" font-size=\"14.00\" fill=\"#000000\">class = y</text>\n<text text-anchor=\"start\" x=\"1358\" y=\"-7.8\" font-family=\"Helvetica,sans-Serif\" baseline-shift=\"sub\" font-size=\"14.00\" fill=\"#000000\">4</text>\n</g>\n<!-- 16&#45;&gt;18 -->\n<g id=\"edge18\" class=\"edge\">\n<title>16&#45;&gt;18</title>\n<path fill=\"none\" stroke=\"#000000\" d=\"M1329.9667,-99.7647C1330.2774,-91.4537 1330.6066,-82.6472 1330.9213,-74.2305\"/>\n<polygon fill=\"#000000\" stroke=\"#000000\" points=\"1334.4195,-74.3407 1331.2956,-64.2169 1327.4244,-74.0791 1334.4195,-74.3407\"/>\n</g>\n<!-- 20 -->\n<g id=\"node21\" class=\"node\">\n<title>20</title>\n<path fill=\"#ec6dd1\" stroke=\"#000000\" d=\"M1575,-64C1575,-64 1444,-64 1444,-64 1438,-64 1432,-58 1432,-52 1432,-52 1432,-12 1432,-12 1432,-6 1438,0 1444,0 1444,0 1575,0 1575,0 1581,0 1587,-6 1587,-12 1587,-12 1587,-52 1587,-52 1587,-58 1581,-64 1575,-64\"/>\n<text text-anchor=\"start\" x=\"1458.5\" y=\"-49.8\" font-family=\"Helvetica,sans-Serif\" font-size=\"14.00\" fill=\"#000000\">entropy = 0.738</text>\n<text text-anchor=\"start\" x=\"1465.5\" y=\"-35.8\" font-family=\"Helvetica,sans-Serif\" font-size=\"14.00\" fill=\"#000000\">samples = 24</text>\n<text text-anchor=\"start\" x=\"1440\" y=\"-21.8\" font-family=\"Helvetica,sans-Serif\" font-size=\"14.00\" fill=\"#000000\">value = [0, 0, 5, 0, 19]</text>\n<text text-anchor=\"start\" x=\"1477\" y=\"-7.8\" font-family=\"Helvetica,sans-Serif\" font-size=\"14.00\" fill=\"#000000\">class = y</text>\n<text text-anchor=\"start\" x=\"1535\" y=\"-7.8\" font-family=\"Helvetica,sans-Serif\" baseline-shift=\"sub\" font-size=\"14.00\" fill=\"#000000\">4</text>\n</g>\n<!-- 19&#45;&gt;20 -->\n<g id=\"edge20\" class=\"edge\">\n<title>19&#45;&gt;20</title>\n<path fill=\"none\" stroke=\"#000000\" d=\"M1512.0333,-99.7647C1511.7226,-91.4537 1511.3934,-82.6472 1511.0787,-74.2305\"/>\n<polygon fill=\"#000000\" stroke=\"#000000\" points=\"1514.5756,-74.0791 1510.7044,-64.2169 1507.5805,-74.3407 1514.5756,-74.0791\"/>\n</g>\n<!-- 21 -->\n<g id=\"node22\" class=\"node\">\n<title>21</title>\n<path fill=\"#d5faf3\" stroke=\"#000000\" d=\"M1756,-64C1756,-64 1617,-64 1617,-64 1611,-64 1605,-58 1605,-52 1605,-52 1605,-12 1605,-12 1605,-6 1611,0 1617,0 1617,0 1756,0 1756,0 1762,0 1768,-6 1768,-12 1768,-12 1768,-52 1768,-52 1768,-58 1762,-64 1756,-64\"/>\n<text text-anchor=\"start\" x=\"1639.5\" y=\"-49.8\" font-family=\"Helvetica,sans-Serif\" font-size=\"14.00\" fill=\"#000000\">entropy = 0.99</text>\n<text text-anchor=\"start\" x=\"1642.5\" y=\"-35.8\" font-family=\"Helvetica,sans-Serif\" font-size=\"14.00\" fill=\"#000000\">samples = 34</text>\n<text text-anchor=\"start\" x=\"1613\" y=\"-21.8\" font-family=\"Helvetica,sans-Serif\" font-size=\"14.00\" fill=\"#000000\">value = [0, 0, 19, 0, 15]</text>\n<text text-anchor=\"start\" x=\"1654\" y=\"-7.8\" font-family=\"Helvetica,sans-Serif\" font-size=\"14.00\" fill=\"#000000\">class = y</text>\n<text text-anchor=\"start\" x=\"1712\" y=\"-7.8\" font-family=\"Helvetica,sans-Serif\" baseline-shift=\"sub\" font-size=\"14.00\" fill=\"#000000\">2</text>\n</g>\n<!-- 19&#45;&gt;21 -->\n<g id=\"edge21\" class=\"edge\">\n<title>19&#45;&gt;21</title>\n<path fill=\"none\" stroke=\"#000000\" d=\"M1576.9365,-99.7647C1592.9656,-89.8508 1610.1346,-79.2318 1626.0139,-69.4105\"/>\n<polygon fill=\"#000000\" stroke=\"#000000\" points=\"1628.024,-72.2826 1634.6877,-64.0458 1624.3419,-66.3293 1628.024,-72.2826\"/>\n</g>\n<!-- 23 -->\n<g id=\"node24\" class=\"node\">\n<title>23</title>\n<path fill=\"#3de6c6\" stroke=\"#000000\" d=\"M2011,-178C2011,-178 1880,-178 1880,-178 1874,-178 1868,-172 1868,-166 1868,-166 1868,-112 1868,-112 1868,-106 1874,-100 1880,-100 1880,-100 2011,-100 2011,-100 2017,-100 2023,-106 2023,-112 2023,-112 2023,-166 2023,-166 2023,-172 2017,-178 2011,-178\"/>\n<text text-anchor=\"start\" x=\"1907.5\" y=\"-163.8\" font-family=\"Helvetica,sans-Serif\" font-size=\"14.00\" fill=\"#000000\">famrel ≤ 4.5</text>\n<text text-anchor=\"start\" x=\"1894.5\" y=\"-149.8\" font-family=\"Helvetica,sans-Serif\" font-size=\"14.00\" fill=\"#000000\">entropy = 0.176</text>\n<text text-anchor=\"start\" x=\"1901.5\" y=\"-135.8\" font-family=\"Helvetica,sans-Serif\" font-size=\"14.00\" fill=\"#000000\">samples = 90</text>\n<text text-anchor=\"start\" x=\"1876\" y=\"-121.8\" font-family=\"Helvetica,sans-Serif\" font-size=\"14.00\" fill=\"#000000\">value = [1, 0, 88, 0, 1]</text>\n<text text-anchor=\"start\" x=\"1913\" y=\"-107.8\" font-family=\"Helvetica,sans-Serif\" font-size=\"14.00\" fill=\"#000000\">class = y</text>\n<text text-anchor=\"start\" x=\"1971\" y=\"-107.8\" font-family=\"Helvetica,sans-Serif\" baseline-shift=\"sub\" font-size=\"14.00\" fill=\"#000000\">2</text>\n</g>\n<!-- 22&#45;&gt;23 -->\n<g id=\"edge23\" class=\"edge\">\n<title>22&#45;&gt;23</title>\n<path fill=\"none\" stroke=\"#000000\" d=\"M1945.5,-213.7677C1945.5,-205.6172 1945.5,-196.9283 1945.5,-188.4649\"/>\n<polygon fill=\"#000000\" stroke=\"#000000\" points=\"1949.0001,-188.3046 1945.5,-178.3046 1942.0001,-188.3047 1949.0001,-188.3046\"/>\n</g>\n<!-- 26 -->\n<g id=\"node27\" class=\"node\">\n<title>26</title>\n<path fill=\"#f2c2a0\" stroke=\"#000000\" d=\"M2275,-178C2275,-178 2136,-178 2136,-178 2130,-178 2124,-172 2124,-166 2124,-166 2124,-112 2124,-112 2124,-106 2130,-100 2136,-100 2136,-100 2275,-100 2275,-100 2281,-100 2287,-106 2287,-112 2287,-112 2287,-166 2287,-166 2287,-172 2281,-178 2275,-178\"/>\n<text text-anchor=\"start\" x=\"2173.5\" y=\"-163.8\" font-family=\"Helvetica,sans-Serif\" font-size=\"14.00\" fill=\"#000000\">G1 ≤ 15.5</text>\n<text text-anchor=\"start\" x=\"2154.5\" y=\"-149.8\" font-family=\"Helvetica,sans-Serif\" font-size=\"14.00\" fill=\"#000000\">entropy = 0.926</text>\n<text text-anchor=\"start\" x=\"2161.5\" y=\"-135.8\" font-family=\"Helvetica,sans-Serif\" font-size=\"14.00\" fill=\"#000000\">samples = 41</text>\n<text text-anchor=\"start\" x=\"2132\" y=\"-121.8\" font-family=\"Helvetica,sans-Serif\" font-size=\"14.00\" fill=\"#000000\">value = [27, 0, 14, 0, 0]</text>\n<text text-anchor=\"start\" x=\"2173\" y=\"-107.8\" font-family=\"Helvetica,sans-Serif\" font-size=\"14.00\" fill=\"#000000\">class = y</text>\n<text text-anchor=\"start\" x=\"2231\" y=\"-107.8\" font-family=\"Helvetica,sans-Serif\" baseline-shift=\"sub\" font-size=\"14.00\" fill=\"#000000\">0</text>\n</g>\n<!-- 22&#45;&gt;26 -->\n<g id=\"edge26\" class=\"edge\">\n<title>22&#45;&gt;26</title>\n<path fill=\"none\" stroke=\"#000000\" d=\"M2031.3543,-215.3562C2057.9494,-203.6952 2087.3417,-190.8079 2114.2867,-178.9935\"/>\n<polygon fill=\"#000000\" stroke=\"#000000\" points=\"2115.954,-182.0842 2123.7069,-174.8631 2113.143,-175.6734 2115.954,-182.0842\"/>\n</g>\n<!-- 24 -->\n<g id=\"node25\" class=\"node\">\n<title>24</title>\n<path fill=\"#39e5c5\" stroke=\"#000000\" d=\"M1929,-64C1929,-64 1798,-64 1798,-64 1792,-64 1786,-58 1786,-52 1786,-52 1786,-12 1786,-12 1786,-6 1792,0 1798,0 1798,0 1929,0 1929,0 1935,0 1941,-6 1941,-12 1941,-12 1941,-52 1941,-52 1941,-58 1935,-64 1929,-64\"/>\n<text text-anchor=\"start\" x=\"1821\" y=\"-49.8\" font-family=\"Helvetica,sans-Serif\" font-size=\"14.00\" fill=\"#000000\">entropy = 0.0</text>\n<text text-anchor=\"start\" x=\"1819.5\" y=\"-35.8\" font-family=\"Helvetica,sans-Serif\" font-size=\"14.00\" fill=\"#000000\">samples = 70</text>\n<text text-anchor=\"start\" x=\"1794\" y=\"-21.8\" font-family=\"Helvetica,sans-Serif\" font-size=\"14.00\" fill=\"#000000\">value = [0, 0, 70, 0, 0]</text>\n<text text-anchor=\"start\" x=\"1831\" y=\"-7.8\" font-family=\"Helvetica,sans-Serif\" font-size=\"14.00\" fill=\"#000000\">class = y</text>\n<text text-anchor=\"start\" x=\"1889\" y=\"-7.8\" font-family=\"Helvetica,sans-Serif\" baseline-shift=\"sub\" font-size=\"14.00\" fill=\"#000000\">2</text>\n</g>\n<!-- 23&#45;&gt;24 -->\n<g id=\"edge24\" class=\"edge\">\n<title>23&#45;&gt;24</title>\n<path fill=\"none\" stroke=\"#000000\" d=\"M1915.4318,-99.7647C1908.5727,-90.8144 1901.2732,-81.2894 1894.3807,-72.2955\"/>\n<polygon fill=\"#000000\" stroke=\"#000000\" points=\"1897.0504,-70.0252 1888.1896,-64.2169 1891.4943,-74.2831 1897.0504,-70.0252\"/>\n</g>\n<!-- 25 -->\n<g id=\"node26\" class=\"node\">\n<title>25</title>\n<path fill=\"#4ee8cb\" stroke=\"#000000\" d=\"M2102,-64C2102,-64 1971,-64 1971,-64 1965,-64 1959,-58 1959,-52 1959,-52 1959,-12 1959,-12 1959,-6 1965,0 1971,0 1971,0 2102,0 2102,0 2108,0 2114,-6 2114,-12 2114,-12 2114,-52 2114,-52 2114,-58 2108,-64 2102,-64\"/>\n<text text-anchor=\"start\" x=\"1985.5\" y=\"-49.8\" font-family=\"Helvetica,sans-Serif\" font-size=\"14.00\" fill=\"#000000\">entropy = 0.569</text>\n<text text-anchor=\"start\" x=\"1992.5\" y=\"-35.8\" font-family=\"Helvetica,sans-Serif\" font-size=\"14.00\" fill=\"#000000\">samples = 20</text>\n<text text-anchor=\"start\" x=\"1967\" y=\"-21.8\" font-family=\"Helvetica,sans-Serif\" font-size=\"14.00\" fill=\"#000000\">value = [1, 0, 18, 0, 1]</text>\n<text text-anchor=\"start\" x=\"2004\" y=\"-7.8\" font-family=\"Helvetica,sans-Serif\" font-size=\"14.00\" fill=\"#000000\">class = y</text>\n<text text-anchor=\"start\" x=\"2062\" y=\"-7.8\" font-family=\"Helvetica,sans-Serif\" baseline-shift=\"sub\" font-size=\"14.00\" fill=\"#000000\">2</text>\n</g>\n<!-- 23&#45;&gt;25 -->\n<g id=\"edge25\" class=\"edge\">\n<title>23&#45;&gt;25</title>\n<path fill=\"none\" stroke=\"#000000\" d=\"M1978.8683,-99.7647C1986.558,-90.7231 1994.7463,-81.095 2002.464,-72.0204\"/>\n<polygon fill=\"#000000\" stroke=\"#000000\" points=\"2005.2882,-74.102 2009.1006,-64.2169 1999.9558,-69.567 2005.2882,-74.102\"/>\n</g>\n<!-- 27 -->\n<g id=\"node28\" class=\"node\">\n<title>27</title>\n<path fill=\"#39e5c5\" stroke=\"#000000\" d=\"M2266.5,-64C2266.5,-64 2144.5,-64 2144.5,-64 2138.5,-64 2132.5,-58 2132.5,-52 2132.5,-52 2132.5,-12 2132.5,-12 2132.5,-6 2138.5,0 2144.5,0 2144.5,0 2266.5,0 2266.5,0 2272.5,0 2278.5,-6 2278.5,-12 2278.5,-12 2278.5,-52 2278.5,-52 2278.5,-58 2272.5,-64 2266.5,-64\"/>\n<text text-anchor=\"start\" x=\"2163\" y=\"-49.8\" font-family=\"Helvetica,sans-Serif\" font-size=\"14.00\" fill=\"#000000\">entropy = 0.0</text>\n<text text-anchor=\"start\" x=\"2166\" y=\"-35.8\" font-family=\"Helvetica,sans-Serif\" font-size=\"14.00\" fill=\"#000000\">samples = 5</text>\n<text text-anchor=\"start\" x=\"2140.5\" y=\"-21.8\" font-family=\"Helvetica,sans-Serif\" font-size=\"14.00\" fill=\"#000000\">value = [0, 0, 5, 0, 0]</text>\n<text text-anchor=\"start\" x=\"2173\" y=\"-7.8\" font-family=\"Helvetica,sans-Serif\" font-size=\"14.00\" fill=\"#000000\">class = y</text>\n<text text-anchor=\"start\" x=\"2231\" y=\"-7.8\" font-family=\"Helvetica,sans-Serif\" baseline-shift=\"sub\" font-size=\"14.00\" fill=\"#000000\">2</text>\n</g>\n<!-- 26&#45;&gt;27 -->\n<g id=\"edge27\" class=\"edge\">\n<title>26&#45;&gt;27</title>\n<path fill=\"none\" stroke=\"#000000\" d=\"M2205.5,-99.7647C2205.5,-91.4537 2205.5,-82.6472 2205.5,-74.2305\"/>\n<polygon fill=\"#000000\" stroke=\"#000000\" points=\"2209.0001,-74.2168 2205.5,-64.2169 2202.0001,-74.2169 2209.0001,-74.2168\"/>\n</g>\n<!-- 28 -->\n<g id=\"node29\" class=\"node\">\n<title>28</title>\n<path fill=\"#eeab7b\" stroke=\"#000000\" d=\"M2440,-64C2440,-64 2309,-64 2309,-64 2303,-64 2297,-58 2297,-52 2297,-52 2297,-12 2297,-12 2297,-6 2303,0 2309,0 2309,0 2440,0 2440,0 2446,0 2452,-6 2452,-12 2452,-12 2452,-52 2452,-52 2452,-58 2446,-64 2440,-64\"/>\n<text text-anchor=\"start\" x=\"2323.5\" y=\"-49.8\" font-family=\"Helvetica,sans-Serif\" font-size=\"14.00\" fill=\"#000000\">entropy = 0.811</text>\n<text text-anchor=\"start\" x=\"2330.5\" y=\"-35.8\" font-family=\"Helvetica,sans-Serif\" font-size=\"14.00\" fill=\"#000000\">samples = 36</text>\n<text text-anchor=\"start\" x=\"2305\" y=\"-21.8\" font-family=\"Helvetica,sans-Serif\" font-size=\"14.00\" fill=\"#000000\">value = [27, 0, 9, 0, 0]</text>\n<text text-anchor=\"start\" x=\"2342\" y=\"-7.8\" font-family=\"Helvetica,sans-Serif\" font-size=\"14.00\" fill=\"#000000\">class = y</text>\n<text text-anchor=\"start\" x=\"2400\" y=\"-7.8\" font-family=\"Helvetica,sans-Serif\" baseline-shift=\"sub\" font-size=\"14.00\" fill=\"#000000\">0</text>\n</g>\n<!-- 26&#45;&gt;28 -->\n<g id=\"edge28\" class=\"edge\">\n<title>26&#45;&gt;28</title>\n<path fill=\"none\" stroke=\"#000000\" d=\"M2267.4697,-99.7647C2283.1282,-89.8508 2299.9002,-79.2318 2315.4125,-69.4105\"/>\n<polygon fill=\"#000000\" stroke=\"#000000\" points=\"2317.309,-72.3523 2323.8857,-64.0458 2313.5644,-66.438 2317.309,-72.3523\"/>\n</g>\n</g>\n</svg>\n"
          },
          "metadata": {
            "tags": []
          },
          "execution_count": 44
        }
      ]
    },
    {
      "cell_type": "markdown",
      "metadata": {
        "id": "xpID_Ss0YuA0"
      },
      "source": [
        "# Confusion matrix"
      ]
    },
    {
      "cell_type": "code",
      "metadata": {
        "colab": {
          "base_uri": "https://localhost:8080/"
        },
        "id": "cSlnDAmqYvZY",
        "outputId": "477a2b48-3d77-4c91-dbde-43cf04b2284b"
      },
      "source": [
        "# Print the Confusion Matrix and slice it into four pieces\n",
        "\n",
        "from sklearn.metrics import confusion_matrix\n",
        "\n",
        "cm = confusion_matrix(y_test, y_pred_en)\n",
        "\n",
        "print('Confusion matrix\\n\\n', cm)\n"
      ],
      "execution_count": null,
      "outputs": [
        {
          "output_type": "stream",
          "text": [
            "Confusion matrix\n",
            "\n",
            " [[ 7  0  0  0  0]\n",
            " [ 0  7  0  6  0]\n",
            " [ 5  0 29  0  4]\n",
            " [ 0  0  0 53  5]\n",
            " [ 0  0  6  9 78]]\n"
          ],
          "name": "stdout"
        }
      ]
    },
    {
      "cell_type": "markdown",
      "metadata": {
        "id": "vGayzhpCY4XR"
      },
      "source": [
        "# Classification Report "
      ]
    },
    {
      "cell_type": "code",
      "metadata": {
        "colab": {
          "base_uri": "https://localhost:8080/"
        },
        "id": "Eydao_mcY1zi",
        "outputId": "b659da3b-b34c-40f1-838c-b84883b46dc6"
      },
      "source": [
        "from sklearn.metrics import classification_report\n",
        "\n",
        "print(classification_report(y_test, y_pred_en))"
      ],
      "execution_count": null,
      "outputs": [
        {
          "output_type": "stream",
          "text": [
            "              precision    recall  f1-score   support\n",
            "\n",
            "   Excellent       0.58      1.00      0.74         7\n",
            "     Failure       1.00      0.54      0.70        13\n",
            "        Good       0.83      0.76      0.79        38\n",
            "        Poor       0.78      0.91      0.84        58\n",
            "Satisfactory       0.90      0.84      0.87        93\n",
            "\n",
            "    accuracy                           0.83       209\n",
            "   macro avg       0.82      0.81      0.79       209\n",
            "weighted avg       0.85      0.83      0.83       209\n",
            "\n"
          ],
          "name": "stdout"
        }
      ]
    },
    {
      "cell_type": "markdown",
      "metadata": {
        "id": "T1jBVa29dqSJ"
      },
      "source": [
        "# make new predictions"
      ]
    },
    {
      "cell_type": "code",
      "metadata": {
        "colab": {
          "base_uri": "https://localhost:8080/"
        },
        "id": "T61beLoDdtmY",
        "outputId": "36957db4-2e20-4dc8-d9e7-4e4451879e75"
      },
      "source": [
        "clf_en.predict([[2,1,19,2,0,2,1,1,3,2,3,3,3,1,1,1,1,1,1,1,1,2,1,4,4,4,3,3,5,4,8,9,2,2,1,1]])"
      ],
      "execution_count": null,
      "outputs": [
        {
          "output_type": "execute_result",
          "data": {
            "text/plain": [
              "array(['Poor'], dtype=object)"
            ]
          },
          "metadata": {
            "tags": []
          },
          "execution_count": 55
        }
      ]
    },
    {
      "cell_type": "code",
      "metadata": {
        "colab": {
          "base_uri": "https://localhost:8080/"
        },
        "id": "cKXCAqyeppR8",
        "outputId": "bf744f0c-4db8-4286-f2a4-65251a07b145"
      },
      "source": [
        "clf_en.predict([[1,1,18,1,0,2,4,2,2,2,1,2,1,2,0,1,1,1,2,1,1,2,2,5,4,5,1,3,5,4,10,12,2,2,1,2]])"
      ],
      "execution_count": null,
      "outputs": [
        {
          "output_type": "execute_result",
          "data": {
            "text/plain": [
              "array(['Satisfactory'], dtype=object)"
            ]
          },
          "metadata": {
            "tags": []
          },
          "execution_count": 48
        }
      ]
    },
    {
      "cell_type": "code",
      "metadata": {
        "colab": {
          "base_uri": "https://localhost:8080/"
        },
        "id": "251rXHeYrbTm",
        "outputId": "60de6918-b0df-4e43-b175-fa4a1dd3197b"
      },
      "source": [
        "clf_en.predict([[1,1,18,1,1,1,4,4,1,4,1,1,1,2,0,1,1,1,2,1,1,2,1,5,4,3,1,1,2,0,17,17,2,2,3,3]])"
      ],
      "execution_count": null,
      "outputs": [
        {
          "output_type": "execute_result",
          "data": {
            "text/plain": [
              "array(['Excellent'], dtype=object)"
            ]
          },
          "metadata": {
            "tags": []
          },
          "execution_count": 49
        }
      ]
    },
    {
      "cell_type": "code",
      "metadata": {
        "colab": {
          "base_uri": "https://localhost:8080/"
        },
        "id": "PCHyWSV5rpRr",
        "outputId": "b1c9b587-3938-4d62-f1a6-9840e37bd39e"
      },
      "source": [
        "clf_en.predict([[1,2,16,1,1,2,3,3,3,2,1,1,2,2,0,1,1,1,2,1,1,2,1,4,4,5,1,1,4,0,14,14,2,2,2,2]])"
      ],
      "execution_count": null,
      "outputs": [
        {
          "output_type": "execute_result",
          "data": {
            "text/plain": [
              "array(['Good'], dtype=object)"
            ]
          },
          "metadata": {
            "tags": []
          },
          "execution_count": 50
        }
      ]
    },
    {
      "cell_type": "code",
      "metadata": {
        "colab": {
          "base_uri": "https://localhost:8080/"
        },
        "id": "WmBwufnDr7v4",
        "outputId": "5d3a7b94-e66b-48cc-dbaf-31aa42edc2b0"
      },
      "source": [
        "clf_en.predict([[1,2,19,2,0,2,3,4,1,4,2,1,1,1,0,1,2,1,2,2,1,2,1,3,5,5,2,5,4,5,12,15,2,1,1,1]])"
      ],
      "execution_count": null,
      "outputs": [
        {
          "output_type": "execute_result",
          "data": {
            "text/plain": [
              "array(['Satisfactory'], dtype=object)"
            ]
          },
          "metadata": {
            "tags": []
          },
          "execution_count": 70
        }
      ]
    },
    {
      "cell_type": "code",
      "metadata": {
        "colab": {
          "base_uri": "https://localhost:8080/"
        },
        "id": "ekyjsF9esk_2",
        "outputId": "0b7f6829-5a64-4e89-ebf4-e57c292915af"
      },
      "source": [
        "clf_en.predict([[2,2,16,1,0,2,3,1,3,2,4,1,1,1,0,1,2,1,2,1,1,2,1,3,1,3,1,3,1,0,8,6,2,2,1,1]])"
      ],
      "execution_count": null,
      "outputs": [
        {
          "output_type": "execute_result",
          "data": {
            "text/plain": [
              "array(['Poor'], dtype=object)"
            ]
          },
          "metadata": {
            "tags": []
          },
          "execution_count": 52
        }
      ]
    },
    {
      "cell_type": "code",
      "metadata": {
        "colab": {
          "base_uri": "https://localhost:8080/"
        },
        "id": "72i_dL7WsrBj",
        "outputId": "aae8fdb4-ce57-4f88-b0f2-cbc975a8e57f"
      },
      "source": [
        "clf_en.predict([[2,2,16,1,0,2,3,1,3,2,4,1,1,1,0,1,2,1,2,1,1,2,1,3,1,3,1,3,1,0,8,6,2,2,1,1]])"
      ],
      "execution_count": null,
      "outputs": [
        {
          "output_type": "execute_result",
          "data": {
            "text/plain": [
              "array(['Poor'], dtype=object)"
            ]
          },
          "metadata": {
            "tags": []
          },
          "execution_count": 53
        }
      ]
    },
    {
      "cell_type": "code",
      "metadata": {
        "colab": {
          "base_uri": "https://localhost:8080/"
        },
        "id": "DoarEPNQVa4i",
        "outputId": "368cd621-beaa-49e5-f0ee-ee02c53b3581"
      },
      "source": [
        "clf_en.predict([[4,2,15,1,0,2,3,1,3,2,4,1,1,1,0,1,2,1,2,1,1,2,1,3,1,3,1,3,1,0,7,6,2,1,1,1]])"
      ],
      "execution_count": null,
      "outputs": [
        {
          "output_type": "execute_result",
          "data": {
            "text/plain": [
              "array(['Poor'], dtype=object)"
            ]
          },
          "metadata": {
            "tags": []
          },
          "execution_count": 56
        }
      ]
    },
    {
      "cell_type": "code",
      "metadata": {
        "colab": {
          "base_uri": "https://localhost:8080/",
          "height": 323
        },
        "id": "VuGQnvrReDBL",
        "outputId": "4b2bb022-caee-4710-ca53-83727add275e"
      },
      "source": [
        "x1 = encoder.transform([['GP','F',18,'U',0,'A',4,4,'at_home','teacher','course','mother',2,2,0,'yes','no','no','no','yes','yes','no','no',4,3,4,1,1,3,6,5,6,'maths','Always regular','Failure','Poor']])"
      ],
      "execution_count": null,
      "outputs": [
        {
          "output_type": "error",
          "ename": "KeyError",
          "evalue": "ignored",
          "traceback": [
            "\u001b[0;31m---------------------------------------------------------------------------\u001b[0m",
            "\u001b[0;31mKeyError\u001b[0m                                  Traceback (most recent call last)",
            "\u001b[0;32m<ipython-input-73-3738588b67d1>\u001b[0m in \u001b[0;36m<module>\u001b[0;34m()\u001b[0m\n\u001b[0;32m----> 1\u001b[0;31m \u001b[0mx1\u001b[0m \u001b[0;34m=\u001b[0m \u001b[0mencoder\u001b[0m\u001b[0;34m.\u001b[0m\u001b[0mtransform\u001b[0m\u001b[0;34m(\u001b[0m\u001b[0;34m[\u001b[0m\u001b[0;34m[\u001b[0m\u001b[0;34m'GP'\u001b[0m\u001b[0;34m,\u001b[0m\u001b[0;34m'F'\u001b[0m\u001b[0;34m,\u001b[0m\u001b[0;36m18\u001b[0m\u001b[0;34m,\u001b[0m\u001b[0;34m'U'\u001b[0m\u001b[0;34m,\u001b[0m\u001b[0;36m0\u001b[0m\u001b[0;34m,\u001b[0m\u001b[0;34m'A'\u001b[0m\u001b[0;34m,\u001b[0m\u001b[0;36m4\u001b[0m\u001b[0;34m,\u001b[0m\u001b[0;36m4\u001b[0m\u001b[0;34m,\u001b[0m\u001b[0;34m'at_home'\u001b[0m\u001b[0;34m,\u001b[0m\u001b[0;34m'teacher'\u001b[0m\u001b[0;34m,\u001b[0m\u001b[0;34m'course'\u001b[0m\u001b[0;34m,\u001b[0m\u001b[0;34m'mother'\u001b[0m\u001b[0;34m,\u001b[0m\u001b[0;36m2\u001b[0m\u001b[0;34m,\u001b[0m\u001b[0;36m2\u001b[0m\u001b[0;34m,\u001b[0m\u001b[0;36m0\u001b[0m\u001b[0;34m,\u001b[0m\u001b[0;34m'yes'\u001b[0m\u001b[0;34m,\u001b[0m\u001b[0;34m'no'\u001b[0m\u001b[0;34m,\u001b[0m\u001b[0;34m'no'\u001b[0m\u001b[0;34m,\u001b[0m\u001b[0;34m'no'\u001b[0m\u001b[0;34m,\u001b[0m\u001b[0;34m'yes'\u001b[0m\u001b[0;34m,\u001b[0m\u001b[0;34m'yes'\u001b[0m\u001b[0;34m,\u001b[0m\u001b[0;34m'no'\u001b[0m\u001b[0;34m,\u001b[0m\u001b[0;34m'no'\u001b[0m\u001b[0;34m,\u001b[0m\u001b[0;36m4\u001b[0m\u001b[0;34m,\u001b[0m\u001b[0;36m3\u001b[0m\u001b[0;34m,\u001b[0m\u001b[0;36m4\u001b[0m\u001b[0;34m,\u001b[0m\u001b[0;36m1\u001b[0m\u001b[0;34m,\u001b[0m\u001b[0;36m1\u001b[0m\u001b[0;34m,\u001b[0m\u001b[0;36m3\u001b[0m\u001b[0;34m,\u001b[0m\u001b[0;36m6\u001b[0m\u001b[0;34m,\u001b[0m\u001b[0;36m5\u001b[0m\u001b[0;34m,\u001b[0m\u001b[0;36m6\u001b[0m\u001b[0;34m,\u001b[0m\u001b[0;34m'maths'\u001b[0m\u001b[0;34m,\u001b[0m\u001b[0;34m'Always regular'\u001b[0m\u001b[0;34m,\u001b[0m\u001b[0;34m'Failure'\u001b[0m\u001b[0;34m,\u001b[0m\u001b[0;34m'Poor'\u001b[0m\u001b[0;34m]\u001b[0m\u001b[0;34m]\u001b[0m\u001b[0;34m)\u001b[0m\u001b[0;34m\u001b[0m\u001b[0;34m\u001b[0m\u001b[0m\n\u001b[0m",
            "\u001b[0;32m/usr/local/lib/python3.7/dist-packages/category_encoders/ordinal.py\u001b[0m in \u001b[0;36mtransform\u001b[0;34m(self, X, override_return_df)\u001b[0m\n\u001b[1;32m    206\u001b[0m             \u001b[0mcols\u001b[0m\u001b[0;34m=\u001b[0m\u001b[0mself\u001b[0m\u001b[0;34m.\u001b[0m\u001b[0mcols\u001b[0m\u001b[0;34m,\u001b[0m\u001b[0;34m\u001b[0m\u001b[0;34m\u001b[0m\u001b[0m\n\u001b[1;32m    207\u001b[0m             \u001b[0mhandle_unknown\u001b[0m\u001b[0;34m=\u001b[0m\u001b[0mself\u001b[0m\u001b[0;34m.\u001b[0m\u001b[0mhandle_unknown\u001b[0m\u001b[0;34m,\u001b[0m\u001b[0;34m\u001b[0m\u001b[0;34m\u001b[0m\u001b[0m\n\u001b[0;32m--> 208\u001b[0;31m             \u001b[0mhandle_missing\u001b[0m\u001b[0;34m=\u001b[0m\u001b[0mself\u001b[0m\u001b[0;34m.\u001b[0m\u001b[0mhandle_missing\u001b[0m\u001b[0;34m\u001b[0m\u001b[0;34m\u001b[0m\u001b[0m\n\u001b[0m\u001b[1;32m    209\u001b[0m         )\n\u001b[1;32m    210\u001b[0m \u001b[0;34m\u001b[0m\u001b[0m\n",
            "\u001b[0;32m/usr/local/lib/python3.7/dist-packages/category_encoders/ordinal.py\u001b[0m in \u001b[0;36mordinal_encoding\u001b[0;34m(X_in, mapping, cols, handle_unknown, handle_missing)\u001b[0m\n\u001b[1;32m    291\u001b[0m                 \u001b[0mcolumn\u001b[0m \u001b[0;34m=\u001b[0m \u001b[0mswitch\u001b[0m\u001b[0;34m.\u001b[0m\u001b[0mget\u001b[0m\u001b[0;34m(\u001b[0m\u001b[0;34m'col'\u001b[0m\u001b[0;34m)\u001b[0m\u001b[0;34m\u001b[0m\u001b[0;34m\u001b[0m\u001b[0m\n\u001b[1;32m    292\u001b[0m                 \u001b[0mcol_mapping\u001b[0m \u001b[0;34m=\u001b[0m \u001b[0mswitch\u001b[0m\u001b[0;34m[\u001b[0m\u001b[0;34m'mapping'\u001b[0m\u001b[0;34m]\u001b[0m\u001b[0;34m\u001b[0m\u001b[0;34m\u001b[0m\u001b[0m\n\u001b[0;32m--> 293\u001b[0;31m                 \u001b[0mX\u001b[0m\u001b[0;34m[\u001b[0m\u001b[0mcolumn\u001b[0m\u001b[0;34m]\u001b[0m \u001b[0;34m=\u001b[0m \u001b[0mX\u001b[0m\u001b[0;34m[\u001b[0m\u001b[0mcolumn\u001b[0m\u001b[0;34m]\u001b[0m\u001b[0;34m.\u001b[0m\u001b[0mmap\u001b[0m\u001b[0;34m(\u001b[0m\u001b[0mcol_mapping\u001b[0m\u001b[0;34m)\u001b[0m\u001b[0;34m\u001b[0m\u001b[0;34m\u001b[0m\u001b[0m\n\u001b[0m\u001b[1;32m    294\u001b[0m \u001b[0;34m\u001b[0m\u001b[0m\n\u001b[1;32m    295\u001b[0m                 \u001b[0;32mif\u001b[0m \u001b[0mutil\u001b[0m\u001b[0;34m.\u001b[0m\u001b[0mis_category\u001b[0m\u001b[0;34m(\u001b[0m\u001b[0mX\u001b[0m\u001b[0;34m[\u001b[0m\u001b[0mcolumn\u001b[0m\u001b[0;34m]\u001b[0m\u001b[0;34m.\u001b[0m\u001b[0mdtype\u001b[0m\u001b[0;34m)\u001b[0m\u001b[0;34m:\u001b[0m\u001b[0;34m\u001b[0m\u001b[0;34m\u001b[0m\u001b[0m\n",
            "\u001b[0;32m/usr/local/lib/python3.7/dist-packages/pandas/core/frame.py\u001b[0m in \u001b[0;36m__getitem__\u001b[0;34m(self, key)\u001b[0m\n\u001b[1;32m   2904\u001b[0m             \u001b[0;32mif\u001b[0m \u001b[0mself\u001b[0m\u001b[0;34m.\u001b[0m\u001b[0mcolumns\u001b[0m\u001b[0;34m.\u001b[0m\u001b[0mnlevels\u001b[0m \u001b[0;34m>\u001b[0m \u001b[0;36m1\u001b[0m\u001b[0;34m:\u001b[0m\u001b[0;34m\u001b[0m\u001b[0;34m\u001b[0m\u001b[0m\n\u001b[1;32m   2905\u001b[0m                 \u001b[0;32mreturn\u001b[0m \u001b[0mself\u001b[0m\u001b[0;34m.\u001b[0m\u001b[0m_getitem_multilevel\u001b[0m\u001b[0;34m(\u001b[0m\u001b[0mkey\u001b[0m\u001b[0;34m)\u001b[0m\u001b[0;34m\u001b[0m\u001b[0;34m\u001b[0m\u001b[0m\n\u001b[0;32m-> 2906\u001b[0;31m             \u001b[0mindexer\u001b[0m \u001b[0;34m=\u001b[0m \u001b[0mself\u001b[0m\u001b[0;34m.\u001b[0m\u001b[0mcolumns\u001b[0m\u001b[0;34m.\u001b[0m\u001b[0mget_loc\u001b[0m\u001b[0;34m(\u001b[0m\u001b[0mkey\u001b[0m\u001b[0;34m)\u001b[0m\u001b[0;34m\u001b[0m\u001b[0;34m\u001b[0m\u001b[0m\n\u001b[0m\u001b[1;32m   2907\u001b[0m             \u001b[0;32mif\u001b[0m \u001b[0mis_integer\u001b[0m\u001b[0;34m(\u001b[0m\u001b[0mindexer\u001b[0m\u001b[0;34m)\u001b[0m\u001b[0;34m:\u001b[0m\u001b[0;34m\u001b[0m\u001b[0;34m\u001b[0m\u001b[0m\n\u001b[1;32m   2908\u001b[0m                 \u001b[0mindexer\u001b[0m \u001b[0;34m=\u001b[0m \u001b[0;34m[\u001b[0m\u001b[0mindexer\u001b[0m\u001b[0;34m]\u001b[0m\u001b[0;34m\u001b[0m\u001b[0;34m\u001b[0m\u001b[0m\n",
            "\u001b[0;32m/usr/local/lib/python3.7/dist-packages/pandas/core/indexes/range.py\u001b[0m in \u001b[0;36mget_loc\u001b[0;34m(self, key, method, tolerance)\u001b[0m\n\u001b[1;32m    356\u001b[0m                 \u001b[0;32mexcept\u001b[0m \u001b[0mValueError\u001b[0m \u001b[0;32mas\u001b[0m \u001b[0merr\u001b[0m\u001b[0;34m:\u001b[0m\u001b[0;34m\u001b[0m\u001b[0;34m\u001b[0m\u001b[0m\n\u001b[1;32m    357\u001b[0m                     \u001b[0;32mraise\u001b[0m \u001b[0mKeyError\u001b[0m\u001b[0;34m(\u001b[0m\u001b[0mkey\u001b[0m\u001b[0;34m)\u001b[0m \u001b[0;32mfrom\u001b[0m \u001b[0merr\u001b[0m\u001b[0;34m\u001b[0m\u001b[0;34m\u001b[0m\u001b[0m\n\u001b[0;32m--> 358\u001b[0;31m             \u001b[0;32mraise\u001b[0m \u001b[0mKeyError\u001b[0m\u001b[0;34m(\u001b[0m\u001b[0mkey\u001b[0m\u001b[0;34m)\u001b[0m\u001b[0;34m\u001b[0m\u001b[0;34m\u001b[0m\u001b[0m\n\u001b[0m\u001b[1;32m    359\u001b[0m         \u001b[0;32mreturn\u001b[0m \u001b[0msuper\u001b[0m\u001b[0;34m(\u001b[0m\u001b[0;34m)\u001b[0m\u001b[0;34m.\u001b[0m\u001b[0mget_loc\u001b[0m\u001b[0;34m(\u001b[0m\u001b[0mkey\u001b[0m\u001b[0;34m,\u001b[0m \u001b[0mmethod\u001b[0m\u001b[0;34m=\u001b[0m\u001b[0mmethod\u001b[0m\u001b[0;34m,\u001b[0m \u001b[0mtolerance\u001b[0m\u001b[0;34m=\u001b[0m\u001b[0mtolerance\u001b[0m\u001b[0;34m)\u001b[0m\u001b[0;34m\u001b[0m\u001b[0;34m\u001b[0m\u001b[0m\n\u001b[1;32m    360\u001b[0m \u001b[0;34m\u001b[0m\u001b[0m\n",
            "\u001b[0;31mKeyError\u001b[0m: 'school'"
          ]
        }
      ]
    },
    {
      "cell_type": "code",
      "metadata": {
        "id": "AF7-siZMeRgR"
      },
      "source": [
        "clf_en.predict(x1)"
      ],
      "execution_count": null,
      "outputs": []
    }
  ]
}